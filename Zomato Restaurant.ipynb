{
 "cells": [
  {
   "cell_type": "code",
   "execution_count": 1,
   "id": "4f655abd",
   "metadata": {
    "execution": {
     "iopub.execute_input": "2023-08-24T16:14:01.055679Z",
     "iopub.status.busy": "2023-08-24T16:14:01.054994Z",
     "iopub.status.idle": "2023-08-24T16:14:02.327180Z",
     "shell.execute_reply": "2023-08-24T16:14:02.326029Z"
    },
    "papermill": {
     "duration": 1.291343,
     "end_time": "2023-08-24T16:14:02.329814",
     "exception": false,
     "start_time": "2023-08-24T16:14:01.038471",
     "status": "completed"
    },
    "tags": []
   },
   "outputs": [],
   "source": [
    "import numpy as np\n",
    "import pandas as pd\n",
    "\n",
    "import warnings\n",
    "warnings.filterwarnings('ignore')\n",
    "\n",
    "import matplotlib.pyplot as plt\n",
    "import seaborn as sns"
   ]
  },
  {
   "cell_type": "markdown",
   "id": "b942b0d7",
   "metadata": {
    "papermill": {
     "duration": 0.015053,
     "end_time": "2023-08-24T16:14:02.360395",
     "exception": false,
     "start_time": "2023-08-24T16:14:02.345342",
     "status": "completed"
    },
    "tags": []
   },
   "source": [
    "## Load data"
   ]
  },
  {
   "cell_type": "code",
   "execution_count": 2,
   "id": "bf495307",
   "metadata": {
    "execution": {
     "iopub.execute_input": "2023-08-24T16:14:02.393301Z",
     "iopub.status.busy": "2023-08-24T16:14:02.392894Z",
     "iopub.status.idle": "2023-08-24T16:14:02.495311Z",
     "shell.execute_reply": "2023-08-24T16:14:02.494494Z"
    },
    "papermill": {
     "duration": 0.121916,
     "end_time": "2023-08-24T16:14:02.497770",
     "exception": false,
     "start_time": "2023-08-24T16:14:02.375854",
     "status": "completed"
    },
    "tags": []
   },
   "outputs": [],
   "source": [
    "#reading the dataset and encoding it  \n",
    "df1=pd.read_csv('https://raw.githubusercontent.com/dsrscientist/dataset4/main/zomato.csv')"
   ]
  },
  {
   "cell_type": "markdown",
   "id": "798c125f",
   "metadata": {
    "papermill": {
     "duration": 0.015132,
     "end_time": "2023-08-24T16:14:02.528478",
     "exception": false,
     "start_time": "2023-08-24T16:14:02.513346",
     "status": "completed"
    },
    "tags": []
   },
   "source": [
    "## Data Exploration"
   ]
  },
  {
   "cell_type": "code",
   "execution_count": 3,
   "id": "f86c9081",
   "metadata": {
    "execution": {
     "iopub.execute_input": "2023-08-24T16:14:02.561198Z",
     "iopub.status.busy": "2023-08-24T16:14:02.560779Z",
     "iopub.status.idle": "2023-08-24T16:14:02.607210Z",
     "shell.execute_reply": "2023-08-24T16:14:02.606373Z"
    },
    "papermill": {
     "duration": 0.065602,
     "end_time": "2023-08-24T16:14:02.609455",
     "exception": false,
     "start_time": "2023-08-24T16:14:02.543853",
     "status": "completed"
    },
    "tags": []
   },
   "outputs": [
    {
     "data": {
      "text/html": [
       "<div>\n",
       "<style scoped>\n",
       "    .dataframe tbody tr th:only-of-type {\n",
       "        vertical-align: middle;\n",
       "    }\n",
       "\n",
       "    .dataframe tbody tr th {\n",
       "        vertical-align: top;\n",
       "    }\n",
       "\n",
       "    .dataframe thead th {\n",
       "        text-align: right;\n",
       "    }\n",
       "</style>\n",
       "<table border=\"1\" class=\"dataframe\">\n",
       "  <thead>\n",
       "    <tr style=\"text-align: right;\">\n",
       "      <th></th>\n",
       "      <th>Restaurant ID</th>\n",
       "      <th>Restaurant Name</th>\n",
       "      <th>Country Code</th>\n",
       "      <th>City</th>\n",
       "      <th>Address</th>\n",
       "      <th>Locality</th>\n",
       "      <th>Locality Verbose</th>\n",
       "      <th>Longitude</th>\n",
       "      <th>Latitude</th>\n",
       "      <th>Cuisines</th>\n",
       "      <th>...</th>\n",
       "      <th>Currency</th>\n",
       "      <th>Has Table booking</th>\n",
       "      <th>Has Online delivery</th>\n",
       "      <th>Is delivering now</th>\n",
       "      <th>Switch to order menu</th>\n",
       "      <th>Price range</th>\n",
       "      <th>Aggregate rating</th>\n",
       "      <th>Rating color</th>\n",
       "      <th>Rating text</th>\n",
       "      <th>Votes</th>\n",
       "    </tr>\n",
       "  </thead>\n",
       "  <tbody>\n",
       "    <tr>\n",
       "      <th>0</th>\n",
       "      <td>6317637</td>\n",
       "      <td>Le Petit Souffle</td>\n",
       "      <td>162</td>\n",
       "      <td>Makati City</td>\n",
       "      <td>Third Floor, Century City Mall, Kalayaan Avenu...</td>\n",
       "      <td>Century City Mall, Poblacion, Makati City</td>\n",
       "      <td>Century City Mall, Poblacion, Makati City, Mak...</td>\n",
       "      <td>121.027535</td>\n",
       "      <td>14.565443</td>\n",
       "      <td>French, Japanese, Desserts</td>\n",
       "      <td>...</td>\n",
       "      <td>Botswana Pula(P)</td>\n",
       "      <td>Yes</td>\n",
       "      <td>No</td>\n",
       "      <td>No</td>\n",
       "      <td>No</td>\n",
       "      <td>3</td>\n",
       "      <td>4.8</td>\n",
       "      <td>Dark Green</td>\n",
       "      <td>Excellent</td>\n",
       "      <td>314</td>\n",
       "    </tr>\n",
       "    <tr>\n",
       "      <th>1</th>\n",
       "      <td>6304287</td>\n",
       "      <td>Izakaya Kikufuji</td>\n",
       "      <td>162</td>\n",
       "      <td>Makati City</td>\n",
       "      <td>Little Tokyo, 2277 Chino Roces Avenue, Legaspi...</td>\n",
       "      <td>Little Tokyo, Legaspi Village, Makati City</td>\n",
       "      <td>Little Tokyo, Legaspi Village, Makati City, Ma...</td>\n",
       "      <td>121.014101</td>\n",
       "      <td>14.553708</td>\n",
       "      <td>Japanese</td>\n",
       "      <td>...</td>\n",
       "      <td>Botswana Pula(P)</td>\n",
       "      <td>Yes</td>\n",
       "      <td>No</td>\n",
       "      <td>No</td>\n",
       "      <td>No</td>\n",
       "      <td>3</td>\n",
       "      <td>4.5</td>\n",
       "      <td>Dark Green</td>\n",
       "      <td>Excellent</td>\n",
       "      <td>591</td>\n",
       "    </tr>\n",
       "    <tr>\n",
       "      <th>2</th>\n",
       "      <td>6300002</td>\n",
       "      <td>Heat - Edsa Shangri-La</td>\n",
       "      <td>162</td>\n",
       "      <td>Mandaluyong City</td>\n",
       "      <td>Edsa Shangri-La, 1 Garden Way, Ortigas, Mandal...</td>\n",
       "      <td>Edsa Shangri-La, Ortigas, Mandaluyong City</td>\n",
       "      <td>Edsa Shangri-La, Ortigas, Mandaluyong City, Ma...</td>\n",
       "      <td>121.056831</td>\n",
       "      <td>14.581404</td>\n",
       "      <td>Seafood, Asian, Filipino, Indian</td>\n",
       "      <td>...</td>\n",
       "      <td>Botswana Pula(P)</td>\n",
       "      <td>Yes</td>\n",
       "      <td>No</td>\n",
       "      <td>No</td>\n",
       "      <td>No</td>\n",
       "      <td>4</td>\n",
       "      <td>4.4</td>\n",
       "      <td>Green</td>\n",
       "      <td>Very Good</td>\n",
       "      <td>270</td>\n",
       "    </tr>\n",
       "    <tr>\n",
       "      <th>3</th>\n",
       "      <td>6318506</td>\n",
       "      <td>Ooma</td>\n",
       "      <td>162</td>\n",
       "      <td>Mandaluyong City</td>\n",
       "      <td>Third Floor, Mega Fashion Hall, SM Megamall, O...</td>\n",
       "      <td>SM Megamall, Ortigas, Mandaluyong City</td>\n",
       "      <td>SM Megamall, Ortigas, Mandaluyong City, Mandal...</td>\n",
       "      <td>121.056475</td>\n",
       "      <td>14.585318</td>\n",
       "      <td>Japanese, Sushi</td>\n",
       "      <td>...</td>\n",
       "      <td>Botswana Pula(P)</td>\n",
       "      <td>No</td>\n",
       "      <td>No</td>\n",
       "      <td>No</td>\n",
       "      <td>No</td>\n",
       "      <td>4</td>\n",
       "      <td>4.9</td>\n",
       "      <td>Dark Green</td>\n",
       "      <td>Excellent</td>\n",
       "      <td>365</td>\n",
       "    </tr>\n",
       "    <tr>\n",
       "      <th>4</th>\n",
       "      <td>6314302</td>\n",
       "      <td>Sambo Kojin</td>\n",
       "      <td>162</td>\n",
       "      <td>Mandaluyong City</td>\n",
       "      <td>Third Floor, Mega Atrium, SM Megamall, Ortigas...</td>\n",
       "      <td>SM Megamall, Ortigas, Mandaluyong City</td>\n",
       "      <td>SM Megamall, Ortigas, Mandaluyong City, Mandal...</td>\n",
       "      <td>121.057508</td>\n",
       "      <td>14.584450</td>\n",
       "      <td>Japanese, Korean</td>\n",
       "      <td>...</td>\n",
       "      <td>Botswana Pula(P)</td>\n",
       "      <td>Yes</td>\n",
       "      <td>No</td>\n",
       "      <td>No</td>\n",
       "      <td>No</td>\n",
       "      <td>4</td>\n",
       "      <td>4.8</td>\n",
       "      <td>Dark Green</td>\n",
       "      <td>Excellent</td>\n",
       "      <td>229</td>\n",
       "    </tr>\n",
       "  </tbody>\n",
       "</table>\n",
       "<p>5 rows × 21 columns</p>\n",
       "</div>"
      ],
      "text/plain": [
       "   Restaurant ID         Restaurant Name  Country Code              City  \\\n",
       "0        6317637        Le Petit Souffle           162       Makati City   \n",
       "1        6304287        Izakaya Kikufuji           162       Makati City   \n",
       "2        6300002  Heat - Edsa Shangri-La           162  Mandaluyong City   \n",
       "3        6318506                    Ooma           162  Mandaluyong City   \n",
       "4        6314302             Sambo Kojin           162  Mandaluyong City   \n",
       "\n",
       "                                             Address  \\\n",
       "0  Third Floor, Century City Mall, Kalayaan Avenu...   \n",
       "1  Little Tokyo, 2277 Chino Roces Avenue, Legaspi...   \n",
       "2  Edsa Shangri-La, 1 Garden Way, Ortigas, Mandal...   \n",
       "3  Third Floor, Mega Fashion Hall, SM Megamall, O...   \n",
       "4  Third Floor, Mega Atrium, SM Megamall, Ortigas...   \n",
       "\n",
       "                                     Locality  \\\n",
       "0   Century City Mall, Poblacion, Makati City   \n",
       "1  Little Tokyo, Legaspi Village, Makati City   \n",
       "2  Edsa Shangri-La, Ortigas, Mandaluyong City   \n",
       "3      SM Megamall, Ortigas, Mandaluyong City   \n",
       "4      SM Megamall, Ortigas, Mandaluyong City   \n",
       "\n",
       "                                    Locality Verbose   Longitude   Latitude  \\\n",
       "0  Century City Mall, Poblacion, Makati City, Mak...  121.027535  14.565443   \n",
       "1  Little Tokyo, Legaspi Village, Makati City, Ma...  121.014101  14.553708   \n",
       "2  Edsa Shangri-La, Ortigas, Mandaluyong City, Ma...  121.056831  14.581404   \n",
       "3  SM Megamall, Ortigas, Mandaluyong City, Mandal...  121.056475  14.585318   \n",
       "4  SM Megamall, Ortigas, Mandaluyong City, Mandal...  121.057508  14.584450   \n",
       "\n",
       "                           Cuisines  ...          Currency Has Table booking  \\\n",
       "0        French, Japanese, Desserts  ...  Botswana Pula(P)               Yes   \n",
       "1                          Japanese  ...  Botswana Pula(P)               Yes   \n",
       "2  Seafood, Asian, Filipino, Indian  ...  Botswana Pula(P)               Yes   \n",
       "3                   Japanese, Sushi  ...  Botswana Pula(P)                No   \n",
       "4                  Japanese, Korean  ...  Botswana Pula(P)               Yes   \n",
       "\n",
       "  Has Online delivery Is delivering now Switch to order menu Price range  \\\n",
       "0                  No                No                   No           3   \n",
       "1                  No                No                   No           3   \n",
       "2                  No                No                   No           4   \n",
       "3                  No                No                   No           4   \n",
       "4                  No                No                   No           4   \n",
       "\n",
       "   Aggregate rating  Rating color Rating text Votes  \n",
       "0               4.8    Dark Green   Excellent   314  \n",
       "1               4.5    Dark Green   Excellent   591  \n",
       "2               4.4         Green   Very Good   270  \n",
       "3               4.9    Dark Green   Excellent   365  \n",
       "4               4.8    Dark Green   Excellent   229  \n",
       "\n",
       "[5 rows x 21 columns]"
      ]
     },
     "execution_count": 3,
     "metadata": {},
     "output_type": "execute_result"
    }
   ],
   "source": [
    "df1.head()"
   ]
  },
  {
   "cell_type": "code",
   "execution_count": 4,
   "id": "2fe9d650",
   "metadata": {
    "execution": {
     "iopub.execute_input": "2023-08-24T16:14:02.643807Z",
     "iopub.status.busy": "2023-08-24T16:14:02.643178Z",
     "iopub.status.idle": "2023-08-24T16:14:02.648421Z",
     "shell.execute_reply": "2023-08-24T16:14:02.647287Z"
    },
    "papermill": {
     "duration": 0.025192,
     "end_time": "2023-08-24T16:14:02.651115",
     "exception": false,
     "start_time": "2023-08-24T16:14:02.625923",
     "status": "completed"
    },
    "tags": []
   },
   "outputs": [
    {
     "name": "stdout",
     "output_type": "stream",
     "text": [
      "Shape of the Dataset :  (9551, 21)\n"
     ]
    }
   ],
   "source": [
    "print('Shape of the Dataset : ',df1.shape)"
   ]
  },
  {
   "cell_type": "code",
   "execution_count": 5,
   "id": "7a07a827",
   "metadata": {
    "execution": {
     "iopub.execute_input": "2023-08-24T16:14:02.684640Z",
     "iopub.status.busy": "2023-08-24T16:14:02.684291Z",
     "iopub.status.idle": "2023-08-24T16:14:02.691020Z",
     "shell.execute_reply": "2023-08-24T16:14:02.689978Z"
    },
    "papermill": {
     "duration": 0.026198,
     "end_time": "2023-08-24T16:14:02.693391",
     "exception": false,
     "start_time": "2023-08-24T16:14:02.667193",
     "status": "completed"
    },
    "tags": []
   },
   "outputs": [
    {
     "data": {
      "text/plain": [
       "Index(['Restaurant ID', 'Restaurant Name', 'Country Code', 'City', 'Address',\n",
       "       'Locality', 'Locality Verbose', 'Longitude', 'Latitude', 'Cuisines',\n",
       "       'Average Cost for two', 'Currency', 'Has Table booking',\n",
       "       'Has Online delivery', 'Is delivering now', 'Switch to order menu',\n",
       "       'Price range', 'Aggregate rating', 'Rating color', 'Rating text',\n",
       "       'Votes'],\n",
       "      dtype='object')"
      ]
     },
     "execution_count": 5,
     "metadata": {},
     "output_type": "execute_result"
    }
   ],
   "source": [
    "df1.columns"
   ]
  },
  {
   "cell_type": "code",
   "execution_count": 6,
   "id": "716805fa",
   "metadata": {
    "execution": {
     "iopub.execute_input": "2023-08-24T16:14:02.728187Z",
     "iopub.status.busy": "2023-08-24T16:14:02.727470Z",
     "iopub.status.idle": "2023-08-24T16:14:02.789788Z",
     "shell.execute_reply": "2023-08-24T16:14:02.788966Z"
    },
    "papermill": {
     "duration": 0.082928,
     "end_time": "2023-08-24T16:14:02.792488",
     "exception": false,
     "start_time": "2023-08-24T16:14:02.709560",
     "status": "completed"
    },
    "tags": []
   },
   "outputs": [
    {
     "name": "stdout",
     "output_type": "stream",
     "text": [
      "<class 'pandas.core.frame.DataFrame'>\n",
      "RangeIndex: 9551 entries, 0 to 9550\n",
      "Data columns (total 21 columns):\n",
      " #   Column                Non-Null Count  Dtype  \n",
      "---  ------                --------------  -----  \n",
      " 0   Restaurant ID         9551 non-null   int64  \n",
      " 1   Restaurant Name       9551 non-null   object \n",
      " 2   Country Code          9551 non-null   int64  \n",
      " 3   City                  9551 non-null   object \n",
      " 4   Address               9551 non-null   object \n",
      " 5   Locality              9551 non-null   object \n",
      " 6   Locality Verbose      9551 non-null   object \n",
      " 7   Longitude             9551 non-null   float64\n",
      " 8   Latitude              9551 non-null   float64\n",
      " 9   Cuisines              9542 non-null   object \n",
      " 10  Average Cost for two  9551 non-null   int64  \n",
      " 11  Currency              9551 non-null   object \n",
      " 12  Has Table booking     9551 non-null   object \n",
      " 13  Has Online delivery   9551 non-null   object \n",
      " 14  Is delivering now     9551 non-null   object \n",
      " 15  Switch to order menu  9551 non-null   object \n",
      " 16  Price range           9551 non-null   int64  \n",
      " 17  Aggregate rating      9551 non-null   float64\n",
      " 18  Rating color          9551 non-null   object \n",
      " 19  Rating text           9551 non-null   object \n",
      " 20  Votes                 9551 non-null   int64  \n",
      "dtypes: float64(3), int64(5), object(13)\n",
      "memory usage: 1.5+ MB\n"
     ]
    }
   ],
   "source": [
    "df1.info()"
   ]
  },
  {
   "cell_type": "markdown",
   "id": "c366a8c9",
   "metadata": {
    "papermill": {
     "duration": 0.017869,
     "end_time": "2023-08-24T16:14:02.826616",
     "exception": false,
     "start_time": "2023-08-24T16:14:02.808747",
     "status": "completed"
    },
    "tags": []
   },
   "source": [
    "Checking for null values"
   ]
  },
  {
   "cell_type": "code",
   "execution_count": 7,
   "id": "6a23726b",
   "metadata": {
    "execution": {
     "iopub.execute_input": "2023-08-24T16:14:02.861272Z",
     "iopub.status.busy": "2023-08-24T16:14:02.860892Z",
     "iopub.status.idle": "2023-08-24T16:14:02.908380Z",
     "shell.execute_reply": "2023-08-24T16:14:02.907426Z"
    },
    "papermill": {
     "duration": 0.067641,
     "end_time": "2023-08-24T16:14:02.910631",
     "exception": false,
     "start_time": "2023-08-24T16:14:02.842990",
     "status": "completed"
    },
    "tags": []
   },
   "outputs": [
    {
     "data": {
      "text/plain": [
       "Restaurant ID           0\n",
       "Restaurant Name         0\n",
       "Country Code            0\n",
       "City                    0\n",
       "Address                 0\n",
       "Locality                0\n",
       "Locality Verbose        0\n",
       "Longitude               0\n",
       "Latitude                0\n",
       "Cuisines                9\n",
       "Average Cost for two    0\n",
       "Currency                0\n",
       "Has Table booking       0\n",
       "Has Online delivery     0\n",
       "Is delivering now       0\n",
       "Switch to order menu    0\n",
       "Price range             0\n",
       "Aggregate rating        0\n",
       "Rating color            0\n",
       "Rating text             0\n",
       "Votes                   0\n",
       "dtype: int64"
      ]
     },
     "execution_count": 7,
     "metadata": {},
     "output_type": "execute_result"
    }
   ],
   "source": [
    "df1.isnull().sum()"
   ]
  },
  {
   "cell_type": "markdown",
   "id": "8946f47a",
   "metadata": {
    "papermill": {
     "duration": 0.016184,
     "end_time": "2023-08-24T16:14:02.943222",
     "exception": false,
     "start_time": "2023-08-24T16:14:02.927038",
     "status": "completed"
    },
    "tags": []
   },
   "source": [
    "No null values here"
   ]
  },
  {
   "cell_type": "markdown",
   "id": "5c546e73",
   "metadata": {
    "papermill": {
     "duration": 0.016225,
     "end_time": "2023-08-24T16:14:02.975720",
     "exception": false,
     "start_time": "2023-08-24T16:14:02.959495",
     "status": "completed"
    },
    "tags": []
   },
   "source": [
    "Checking for duplicate values"
   ]
  },
  {
   "cell_type": "code",
   "execution_count": 8,
   "id": "b023b15a",
   "metadata": {
    "execution": {
     "iopub.execute_input": "2023-08-24T16:14:03.010342Z",
     "iopub.status.busy": "2023-08-24T16:14:03.009939Z",
     "iopub.status.idle": "2023-08-24T16:14:03.041282Z",
     "shell.execute_reply": "2023-08-24T16:14:03.040173Z"
    },
    "papermill": {
     "duration": 0.051674,
     "end_time": "2023-08-24T16:14:03.043644",
     "exception": false,
     "start_time": "2023-08-24T16:14:02.991970",
     "status": "completed"
    },
    "tags": []
   },
   "outputs": [
    {
     "data": {
      "text/plain": [
       "0"
      ]
     },
     "execution_count": 8,
     "metadata": {},
     "output_type": "execute_result"
    }
   ],
   "source": [
    "df1.duplicated().sum()"
   ]
  },
  {
   "cell_type": "code",
   "execution_count": 9,
   "id": "0ae2136b",
   "metadata": {
    "execution": {
     "iopub.execute_input": "2023-08-24T16:14:03.078217Z",
     "iopub.status.busy": "2023-08-24T16:14:03.077849Z",
     "iopub.status.idle": "2023-08-24T16:14:03.119917Z",
     "shell.execute_reply": "2023-08-24T16:14:03.119202Z"
    },
    "papermill": {
     "duration": 0.061803,
     "end_time": "2023-08-24T16:14:03.121944",
     "exception": false,
     "start_time": "2023-08-24T16:14:03.060141",
     "status": "completed"
    },
    "tags": []
   },
   "outputs": [
    {
     "data": {
      "text/html": [
       "<div>\n",
       "<style scoped>\n",
       "    .dataframe tbody tr th:only-of-type {\n",
       "        vertical-align: middle;\n",
       "    }\n",
       "\n",
       "    .dataframe tbody tr th {\n",
       "        vertical-align: top;\n",
       "    }\n",
       "\n",
       "    .dataframe thead th {\n",
       "        text-align: right;\n",
       "    }\n",
       "</style>\n",
       "<table border=\"1\" class=\"dataframe\">\n",
       "  <thead>\n",
       "    <tr style=\"text-align: right;\">\n",
       "      <th></th>\n",
       "      <th>count</th>\n",
       "      <th>mean</th>\n",
       "      <th>std</th>\n",
       "      <th>min</th>\n",
       "      <th>25%</th>\n",
       "      <th>50%</th>\n",
       "      <th>75%</th>\n",
       "      <th>max</th>\n",
       "    </tr>\n",
       "  </thead>\n",
       "  <tbody>\n",
       "    <tr>\n",
       "      <th>Restaurant ID</th>\n",
       "      <td>9551.0</td>\n",
       "      <td>9.051128e+06</td>\n",
       "      <td>8.791521e+06</td>\n",
       "      <td>53.000000</td>\n",
       "      <td>301962.500000</td>\n",
       "      <td>6.004089e+06</td>\n",
       "      <td>1.835229e+07</td>\n",
       "      <td>1.850065e+07</td>\n",
       "    </tr>\n",
       "    <tr>\n",
       "      <th>Country Code</th>\n",
       "      <td>9551.0</td>\n",
       "      <td>1.836562e+01</td>\n",
       "      <td>5.675055e+01</td>\n",
       "      <td>1.000000</td>\n",
       "      <td>1.000000</td>\n",
       "      <td>1.000000e+00</td>\n",
       "      <td>1.000000e+00</td>\n",
       "      <td>2.160000e+02</td>\n",
       "    </tr>\n",
       "    <tr>\n",
       "      <th>Longitude</th>\n",
       "      <td>9551.0</td>\n",
       "      <td>6.412657e+01</td>\n",
       "      <td>4.146706e+01</td>\n",
       "      <td>-157.948486</td>\n",
       "      <td>77.081343</td>\n",
       "      <td>7.719196e+01</td>\n",
       "      <td>7.728201e+01</td>\n",
       "      <td>1.748321e+02</td>\n",
       "    </tr>\n",
       "    <tr>\n",
       "      <th>Latitude</th>\n",
       "      <td>9551.0</td>\n",
       "      <td>2.585438e+01</td>\n",
       "      <td>1.100794e+01</td>\n",
       "      <td>-41.330428</td>\n",
       "      <td>28.478713</td>\n",
       "      <td>2.857047e+01</td>\n",
       "      <td>2.864276e+01</td>\n",
       "      <td>5.597698e+01</td>\n",
       "    </tr>\n",
       "    <tr>\n",
       "      <th>Average Cost for two</th>\n",
       "      <td>9551.0</td>\n",
       "      <td>1.199211e+03</td>\n",
       "      <td>1.612118e+04</td>\n",
       "      <td>0.000000</td>\n",
       "      <td>250.000000</td>\n",
       "      <td>4.000000e+02</td>\n",
       "      <td>7.000000e+02</td>\n",
       "      <td>8.000000e+05</td>\n",
       "    </tr>\n",
       "    <tr>\n",
       "      <th>Price range</th>\n",
       "      <td>9551.0</td>\n",
       "      <td>1.804837e+00</td>\n",
       "      <td>9.056088e-01</td>\n",
       "      <td>1.000000</td>\n",
       "      <td>1.000000</td>\n",
       "      <td>2.000000e+00</td>\n",
       "      <td>2.000000e+00</td>\n",
       "      <td>4.000000e+00</td>\n",
       "    </tr>\n",
       "    <tr>\n",
       "      <th>Aggregate rating</th>\n",
       "      <td>9551.0</td>\n",
       "      <td>2.666370e+00</td>\n",
       "      <td>1.516378e+00</td>\n",
       "      <td>0.000000</td>\n",
       "      <td>2.500000</td>\n",
       "      <td>3.200000e+00</td>\n",
       "      <td>3.700000e+00</td>\n",
       "      <td>4.900000e+00</td>\n",
       "    </tr>\n",
       "    <tr>\n",
       "      <th>Votes</th>\n",
       "      <td>9551.0</td>\n",
       "      <td>1.569097e+02</td>\n",
       "      <td>4.301691e+02</td>\n",
       "      <td>0.000000</td>\n",
       "      <td>5.000000</td>\n",
       "      <td>3.100000e+01</td>\n",
       "      <td>1.310000e+02</td>\n",
       "      <td>1.093400e+04</td>\n",
       "    </tr>\n",
       "  </tbody>\n",
       "</table>\n",
       "</div>"
      ],
      "text/plain": [
       "                       count          mean           std         min  \\\n",
       "Restaurant ID         9551.0  9.051128e+06  8.791521e+06   53.000000   \n",
       "Country Code          9551.0  1.836562e+01  5.675055e+01    1.000000   \n",
       "Longitude             9551.0  6.412657e+01  4.146706e+01 -157.948486   \n",
       "Latitude              9551.0  2.585438e+01  1.100794e+01  -41.330428   \n",
       "Average Cost for two  9551.0  1.199211e+03  1.612118e+04    0.000000   \n",
       "Price range           9551.0  1.804837e+00  9.056088e-01    1.000000   \n",
       "Aggregate rating      9551.0  2.666370e+00  1.516378e+00    0.000000   \n",
       "Votes                 9551.0  1.569097e+02  4.301691e+02    0.000000   \n",
       "\n",
       "                                25%           50%           75%           max  \n",
       "Restaurant ID         301962.500000  6.004089e+06  1.835229e+07  1.850065e+07  \n",
       "Country Code               1.000000  1.000000e+00  1.000000e+00  2.160000e+02  \n",
       "Longitude                 77.081343  7.719196e+01  7.728201e+01  1.748321e+02  \n",
       "Latitude                  28.478713  2.857047e+01  2.864276e+01  5.597698e+01  \n",
       "Average Cost for two     250.000000  4.000000e+02  7.000000e+02  8.000000e+05  \n",
       "Price range                1.000000  2.000000e+00  2.000000e+00  4.000000e+00  \n",
       "Aggregate rating           2.500000  3.200000e+00  3.700000e+00  4.900000e+00  \n",
       "Votes                      5.000000  3.100000e+01  1.310000e+02  1.093400e+04  "
      ]
     },
     "execution_count": 9,
     "metadata": {},
     "output_type": "execute_result"
    }
   ],
   "source": [
    "# Review descriptive data\n",
    "df1.describe().transpose()"
   ]
  },
  {
   "cell_type": "code",
   "execution_count": 10,
   "id": "d3d5fa81",
   "metadata": {
    "execution": {
     "iopub.execute_input": "2023-08-24T16:14:03.158378Z",
     "iopub.status.busy": "2023-08-24T16:14:03.157475Z",
     "iopub.status.idle": "2023-08-24T16:14:03.557524Z",
     "shell.execute_reply": "2023-08-24T16:14:03.556332Z"
    },
    "papermill": {
     "duration": 0.420375,
     "end_time": "2023-08-24T16:14:03.559841",
     "exception": false,
     "start_time": "2023-08-24T16:14:03.139466",
     "status": "completed"
    },
    "tags": []
   },
   "outputs": [
    {
     "data": {
      "text/html": [
       "<div>\n",
       "<style scoped>\n",
       "    .dataframe tbody tr th:only-of-type {\n",
       "        vertical-align: middle;\n",
       "    }\n",
       "\n",
       "    .dataframe tbody tr th {\n",
       "        vertical-align: top;\n",
       "    }\n",
       "\n",
       "    .dataframe thead th {\n",
       "        text-align: right;\n",
       "    }\n",
       "</style>\n",
       "<table border=\"1\" class=\"dataframe\">\n",
       "  <thead>\n",
       "    <tr style=\"text-align: right;\">\n",
       "      <th></th>\n",
       "      <th>Country Code</th>\n",
       "      <th>Country</th>\n",
       "    </tr>\n",
       "  </thead>\n",
       "  <tbody>\n",
       "    <tr>\n",
       "      <th>0</th>\n",
       "      <td>1</td>\n",
       "      <td>India</td>\n",
       "    </tr>\n",
       "    <tr>\n",
       "      <th>1</th>\n",
       "      <td>14</td>\n",
       "      <td>Australia</td>\n",
       "    </tr>\n",
       "    <tr>\n",
       "      <th>2</th>\n",
       "      <td>30</td>\n",
       "      <td>Brazil</td>\n",
       "    </tr>\n",
       "    <tr>\n",
       "      <th>3</th>\n",
       "      <td>37</td>\n",
       "      <td>Canada</td>\n",
       "    </tr>\n",
       "    <tr>\n",
       "      <th>4</th>\n",
       "      <td>94</td>\n",
       "      <td>Indonesia</td>\n",
       "    </tr>\n",
       "  </tbody>\n",
       "</table>\n",
       "</div>"
      ],
      "text/plain": [
       "   Country Code    Country\n",
       "0             1      India\n",
       "1            14  Australia\n",
       "2            30     Brazil\n",
       "3            37     Canada\n",
       "4            94  Indonesia"
      ]
     },
     "execution_count": 10,
     "metadata": {},
     "output_type": "execute_result"
    }
   ],
   "source": [
    "df_country = pd.read_excel('https://raw.githubusercontent.com/dsrscientist/dataset4/main/zomato.csv')\n",
    "df_country.head()"
   ]
  },
  {
   "cell_type": "code",
   "execution_count": 11,
   "id": "d28b40a5",
   "metadata": {
    "execution": {
     "iopub.execute_input": "2023-08-24T16:14:03.596349Z",
     "iopub.status.busy": "2023-08-24T16:14:03.595749Z",
     "iopub.status.idle": "2023-08-24T16:14:03.631343Z",
     "shell.execute_reply": "2023-08-24T16:14:03.630277Z"
    },
    "papermill": {
     "duration": 0.056649,
     "end_time": "2023-08-24T16:14:03.633605",
     "exception": false,
     "start_time": "2023-08-24T16:14:03.576956",
     "status": "completed"
    },
    "tags": []
   },
   "outputs": [
    {
     "data": {
      "text/html": [
       "<div>\n",
       "<style scoped>\n",
       "    .dataframe tbody tr th:only-of-type {\n",
       "        vertical-align: middle;\n",
       "    }\n",
       "\n",
       "    .dataframe tbody tr th {\n",
       "        vertical-align: top;\n",
       "    }\n",
       "\n",
       "    .dataframe thead th {\n",
       "        text-align: right;\n",
       "    }\n",
       "</style>\n",
       "<table border=\"1\" class=\"dataframe\">\n",
       "  <thead>\n",
       "    <tr style=\"text-align: right;\">\n",
       "      <th></th>\n",
       "      <th>Restaurant ID</th>\n",
       "      <th>Restaurant Name</th>\n",
       "      <th>Country Code</th>\n",
       "      <th>City</th>\n",
       "      <th>Address</th>\n",
       "      <th>Locality</th>\n",
       "      <th>Locality Verbose</th>\n",
       "      <th>Longitude</th>\n",
       "      <th>Latitude</th>\n",
       "      <th>Cuisines</th>\n",
       "      <th>...</th>\n",
       "      <th>Has Table booking</th>\n",
       "      <th>Has Online delivery</th>\n",
       "      <th>Is delivering now</th>\n",
       "      <th>Switch to order menu</th>\n",
       "      <th>Price range</th>\n",
       "      <th>Aggregate rating</th>\n",
       "      <th>Rating color</th>\n",
       "      <th>Rating text</th>\n",
       "      <th>Votes</th>\n",
       "      <th>Country</th>\n",
       "    </tr>\n",
       "  </thead>\n",
       "  <tbody>\n",
       "    <tr>\n",
       "      <th>0</th>\n",
       "      <td>6317637</td>\n",
       "      <td>Le Petit Souffle</td>\n",
       "      <td>162</td>\n",
       "      <td>Makati City</td>\n",
       "      <td>Third Floor, Century City Mall, Kalayaan Avenu...</td>\n",
       "      <td>Century City Mall, Poblacion, Makati City</td>\n",
       "      <td>Century City Mall, Poblacion, Makati City, Mak...</td>\n",
       "      <td>121.027535</td>\n",
       "      <td>14.565443</td>\n",
       "      <td>French, Japanese, Desserts</td>\n",
       "      <td>...</td>\n",
       "      <td>Yes</td>\n",
       "      <td>No</td>\n",
       "      <td>No</td>\n",
       "      <td>No</td>\n",
       "      <td>3</td>\n",
       "      <td>4.8</td>\n",
       "      <td>Dark Green</td>\n",
       "      <td>Excellent</td>\n",
       "      <td>314</td>\n",
       "      <td>Phillipines</td>\n",
       "    </tr>\n",
       "    <tr>\n",
       "      <th>1</th>\n",
       "      <td>6304287</td>\n",
       "      <td>Izakaya Kikufuji</td>\n",
       "      <td>162</td>\n",
       "      <td>Makati City</td>\n",
       "      <td>Little Tokyo, 2277 Chino Roces Avenue, Legaspi...</td>\n",
       "      <td>Little Tokyo, Legaspi Village, Makati City</td>\n",
       "      <td>Little Tokyo, Legaspi Village, Makati City, Ma...</td>\n",
       "      <td>121.014101</td>\n",
       "      <td>14.553708</td>\n",
       "      <td>Japanese</td>\n",
       "      <td>...</td>\n",
       "      <td>Yes</td>\n",
       "      <td>No</td>\n",
       "      <td>No</td>\n",
       "      <td>No</td>\n",
       "      <td>3</td>\n",
       "      <td>4.5</td>\n",
       "      <td>Dark Green</td>\n",
       "      <td>Excellent</td>\n",
       "      <td>591</td>\n",
       "      <td>Phillipines</td>\n",
       "    </tr>\n",
       "  </tbody>\n",
       "</table>\n",
       "<p>2 rows × 22 columns</p>\n",
       "</div>"
      ],
      "text/plain": [
       "   Restaurant ID   Restaurant Name  Country Code         City  \\\n",
       "0        6317637  Le Petit Souffle           162  Makati City   \n",
       "1        6304287  Izakaya Kikufuji           162  Makati City   \n",
       "\n",
       "                                             Address  \\\n",
       "0  Third Floor, Century City Mall, Kalayaan Avenu...   \n",
       "1  Little Tokyo, 2277 Chino Roces Avenue, Legaspi...   \n",
       "\n",
       "                                     Locality  \\\n",
       "0   Century City Mall, Poblacion, Makati City   \n",
       "1  Little Tokyo, Legaspi Village, Makati City   \n",
       "\n",
       "                                    Locality Verbose   Longitude   Latitude  \\\n",
       "0  Century City Mall, Poblacion, Makati City, Mak...  121.027535  14.565443   \n",
       "1  Little Tokyo, Legaspi Village, Makati City, Ma...  121.014101  14.553708   \n",
       "\n",
       "                     Cuisines  ...  Has Table booking Has Online delivery  \\\n",
       "0  French, Japanese, Desserts  ...                Yes                  No   \n",
       "1                    Japanese  ...                Yes                  No   \n",
       "\n",
       "  Is delivering now Switch to order menu Price range Aggregate rating  \\\n",
       "0                No                   No           3              4.8   \n",
       "1                No                   No           3              4.5   \n",
       "\n",
       "   Rating color  Rating text Votes      Country  \n",
       "0    Dark Green    Excellent   314  Phillipines  \n",
       "1    Dark Green    Excellent   591  Phillipines  \n",
       "\n",
       "[2 rows x 22 columns]"
      ]
     },
     "execution_count": 11,
     "metadata": {},
     "output_type": "execute_result"
    }
   ],
   "source": [
    "df=pd.merge(df1, df_country, on= 'Country Code', how= 'left')   #so we can get a final df with country name \n",
    "df.head(2)"
   ]
  },
  {
   "cell_type": "code",
   "execution_count": 12,
   "id": "58b6ecd4",
   "metadata": {
    "execution": {
     "iopub.execute_input": "2023-08-24T16:14:03.671687Z",
     "iopub.status.busy": "2023-08-24T16:14:03.670676Z",
     "iopub.status.idle": "2023-08-24T16:14:03.679547Z",
     "shell.execute_reply": "2023-08-24T16:14:03.678421Z"
    },
    "papermill": {
     "duration": 0.029781,
     "end_time": "2023-08-24T16:14:03.681784",
     "exception": false,
     "start_time": "2023-08-24T16:14:03.652003",
     "status": "completed"
    },
    "tags": []
   },
   "outputs": [],
   "source": [
    "#droping unwanted columns\n",
    "df.drop(['Restaurant ID','Country Code','Locality Verbose','Longitude','Latitude'],axis=1,inplace=True)"
   ]
  },
  {
   "cell_type": "code",
   "execution_count": 13,
   "id": "bdb9c90d",
   "metadata": {
    "execution": {
     "iopub.execute_input": "2023-08-24T16:14:03.718992Z",
     "iopub.status.busy": "2023-08-24T16:14:03.718627Z",
     "iopub.status.idle": "2023-08-24T16:14:03.775777Z",
     "shell.execute_reply": "2023-08-24T16:14:03.774265Z"
    },
    "papermill": {
     "duration": 0.079971,
     "end_time": "2023-08-24T16:14:03.779374",
     "exception": false,
     "start_time": "2023-08-24T16:14:03.699403",
     "status": "completed"
    },
    "tags": []
   },
   "outputs": [
    {
     "name": "stdout",
     "output_type": "stream",
     "text": [
      "<class 'pandas.core.frame.DataFrame'>\n",
      "Int64Index: 9551 entries, 0 to 9550\n",
      "Data columns (total 17 columns):\n",
      " #   Column                Non-Null Count  Dtype  \n",
      "---  ------                --------------  -----  \n",
      " 0   Restaurant Name       9551 non-null   object \n",
      " 1   City                  9551 non-null   object \n",
      " 2   Address               9551 non-null   object \n",
      " 3   Locality              9551 non-null   object \n",
      " 4   Cuisines              9542 non-null   object \n",
      " 5   Average Cost for two  9551 non-null   int64  \n",
      " 6   Currency              9551 non-null   object \n",
      " 7   Has Table booking     9551 non-null   object \n",
      " 8   Has Online delivery   9551 non-null   object \n",
      " 9   Is delivering now     9551 non-null   object \n",
      " 10  Switch to order menu  9551 non-null   object \n",
      " 11  Price range           9551 non-null   int64  \n",
      " 12  Aggregate rating      9551 non-null   float64\n",
      " 13  Rating color          9551 non-null   object \n",
      " 14  Rating text           9551 non-null   object \n",
      " 15  Votes                 9551 non-null   int64  \n",
      " 16  Country               9551 non-null   object \n",
      "dtypes: float64(1), int64(3), object(13)\n",
      "memory usage: 1.3+ MB\n"
     ]
    }
   ],
   "source": [
    "df.info()"
   ]
  },
  {
   "cell_type": "markdown",
   "id": "e727f3d3",
   "metadata": {
    "papermill": {
     "duration": 0.021805,
     "end_time": "2023-08-24T16:14:03.822171",
     "exception": false,
     "start_time": "2023-08-24T16:14:03.800366",
     "status": "completed"
    },
    "tags": []
   },
   "source": [
    "## Table filter using Interact function\n",
    "\n",
    "The interact function (ipywidgets.interact) automatically creates user interface (UI) controls for exploring code and data interactively. It is the easiest way to get started using IPython’s widgets."
   ]
  },
  {
   "cell_type": "code",
   "execution_count": 14,
   "id": "81bde88e",
   "metadata": {
    "execution": {
     "iopub.execute_input": "2023-08-24T16:14:03.865752Z",
     "iopub.status.busy": "2023-08-24T16:14:03.865338Z",
     "iopub.status.idle": "2023-08-24T16:14:03.870427Z",
     "shell.execute_reply": "2023-08-24T16:14:03.869416Z"
    },
    "papermill": {
     "duration": 0.026963,
     "end_time": "2023-08-24T16:14:03.873113",
     "exception": false,
     "start_time": "2023-08-24T16:14:03.846150",
     "status": "completed"
    },
    "tags": []
   },
   "outputs": [],
   "source": [
    "from ipywidgets import interact"
   ]
  },
  {
   "cell_type": "markdown",
   "id": "1b461719",
   "metadata": {
    "papermill": {
     "duration": 0.022557,
     "end_time": "2023-08-24T16:14:03.915590",
     "exception": false,
     "start_time": "2023-08-24T16:14:03.893033",
     "status": "completed"
    },
    "tags": []
   },
   "source": [
    "### Filter by Rating"
   ]
  },
  {
   "cell_type": "code",
   "execution_count": 15,
   "id": "2a7c730f",
   "metadata": {
    "execution": {
     "iopub.execute_input": "2023-08-24T16:14:03.953446Z",
     "iopub.status.busy": "2023-08-24T16:14:03.952989Z",
     "iopub.status.idle": "2023-08-24T16:14:04.166975Z",
     "shell.execute_reply": "2023-08-24T16:14:04.166231Z"
    },
    "papermill": {
     "duration": 0.237523,
     "end_time": "2023-08-24T16:14:04.171148",
     "exception": false,
     "start_time": "2023-08-24T16:14:03.933625",
     "status": "completed"
    },
    "tags": []
   },
   "outputs": [
    {
     "data": {
      "application/vnd.jupyter.widget-view+json": {
       "model_id": "de37c4e729be4cf787e1b466a509293c",
       "version_major": 2,
       "version_minor": 0
      },
      "text/plain": [
       "interactive(children=(IntSlider(value=2, description='rating', max=5), Output()), _dom_classes=('widget-intera…"
      ]
     },
     "metadata": {},
     "output_type": "display_data"
    }
   ],
   "source": [
    "@interact\n",
    "def filter_rating (rating=(0,5,1)):\n",
    "    return df[df['Aggregate rating']<rating].head().style.background_gradient(cmap='Blues')"
   ]
  },
  {
   "cell_type": "markdown",
   "id": "ca977598",
   "metadata": {
    "papermill": {
     "duration": 0.018046,
     "end_time": "2023-08-24T16:14:04.211521",
     "exception": false,
     "start_time": "2023-08-24T16:14:04.193475",
     "status": "completed"
    },
    "tags": []
   },
   "source": [
    "### Filter by Country"
   ]
  },
  {
   "cell_type": "code",
   "execution_count": 16,
   "id": "40037242",
   "metadata": {
    "execution": {
     "iopub.execute_input": "2023-08-24T16:14:04.258331Z",
     "iopub.status.busy": "2023-08-24T16:14:04.257551Z",
     "iopub.status.idle": "2023-08-24T16:14:04.303649Z",
     "shell.execute_reply": "2023-08-24T16:14:04.302574Z"
    },
    "papermill": {
     "duration": 0.071622,
     "end_time": "2023-08-24T16:14:04.306512",
     "exception": false,
     "start_time": "2023-08-24T16:14:04.234890",
     "status": "completed"
    },
    "tags": []
   },
   "outputs": [
    {
     "data": {
      "application/vnd.jupyter.widget-view+json": {
       "model_id": "c2e7a7d57e78400881262e8428da3c2d",
       "version_major": 2,
       "version_minor": 0
      },
      "text/plain": [
       "interactive(children=(Dropdown(description='Country', options=('Phillipines', 'Brazil', 'United States', 'Aust…"
      ]
     },
     "metadata": {},
     "output_type": "display_data"
    }
   ],
   "source": [
    "@interact\n",
    "def filter_country(Country=list(df.Country.unique())):\n",
    "    return df[df.Country==Country].head().style.background_gradient(cmap='Greens')"
   ]
  },
  {
   "cell_type": "code",
   "execution_count": 17,
   "id": "dbf44f91",
   "metadata": {
    "execution": {
     "iopub.execute_input": "2023-08-24T16:14:04.416902Z",
     "iopub.status.busy": "2023-08-24T16:14:04.416048Z",
     "iopub.status.idle": "2023-08-24T16:14:04.425899Z",
     "shell.execute_reply": "2023-08-24T16:14:04.425064Z"
    },
    "papermill": {
     "duration": 0.031645,
     "end_time": "2023-08-24T16:14:04.428121",
     "exception": false,
     "start_time": "2023-08-24T16:14:04.396476",
     "status": "completed"
    },
    "tags": []
   },
   "outputs": [
    {
     "data": {
      "text/plain": [
       "India             8652\n",
       "United States      434\n",
       "United Kingdom      80\n",
       "Name: Country, dtype: int64"
      ]
     },
     "execution_count": 17,
     "metadata": {},
     "output_type": "execute_result"
    }
   ],
   "source": [
    "top_3 = df['Country'].value_counts()[:3]\n",
    "top_3"
   ]
  },
  {
   "cell_type": "code",
   "execution_count": 18,
   "id": "06fcd4eb",
   "metadata": {
    "execution": {
     "iopub.execute_input": "2023-08-24T16:14:04.466593Z",
     "iopub.status.busy": "2023-08-24T16:14:04.466220Z",
     "iopub.status.idle": "2023-08-24T16:14:04.637997Z",
     "shell.execute_reply": "2023-08-24T16:14:04.637025Z"
    },
    "papermill": {
     "duration": 0.196067,
     "end_time": "2023-08-24T16:14:04.642949",
     "exception": false,
     "start_time": "2023-08-24T16:14:04.446882",
     "status": "completed"
    },
    "tags": []
   },
   "outputs": [
    {
     "data": {
      "image/png": "[encoded data removed]",
      "text/plain": [
       "<Figure size 640x480 with 1 Axes>"
      ]
     },
     "metadata": {},
     "output_type": "display_data"
    }
   ],
   "source": [
    "plt.pie(top_3,labels=top_3.index)                  #Plotting Pie Chart\n",
    "circle = plt.Circle( (0,0), 0.5, color='white')    #Creating a Circle \n",
    "p=plt.gcf()                                        #Adding circle to the Pie Chart\n",
    "p.gca().add_artist(circle)\n",
    "plt.title(\"Top 3 countries that uses zomato\")      #Add title\n",
    "\n",
    "plt.show()"
   ]
  },
  {
   "cell_type": "markdown",
   "id": "4bb4db58",
   "metadata": {
    "papermill": {
     "duration": 0.024498,
     "end_time": "2023-08-24T16:14:04.706541",
     "exception": false,
     "start_time": "2023-08-24T16:14:04.682043",
     "status": "completed"
    },
    "tags": []
   },
   "source": [
    "The top 3 countries that uses zomato are India, United States and United Kingdom"
   ]
  },
  {
   "cell_type": "markdown",
   "id": "87b1e934",
   "metadata": {
    "papermill": {
     "duration": 0.018352,
     "end_time": "2023-08-24T16:14:04.743739",
     "exception": false,
     "start_time": "2023-08-24T16:14:04.725387",
     "status": "completed"
    },
    "tags": []
   },
   "source": [
    "### Top 10 countries that uses zomato"
   ]
  },
  {
   "cell_type": "code",
   "execution_count": 19,
   "id": "a5c0cd52",
   "metadata": {
    "execution": {
     "iopub.execute_input": "2023-08-24T16:14:04.783879Z",
     "iopub.status.busy": "2023-08-24T16:14:04.783177Z",
     "iopub.status.idle": "2023-08-24T16:14:04.803658Z",
     "shell.execute_reply": "2023-08-24T16:14:04.802924Z"
    },
    "papermill": {
     "duration": 0.0434,
     "end_time": "2023-08-24T16:14:04.806219",
     "exception": false,
     "start_time": "2023-08-24T16:14:04.762819",
     "status": "completed"
    },
    "tags": []
   },
   "outputs": [
    {
     "data": {
      "text/html": [
       "<style type=\"text/css\">\n",
       "#T_55e77_row0_col1 {\n",
       "  background-color: #f7fbff;\n",
       "  color: #000000;\n",
       "}\n",
       "#T_55e77_row1_col1 {\n",
       "  background-color: #083c7d;\n",
       "  color: #f1f1f1;\n",
       "}\n",
       "#T_55e77_row2_col1, #T_55e77_row3_col1, #T_55e77_row4_col1, #T_55e77_row5_col1 {\n",
       "  background-color: #08316d;\n",
       "  color: #f1f1f1;\n",
       "}\n",
       "#T_55e77_row6_col1, #T_55e77_row7_col1, #T_55e77_row8_col1, #T_55e77_row9_col1 {\n",
       "  background-color: #08306b;\n",
       "  color: #f1f1f1;\n",
       "}\n",
       "</style>\n",
       "<table id=\"T_55e77\">\n",
       "  <thead>\n",
       "    <tr>\n",
       "      <th class=\"blank level0\" >&nbsp;</th>\n",
       "      <th id=\"T_55e77_level0_col0\" class=\"col_heading level0 col0\" >Country</th>\n",
       "      <th id=\"T_55e77_level0_col1\" class=\"col_heading level0 col1\" >count</th>\n",
       "    </tr>\n",
       "  </thead>\n",
       "  <tbody>\n",
       "    <tr>\n",
       "      <th id=\"T_55e77_level0_row0\" class=\"row_heading level0 row0\" >0</th>\n",
       "      <td id=\"T_55e77_row0_col0\" class=\"data row0 col0\" >India</td>\n",
       "      <td id=\"T_55e77_row0_col1\" class=\"data row0 col1\" >8652</td>\n",
       "    </tr>\n",
       "    <tr>\n",
       "      <th id=\"T_55e77_level0_row1\" class=\"row_heading level0 row1\" >1</th>\n",
       "      <td id=\"T_55e77_row1_col0\" class=\"data row1 col0\" >United States</td>\n",
       "      <td id=\"T_55e77_row1_col1\" class=\"data row1 col1\" >434</td>\n",
       "    </tr>\n",
       "    <tr>\n",
       "      <th id=\"T_55e77_level0_row2\" class=\"row_heading level0 row2\" >2</th>\n",
       "      <td id=\"T_55e77_row2_col0\" class=\"data row2 col0\" >United Kingdom</td>\n",
       "      <td id=\"T_55e77_row2_col1\" class=\"data row2 col1\" >80</td>\n",
       "    </tr>\n",
       "    <tr>\n",
       "      <th id=\"T_55e77_level0_row3\" class=\"row_heading level0 row3\" >3</th>\n",
       "      <td id=\"T_55e77_row3_col0\" class=\"data row3 col0\" >Brazil</td>\n",
       "      <td id=\"T_55e77_row3_col1\" class=\"data row3 col1\" >60</td>\n",
       "    </tr>\n",
       "    <tr>\n",
       "      <th id=\"T_55e77_level0_row4\" class=\"row_heading level0 row4\" >4</th>\n",
       "      <td id=\"T_55e77_row4_col0\" class=\"data row4 col0\" >UAE</td>\n",
       "      <td id=\"T_55e77_row4_col1\" class=\"data row4 col1\" >60</td>\n",
       "    </tr>\n",
       "    <tr>\n",
       "      <th id=\"T_55e77_level0_row5\" class=\"row_heading level0 row5\" >5</th>\n",
       "      <td id=\"T_55e77_row5_col0\" class=\"data row5 col0\" >South Africa</td>\n",
       "      <td id=\"T_55e77_row5_col1\" class=\"data row5 col1\" >60</td>\n",
       "    </tr>\n",
       "    <tr>\n",
       "      <th id=\"T_55e77_level0_row6\" class=\"row_heading level0 row6\" >6</th>\n",
       "      <td id=\"T_55e77_row6_col0\" class=\"data row6 col0\" >New Zealand</td>\n",
       "      <td id=\"T_55e77_row6_col1\" class=\"data row6 col1\" >40</td>\n",
       "    </tr>\n",
       "    <tr>\n",
       "      <th id=\"T_55e77_level0_row7\" class=\"row_heading level0 row7\" >7</th>\n",
       "      <td id=\"T_55e77_row7_col0\" class=\"data row7 col0\" >Turkey</td>\n",
       "      <td id=\"T_55e77_row7_col1\" class=\"data row7 col1\" >34</td>\n",
       "    </tr>\n",
       "    <tr>\n",
       "      <th id=\"T_55e77_level0_row8\" class=\"row_heading level0 row8\" >8</th>\n",
       "      <td id=\"T_55e77_row8_col0\" class=\"data row8 col0\" >Australia</td>\n",
       "      <td id=\"T_55e77_row8_col1\" class=\"data row8 col1\" >24</td>\n",
       "    </tr>\n",
       "    <tr>\n",
       "      <th id=\"T_55e77_level0_row9\" class=\"row_heading level0 row9\" >9</th>\n",
       "      <td id=\"T_55e77_row9_col0\" class=\"data row9 col0\" >Phillipines</td>\n",
       "      <td id=\"T_55e77_row9_col1\" class=\"data row9 col1\" >22</td>\n",
       "    </tr>\n",
       "  </tbody>\n",
       "</table>\n"
      ],
      "text/plain": [
       "<pandas.io.formats.style.Styler at 0x7cb55a182c20>"
      ]
     },
     "execution_count": 19,
     "metadata": {},
     "output_type": "execute_result"
    }
   ],
   "source": [
    "top_10 = df['Country'].value_counts()[:10].rename_axis('Country').reset_index(name='count')\n",
    "df_c=pd.DataFrame(top_10)    #converting it into dataframe.\n",
    "top_10.style.background_gradient(cmap='Blues_r')"
   ]
  },
  {
   "cell_type": "code",
   "execution_count": 20,
   "id": "c830b3a5",
   "metadata": {
    "execution": {
     "iopub.execute_input": "2023-08-24T16:14:04.852875Z",
     "iopub.status.busy": "2023-08-24T16:14:04.852141Z",
     "iopub.status.idle": "2023-08-24T16:14:05.088451Z",
     "shell.execute_reply": "2023-08-24T16:14:05.087240Z"
    },
    "papermill": {
     "duration": 0.259563,
     "end_time": "2023-08-24T16:14:05.090942",
     "exception": false,
     "start_time": "2023-08-24T16:14:04.831379",
     "status": "completed"
    },
    "tags": []
   },
   "outputs": [
    {
     "data": {
      "text/plain": [
       "<AxesSubplot: xlabel='count', ylabel='Country'>"
      ]
     },
     "execution_count": 20,
     "metadata": {},
     "output_type": "execute_result"
    },
    {
     "data": {
      "image/png": "[encoded data removed]",
      "text/plain": [
       "<Figure size 640x480 with 1 Axes>"
      ]
     },
     "metadata": {},
     "output_type": "display_data"
    }
   ],
   "source": [
    "sns.barplot(data=df_c.head(5),y='Country',x='count',palette='rainbow')"
   ]
  },
  {
   "cell_type": "markdown",
   "id": "d29ce025",
   "metadata": {
    "papermill": {
     "duration": 0.019771,
     "end_time": "2023-08-24T16:14:05.130593",
     "exception": false,
     "start_time": "2023-08-24T16:14:05.110822",
     "status": "completed"
    },
    "tags": []
   },
   "source": [
    "### Countries with minimun transactions"
   ]
  },
  {
   "cell_type": "code",
   "execution_count": 21,
   "id": "850ce314",
   "metadata": {
    "execution": {
     "iopub.execute_input": "2023-08-24T16:14:05.173520Z",
     "iopub.status.busy": "2023-08-24T16:14:05.173144Z",
     "iopub.status.idle": "2023-08-24T16:14:05.189605Z",
     "shell.execute_reply": "2023-08-24T16:14:05.188542Z"
    },
    "papermill": {
     "duration": 0.039795,
     "end_time": "2023-08-24T16:14:05.191989",
     "exception": false,
     "start_time": "2023-08-24T16:14:05.152194",
     "status": "completed"
    },
    "tags": []
   },
   "outputs": [
    {
     "data": {
      "text/html": [
       "<style type=\"text/css\">\n",
       "#T_0f892_row0_col1, #T_0f892_row1_col1 {\n",
       "  background-color: #08306b;\n",
       "  color: #f1f1f1;\n",
       "}\n",
       "#T_0f892_row2_col1 {\n",
       "  background-color: #f7fbff;\n",
       "  color: #000000;\n",
       "}\n",
       "</style>\n",
       "<table id=\"T_0f892\">\n",
       "  <thead>\n",
       "    <tr>\n",
       "      <th class=\"blank level0\" >&nbsp;</th>\n",
       "      <th id=\"T_0f892_level0_col0\" class=\"col_heading level0 col0\" >Country</th>\n",
       "      <th id=\"T_0f892_level0_col1\" class=\"col_heading level0 col1\" >count</th>\n",
       "    </tr>\n",
       "  </thead>\n",
       "  <tbody>\n",
       "    <tr>\n",
       "      <th id=\"T_0f892_level0_row0\" class=\"row_heading level0 row0\" >0</th>\n",
       "      <td id=\"T_0f892_row0_col0\" class=\"data row0 col0\" >Qatar</td>\n",
       "      <td id=\"T_0f892_row0_col1\" class=\"data row0 col1\" >20</td>\n",
       "    </tr>\n",
       "    <tr>\n",
       "      <th id=\"T_0f892_level0_row1\" class=\"row_heading level0 row1\" >1</th>\n",
       "      <td id=\"T_0f892_row1_col0\" class=\"data row1 col0\" >Sri Lanka</td>\n",
       "      <td id=\"T_0f892_row1_col1\" class=\"data row1 col1\" >20</td>\n",
       "    </tr>\n",
       "    <tr>\n",
       "      <th id=\"T_0f892_level0_row2\" class=\"row_heading level0 row2\" >2</th>\n",
       "      <td id=\"T_0f892_row2_col0\" class=\"data row2 col0\" >Canada</td>\n",
       "      <td id=\"T_0f892_row2_col1\" class=\"data row2 col1\" >4</td>\n",
       "    </tr>\n",
       "  </tbody>\n",
       "</table>\n"
      ],
      "text/plain": [
       "<pandas.io.formats.style.Styler at 0x7cb5592a48b0>"
      ]
     },
     "execution_count": 21,
     "metadata": {},
     "output_type": "execute_result"
    }
   ],
   "source": [
    "df['Country'].value_counts()[-3:].rename_axis('Country').reset_index(name='count').style.background_gradient(cmap='Blues')"
   ]
  },
  {
   "cell_type": "markdown",
   "id": "03568061",
   "metadata": {
    "papermill": {
     "duration": 0.020082,
     "end_time": "2023-08-24T16:14:05.232231",
     "exception": false,
     "start_time": "2023-08-24T16:14:05.212149",
     "status": "completed"
    },
    "tags": []
   },
   "source": [
    "### Most popular Cuisines"
   ]
  },
  {
   "cell_type": "code",
   "execution_count": 22,
   "id": "6c62e69c",
   "metadata": {
    "execution": {
     "iopub.execute_input": "2023-08-24T16:14:05.274765Z",
     "iopub.status.busy": "2023-08-24T16:14:05.274170Z",
     "iopub.status.idle": "2023-08-24T16:14:05.291534Z",
     "shell.execute_reply": "2023-08-24T16:14:05.290409Z"
    },
    "papermill": {
     "duration": 0.040891,
     "end_time": "2023-08-24T16:14:05.293705",
     "exception": false,
     "start_time": "2023-08-24T16:14:05.252814",
     "status": "completed"
    },
    "tags": []
   },
   "outputs": [
    {
     "data": {
      "text/html": [
       "<style type=\"text/css\">\n",
       "#T_ab021_row0_col1 {\n",
       "  background-color: #f7fbff;\n",
       "  color: #000000;\n",
       "}\n",
       "#T_ab021_row1_col1 {\n",
       "  background-color: #5da5d1;\n",
       "  color: #f1f1f1;\n",
       "}\n",
       "#T_ab021_row2_col1, #T_ab021_row3_col1 {\n",
       "  background-color: #2373b6;\n",
       "  color: #f1f1f1;\n",
       "}\n",
       "#T_ab021_row4_col1 {\n",
       "  background-color: #1e6db2;\n",
       "  color: #f1f1f1;\n",
       "}\n",
       "#T_ab021_row5_col1 {\n",
       "  background-color: #1561a9;\n",
       "  color: #f1f1f1;\n",
       "}\n",
       "#T_ab021_row6_col1 {\n",
       "  background-color: #08478d;\n",
       "  color: #f1f1f1;\n",
       "}\n",
       "#T_ab021_row7_col1 {\n",
       "  background-color: #084082;\n",
       "  color: #f1f1f1;\n",
       "}\n",
       "#T_ab021_row8_col1 {\n",
       "  background-color: #083674;\n",
       "  color: #f1f1f1;\n",
       "}\n",
       "#T_ab021_row9_col1 {\n",
       "  background-color: #08306b;\n",
       "  color: #f1f1f1;\n",
       "}\n",
       "</style>\n",
       "<table id=\"T_ab021\">\n",
       "  <thead>\n",
       "    <tr>\n",
       "      <th class=\"blank level0\" >&nbsp;</th>\n",
       "      <th id=\"T_ab021_level0_col0\" class=\"col_heading level0 col0\" >Cuisines</th>\n",
       "      <th id=\"T_ab021_level0_col1\" class=\"col_heading level0 col1\" >count</th>\n",
       "    </tr>\n",
       "  </thead>\n",
       "  <tbody>\n",
       "    <tr>\n",
       "      <th id=\"T_ab021_level0_row0\" class=\"row_heading level0 row0\" >0</th>\n",
       "      <td id=\"T_ab021_row0_col0\" class=\"data row0 col0\" >North Indian</td>\n",
       "      <td id=\"T_ab021_row0_col1\" class=\"data row0 col1\" >936</td>\n",
       "    </tr>\n",
       "    <tr>\n",
       "      <th id=\"T_ab021_level0_row1\" class=\"row_heading level0 row1\" >1</th>\n",
       "      <td id=\"T_ab021_row1_col0\" class=\"data row1 col0\" >North Indian, Chinese</td>\n",
       "      <td id=\"T_ab021_row1_col1\" class=\"data row1 col1\" >511</td>\n",
       "    </tr>\n",
       "    <tr>\n",
       "      <th id=\"T_ab021_level0_row2\" class=\"row_heading level0 row2\" >2</th>\n",
       "      <td id=\"T_ab021_row2_col0\" class=\"data row2 col0\" >Chinese</td>\n",
       "      <td id=\"T_ab021_row2_col1\" class=\"data row2 col1\" >354</td>\n",
       "    </tr>\n",
       "    <tr>\n",
       "      <th id=\"T_ab021_level0_row3\" class=\"row_heading level0 row3\" >3</th>\n",
       "      <td id=\"T_ab021_row3_col0\" class=\"data row3 col0\" >Fast Food</td>\n",
       "      <td id=\"T_ab021_row3_col1\" class=\"data row3 col1\" >354</td>\n",
       "    </tr>\n",
       "    <tr>\n",
       "      <th id=\"T_ab021_level0_row4\" class=\"row_heading level0 row4\" >4</th>\n",
       "      <td id=\"T_ab021_row4_col0\" class=\"data row4 col0\" >North Indian, Mughlai</td>\n",
       "      <td id=\"T_ab021_row4_col1\" class=\"data row4 col1\" >334</td>\n",
       "    </tr>\n",
       "    <tr>\n",
       "      <th id=\"T_ab021_level0_row5\" class=\"row_heading level0 row5\" >5</th>\n",
       "      <td id=\"T_ab021_row5_col0\" class=\"data row5 col0\" >Cafe</td>\n",
       "      <td id=\"T_ab021_row5_col1\" class=\"data row5 col1\" >299</td>\n",
       "    </tr>\n",
       "    <tr>\n",
       "      <th id=\"T_ab021_level0_row6\" class=\"row_heading level0 row6\" >6</th>\n",
       "      <td id=\"T_ab021_row6_col0\" class=\"data row6 col0\" >Bakery</td>\n",
       "      <td id=\"T_ab021_row6_col1\" class=\"data row6 col1\" >218</td>\n",
       "    </tr>\n",
       "    <tr>\n",
       "      <th id=\"T_ab021_level0_row7\" class=\"row_heading level0 row7\" >7</th>\n",
       "      <td id=\"T_ab021_row7_col0\" class=\"data row7 col0\" >North Indian, Mughlai, Chinese</td>\n",
       "      <td id=\"T_ab021_row7_col1\" class=\"data row7 col1\" >197</td>\n",
       "    </tr>\n",
       "    <tr>\n",
       "      <th id=\"T_ab021_level0_row8\" class=\"row_heading level0 row8\" >8</th>\n",
       "      <td id=\"T_ab021_row8_col0\" class=\"data row8 col0\" >Bakery, Desserts</td>\n",
       "      <td id=\"T_ab021_row8_col1\" class=\"data row8 col1\" >170</td>\n",
       "    </tr>\n",
       "    <tr>\n",
       "      <th id=\"T_ab021_level0_row9\" class=\"row_heading level0 row9\" >9</th>\n",
       "      <td id=\"T_ab021_row9_col0\" class=\"data row9 col0\" >Street Food</td>\n",
       "      <td id=\"T_ab021_row9_col1\" class=\"data row9 col1\" >149</td>\n",
       "    </tr>\n",
       "  </tbody>\n",
       "</table>\n"
      ],
      "text/plain": [
       "<pandas.io.formats.style.Styler at 0x7cb55a181e10>"
      ]
     },
     "execution_count": 22,
     "metadata": {},
     "output_type": "execute_result"
    }
   ],
   "source": [
    "popular_cuisines=df['Cuisines'].value_counts()[:10].rename_axis('Cuisines').reset_index(name='count')\n",
    "popular_cuisines.style.background_gradient(cmap='Blues_r')"
   ]
  },
  {
   "cell_type": "code",
   "execution_count": 23,
   "id": "dd2f36fd",
   "metadata": {
    "execution": {
     "iopub.execute_input": "2023-08-24T16:14:05.336157Z",
     "iopub.status.busy": "2023-08-24T16:14:05.335667Z",
     "iopub.status.idle": "2023-08-24T16:14:06.095817Z",
     "shell.execute_reply": "2023-08-24T16:14:06.094710Z"
    },
    "papermill": {
     "duration": 0.784198,
     "end_time": "2023-08-24T16:14:06.098282",
     "exception": false,
     "start_time": "2023-08-24T16:14:05.314084",
     "status": "completed"
    },
    "tags": []
   },
   "outputs": [
    {
     "data": {
      "text/plain": [
       "<AxesSubplot: title={'center': 'Most popular Cuisines'}, xlabel='count', ylabel='Cuisines'>"
      ]
     },
     "execution_count": 23,
     "metadata": {},
     "output_type": "execute_result"
    },
    {
     "data": {
      "image/png": "[encoded data removed]",
      "text/plain": [
       "<Figure size 640x480 with 1 Axes>"
      ]
     },
     "metadata": {},
     "output_type": "display_data"
    }
   ],
   "source": [
    "plt.title(\"Most popular Cuisines\")   #add title\n",
    "\n",
    "sns.scatterplot(y=popular_cuisines['Cuisines'],x=popular_cuisines['count'],hue=popular_cuisines['Cuisines'])"
   ]
  },
  {
   "cell_type": "markdown",
   "id": "050e2859",
   "metadata": {
    "papermill": {
     "duration": 0.021411,
     "end_time": "2023-08-24T16:14:06.141704",
     "exception": false,
     "start_time": "2023-08-24T16:14:06.120293",
     "status": "completed"
    },
    "tags": []
   },
   "source": [
    "the top most popular Cuisines are North Indian and chinese "
   ]
  },
  {
   "cell_type": "code",
   "execution_count": 24,
   "id": "22984d2c",
   "metadata": {
    "execution": {
     "iopub.execute_input": "2023-08-24T16:14:06.186004Z",
     "iopub.status.busy": "2023-08-24T16:14:06.185620Z",
     "iopub.status.idle": "2023-08-24T16:14:06.195886Z",
     "shell.execute_reply": "2023-08-24T16:14:06.194837Z"
    },
    "papermill": {
     "duration": 0.035377,
     "end_time": "2023-08-24T16:14:06.198152",
     "exception": false,
     "start_time": "2023-08-24T16:14:06.162775",
     "status": "completed"
    },
    "tags": []
   },
   "outputs": [
    {
     "data": {
      "text/plain": [
       "No     7100\n",
       "Yes    2451\n",
       "Name: Has Online delivery, dtype: int64"
      ]
     },
     "execution_count": 24,
     "metadata": {},
     "output_type": "execute_result"
    }
   ],
   "source": [
    "# Analysing 'Has Online delivery' column\n",
    "\n",
    "df['Has Online delivery' ].value_counts()"
   ]
  },
  {
   "cell_type": "markdown",
   "id": "52537a0e",
   "metadata": {
    "papermill": {
     "duration": 0.020916,
     "end_time": "2023-08-24T16:14:06.240109",
     "exception": false,
     "start_time": "2023-08-24T16:14:06.219193",
     "status": "completed"
    },
    "tags": []
   },
   "source": [
    "Most of the restaurants have no online delivery"
   ]
  },
  {
   "cell_type": "code",
   "execution_count": 25,
   "id": "1f13194f",
   "metadata": {
    "execution": {
     "iopub.execute_input": "2023-08-24T16:14:06.284083Z",
     "iopub.status.busy": "2023-08-24T16:14:06.283693Z",
     "iopub.status.idle": "2023-08-24T16:14:06.511795Z",
     "shell.execute_reply": "2023-08-24T16:14:06.510672Z"
    },
    "papermill": {
     "duration": 0.252677,
     "end_time": "2023-08-24T16:14:06.514220",
     "exception": false,
     "start_time": "2023-08-24T16:14:06.261543",
     "status": "completed"
    },
    "tags": []
   },
   "outputs": [
    {
     "data": {
      "text/plain": [
       "<AxesSubplot: xlabel='count', ylabel='Has Online delivery'>"
      ]
     },
     "execution_count": 25,
     "metadata": {},
     "output_type": "execute_result"
    },
    {
     "data": {
      "image/png": "[encoded data removed]",
      "text/plain": [
       "<Figure size 640x480 with 1 Axes>"
      ]
     },
     "metadata": {},
     "output_type": "display_data"
    }
   ],
   "source": [
    "sns.countplot(y='Has Online delivery',data=df,palette=['silver','pink'])"
   ]
  },
  {
   "cell_type": "code",
   "execution_count": 26,
   "id": "33bd8c4d",
   "metadata": {
    "execution": {
     "iopub.execute_input": "2023-08-24T16:14:06.559827Z",
     "iopub.status.busy": "2023-08-24T16:14:06.558741Z",
     "iopub.status.idle": "2023-08-24T16:14:06.570935Z",
     "shell.execute_reply": "2023-08-24T16:14:06.570083Z"
    },
    "papermill": {
     "duration": 0.037265,
     "end_time": "2023-08-24T16:14:06.573138",
     "exception": false,
     "start_time": "2023-08-24T16:14:06.535873",
     "status": "completed"
    },
    "tags": []
   },
   "outputs": [
    {
     "data": {
      "text/plain": [
       "India    2423\n",
       "UAE        28\n",
       "Name: Country, dtype: int64"
      ]
     },
     "execution_count": 26,
     "metadata": {},
     "output_type": "execute_result"
    }
   ],
   "source": [
    "# Which Countries do have online deliveries option\n",
    "\n",
    "df[df['Has Online delivery']=='Yes'].Country.value_counts()"
   ]
  },
  {
   "cell_type": "markdown",
   "id": "ea544b2c",
   "metadata": {
    "papermill": {
     "duration": 0.021338,
     "end_time": "2023-08-24T16:14:06.616054",
     "exception": false,
     "start_time": "2023-08-24T16:14:06.594716",
     "status": "completed"
    },
    "tags": []
   },
   "source": [
    "Online Deliveries are availabe only in india and UAE"
   ]
  },
  {
   "cell_type": "code",
   "execution_count": 27,
   "id": "c18c6d5e",
   "metadata": {
    "execution": {
     "iopub.execute_input": "2023-08-24T16:14:06.660671Z",
     "iopub.status.busy": "2023-08-24T16:14:06.660297Z",
     "iopub.status.idle": "2023-08-24T16:14:06.924905Z",
     "shell.execute_reply": "2023-08-24T16:14:06.923932Z"
    },
    "papermill": {
     "duration": 0.289954,
     "end_time": "2023-08-24T16:14:06.927420",
     "exception": false,
     "start_time": "2023-08-24T16:14:06.637466",
     "status": "completed"
    },
    "tags": []
   },
   "outputs": [
    {
     "data": {
      "text/plain": [
       "<AxesSubplot: xlabel='count', ylabel='Rating color'>"
      ]
     },
     "execution_count": 27,
     "metadata": {},
     "output_type": "execute_result"
    },
    {
     "data": {
      "image/png": "[encoded data removed]",
      "text/plain": [
       "<Figure size 640x480 with 1 Axes>"
      ]
     },
     "metadata": {},
     "output_type": "display_data"
    }
   ],
   "source": [
    "# Analysing 'Rating color' column\n",
    "\n",
    "sns.countplot(y='Rating color',data=df,palette='rainbow')"
   ]
  },
  {
   "cell_type": "code",
   "execution_count": 28,
   "id": "fcc448a4",
   "metadata": {
    "execution": {
     "iopub.execute_input": "2023-08-24T16:14:06.974069Z",
     "iopub.status.busy": "2023-08-24T16:14:06.973664Z",
     "iopub.status.idle": "2023-08-24T16:14:06.995963Z",
     "shell.execute_reply": "2023-08-24T16:14:06.995094Z"
    },
    "papermill": {
     "duration": 0.048094,
     "end_time": "2023-08-24T16:14:06.998289",
     "exception": false,
     "start_time": "2023-08-24T16:14:06.950195",
     "status": "completed"
    },
    "tags": []
   },
   "outputs": [
    {
     "data": {
      "text/html": [
       "<div>\n",
       "<style scoped>\n",
       "    .dataframe tbody tr th:only-of-type {\n",
       "        vertical-align: middle;\n",
       "    }\n",
       "\n",
       "    .dataframe tbody tr th {\n",
       "        vertical-align: top;\n",
       "    }\n",
       "\n",
       "    .dataframe thead th {\n",
       "        text-align: right;\n",
       "    }\n",
       "</style>\n",
       "<table border=\"1\" class=\"dataframe\">\n",
       "  <thead>\n",
       "    <tr style=\"text-align: right;\">\n",
       "      <th></th>\n",
       "      <th>Average Cost for two</th>\n",
       "      <th>Price range</th>\n",
       "      <th>Aggregate rating</th>\n",
       "      <th>Votes</th>\n",
       "    </tr>\n",
       "    <tr>\n",
       "      <th>Rating color</th>\n",
       "      <th></th>\n",
       "      <th></th>\n",
       "      <th></th>\n",
       "      <th></th>\n",
       "    </tr>\n",
       "  </thead>\n",
       "  <tbody>\n",
       "    <tr>\n",
       "      <th>Dark Green</th>\n",
       "      <td>8137.0</td>\n",
       "      <td>3.0</td>\n",
       "      <td>5.0</td>\n",
       "      <td>852.0</td>\n",
       "    </tr>\n",
       "    <tr>\n",
       "      <th>Green</th>\n",
       "      <td>3556.0</td>\n",
       "      <td>3.0</td>\n",
       "      <td>4.0</td>\n",
       "      <td>520.0</td>\n",
       "    </tr>\n",
       "    <tr>\n",
       "      <th>Orange</th>\n",
       "      <td>568.0</td>\n",
       "      <td>2.0</td>\n",
       "      <td>3.0</td>\n",
       "      <td>48.0</td>\n",
       "    </tr>\n",
       "    <tr>\n",
       "      <th>Red</th>\n",
       "      <td>638.0</td>\n",
       "      <td>2.0</td>\n",
       "      <td>2.0</td>\n",
       "      <td>91.0</td>\n",
       "    </tr>\n",
       "    <tr>\n",
       "      <th>White</th>\n",
       "      <td>340.0</td>\n",
       "      <td>1.0</td>\n",
       "      <td>0.0</td>\n",
       "      <td>1.0</td>\n",
       "    </tr>\n",
       "    <tr>\n",
       "      <th>Yellow</th>\n",
       "      <td>1045.0</td>\n",
       "      <td>2.0</td>\n",
       "      <td>4.0</td>\n",
       "      <td>229.0</td>\n",
       "    </tr>\n",
       "  </tbody>\n",
       "</table>\n",
       "</div>"
      ],
      "text/plain": [
       "              Average Cost for two  Price range  Aggregate rating  Votes\n",
       "Rating color                                                            \n",
       "Dark Green                  8137.0          3.0               5.0  852.0\n",
       "Green                       3556.0          3.0               4.0  520.0\n",
       "Orange                       568.0          2.0               3.0   48.0\n",
       "Red                          638.0          2.0               2.0   91.0\n",
       "White                        340.0          1.0               0.0    1.0\n",
       "Yellow                      1045.0          2.0               4.0  229.0"
      ]
     },
     "execution_count": 28,
     "metadata": {},
     "output_type": "execute_result"
    }
   ],
   "source": [
    "# Analysing 'Average Cost for two' column\n",
    "\n",
    "by_rating=df.groupby(['Rating color']).mean().round()\n",
    "by_rating"
   ]
  },
  {
   "cell_type": "code",
   "execution_count": 29,
   "id": "b6c6a134",
   "metadata": {
    "execution": {
     "iopub.execute_input": "2023-08-24T16:14:07.045836Z",
     "iopub.status.busy": "2023-08-24T16:14:07.044773Z",
     "iopub.status.idle": "2023-08-24T16:14:07.377958Z",
     "shell.execute_reply": "2023-08-24T16:14:07.376782Z"
    },
    "papermill": {
     "duration": 0.359233,
     "end_time": "2023-08-24T16:14:07.380306",
     "exception": false,
     "start_time": "2023-08-24T16:14:07.021073",
     "status": "completed"
    },
    "tags": []
   },
   "outputs": [
    {
     "data": {
      "text/plain": [
       "<AxesSubplot: title={'center': 'Aggregate rating vs Average Cost for two'}, xlabel='Aggregate rating', ylabel='Average Cost for two'>"
      ]
     },
     "execution_count": 29,
     "metadata": {},
     "output_type": "execute_result"
    },
    {
     "data": {
      "image/png": "[encoded data removed]",
      "text/plain": [
       "<Figure size 640x480 with 1 Axes>"
      ]
     },
     "metadata": {},
     "output_type": "display_data"
    }
   ],
   "source": [
    "plt.title(\"Aggregate rating vs Average Cost for two\")     #Add title\n",
    "\n",
    "sns.barplot(x=by_rating['Aggregate rating'],y=by_rating['Average Cost for two'],palette=['red','green','yellow','orange','grey'])"
   ]
  },
  {
   "cell_type": "markdown",
   "id": "7624966a",
   "metadata": {
    "papermill": {
     "duration": 0.023019,
     "end_time": "2023-08-24T16:14:07.426739",
     "exception": false,
     "start_time": "2023-08-24T16:14:07.403720",
     "status": "completed"
    },
    "tags": []
   },
   "source": [
    "Top rated restaurants have high average cost"
   ]
  },
  {
   "cell_type": "code",
   "execution_count": 30,
   "id": "38531911",
   "metadata": {
    "execution": {
     "iopub.execute_input": "2023-08-24T16:14:07.475452Z",
     "iopub.status.busy": "2023-08-24T16:14:07.475082Z",
     "iopub.status.idle": "2023-08-24T16:14:08.091922Z",
     "shell.execute_reply": "2023-08-24T16:14:08.090857Z"
    },
    "papermill": {
     "duration": 0.644077,
     "end_time": "2023-08-24T16:14:08.094715",
     "exception": false,
     "start_time": "2023-08-24T16:14:07.450638",
     "status": "completed"
    },
    "tags": []
   },
   "outputs": [
    {
     "data": {
      "text/plain": [
       "<AxesSubplot: title={'center': 'Rating text vs Average Cost for two'}, xlabel='Rating text', ylabel='Average Cost for two'>"
      ]
     },
     "execution_count": 30,
     "metadata": {},
     "output_type": "execute_result"
    },
    {
     "data": {
      "image/png": "[encoded data removed]",
      "text/plain": [
       "<Figure size 640x480 with 1 Axes>"
      ]
     },
     "metadata": {},
     "output_type": "display_data"
    }
   ],
   "source": [
    "# Analysing 'Rating text' column\n",
    "\n",
    "plt.title(\"Rating text vs Average Cost for two\")     #Add title\n",
    "sns.barplot(x=df['Rating text'],y=df['Average Cost for two'],palette=['cyan','orange', 'red', 'green', 'blue','grey'])"
   ]
  },
  {
   "cell_type": "markdown",
   "id": "b83e9731",
   "metadata": {
    "papermill": {
     "duration": 0.024009,
     "end_time": "2023-08-24T16:14:08.142792",
     "exception": false,
     "start_time": "2023-08-24T16:14:08.118783",
     "status": "completed"
    },
    "tags": []
   },
   "source": [
    "### Combining different features"
   ]
  },
  {
   "cell_type": "code",
   "execution_count": 31,
   "id": "936d6703",
   "metadata": {
    "execution": {
     "iopub.execute_input": "2023-08-24T16:14:08.193535Z",
     "iopub.status.busy": "2023-08-24T16:14:08.192628Z",
     "iopub.status.idle": "2023-08-24T16:14:08.233924Z",
     "shell.execute_reply": "2023-08-24T16:14:08.232757Z"
    },
    "papermill": {
     "duration": 0.06924,
     "end_time": "2023-08-24T16:14:08.236137",
     "exception": false,
     "start_time": "2023-08-24T16:14:08.166897",
     "status": "completed"
    },
    "tags": []
   },
   "outputs": [
    {
     "data": {
      "text/html": [
       "<style type=\"text/css\">\n",
       "#T_b15f1_row0_col0, #T_b15f1_row12_col0, #T_b15f1_row16_col0 {\n",
       "  background-color: #f5fafe;\n",
       "  color: #000000;\n",
       "}\n",
       "#T_b15f1_row0_col1 {\n",
       "  background-color: #2c7cba;\n",
       "  color: #f1f1f1;\n",
       "}\n",
       "#T_b15f1_row0_col2 {\n",
       "  background-color: #4b98ca;\n",
       "  color: #f1f1f1;\n",
       "}\n",
       "#T_b15f1_row1_col0 {\n",
       "  background-color: #135fa7;\n",
       "  color: #f1f1f1;\n",
       "}\n",
       "#T_b15f1_row1_col1, #T_b15f1_row4_col2 {\n",
       "  background-color: #1f6eb3;\n",
       "  color: #f1f1f1;\n",
       "}\n",
       "#T_b15f1_row1_col2 {\n",
       "  background-color: #4695c8;\n",
       "  color: #f1f1f1;\n",
       "}\n",
       "#T_b15f1_row2_col0, #T_b15f1_row10_col0, #T_b15f1_row11_col0, #T_b15f1_row14_col2, #T_b15f1_row17_col0, #T_b15f1_row18_col0, #T_b15f1_row24_col0, #T_b15f1_row25_col0 {\n",
       "  background-color: #f5f9fe;\n",
       "  color: #000000;\n",
       "}\n",
       "#T_b15f1_row2_col1 {\n",
       "  background-color: #1561a9;\n",
       "  color: #f1f1f1;\n",
       "}\n",
       "#T_b15f1_row2_col2 {\n",
       "  background-color: #08488e;\n",
       "  color: #f1f1f1;\n",
       "}\n",
       "#T_b15f1_row3_col0, #T_b15f1_row28_col0, #T_b15f1_row29_col0 {\n",
       "  background-color: #f3f8fe;\n",
       "  color: #000000;\n",
       "}\n",
       "#T_b15f1_row3_col1, #T_b15f1_row3_col2, #T_b15f1_row4_col0 {\n",
       "  background-color: #08306b;\n",
       "  color: #f1f1f1;\n",
       "}\n",
       "#T_b15f1_row4_col1 {\n",
       "  background-color: #125ea6;\n",
       "  color: #f1f1f1;\n",
       "}\n",
       "#T_b15f1_row5_col0 {\n",
       "  background-color: #e3eef8;\n",
       "  color: #000000;\n",
       "}\n",
       "#T_b15f1_row5_col1 {\n",
       "  background-color: #3282be;\n",
       "  color: #f1f1f1;\n",
       "}\n",
       "#T_b15f1_row5_col2 {\n",
       "  background-color: #aacfe5;\n",
       "  color: #000000;\n",
       "}\n",
       "#T_b15f1_row6_col0 {\n",
       "  background-color: #d3e4f3;\n",
       "  color: #000000;\n",
       "}\n",
       "#T_b15f1_row6_col1 {\n",
       "  background-color: #4191c6;\n",
       "  color: #f1f1f1;\n",
       "}\n",
       "#T_b15f1_row6_col2 {\n",
       "  background-color: #99c7e0;\n",
       "  color: #000000;\n",
       "}\n",
       "#T_b15f1_row7_col0 {\n",
       "  background-color: #caddf0;\n",
       "  color: #000000;\n",
       "}\n",
       "#T_b15f1_row7_col1 {\n",
       "  background-color: #3080bd;\n",
       "  color: #f1f1f1;\n",
       "}\n",
       "#T_b15f1_row7_col2 {\n",
       "  background-color: #87bddc;\n",
       "  color: #000000;\n",
       "}\n",
       "#T_b15f1_row8_col0, #T_b15f1_row31_col2 {\n",
       "  background-color: #ccdff1;\n",
       "  color: #000000;\n",
       "}\n",
       "#T_b15f1_row8_col1 {\n",
       "  background-color: #3484bf;\n",
       "  color: #f1f1f1;\n",
       "}\n",
       "#T_b15f1_row8_col2, #T_b15f1_row32_col1 {\n",
       "  background-color: #57a0ce;\n",
       "  color: #f1f1f1;\n",
       "}\n",
       "#T_b15f1_row9_col0 {\n",
       "  background-color: #dbe9f6;\n",
       "  color: #000000;\n",
       "}\n",
       "#T_b15f1_row9_col1 {\n",
       "  background-color: #1764ab;\n",
       "  color: #f1f1f1;\n",
       "}\n",
       "#T_b15f1_row9_col2 {\n",
       "  background-color: #5ca4d0;\n",
       "  color: #f1f1f1;\n",
       "}\n",
       "#T_b15f1_row10_col1 {\n",
       "  background-color: #b8d5ea;\n",
       "  color: #000000;\n",
       "}\n",
       "#T_b15f1_row10_col2, #T_b15f1_row23_col2, #T_b15f1_row32_col0 {\n",
       "  background-color: #eaf3fb;\n",
       "  color: #000000;\n",
       "}\n",
       "#T_b15f1_row11_col1 {\n",
       "  background-color: #bdd7ec;\n",
       "  color: #000000;\n",
       "}\n",
       "#T_b15f1_row11_col2, #T_b15f1_row12_col2 {\n",
       "  background-color: #eef5fc;\n",
       "  color: #000000;\n",
       "}\n",
       "#T_b15f1_row12_col1 {\n",
       "  background-color: #d0e2f2;\n",
       "  color: #000000;\n",
       "}\n",
       "#T_b15f1_row13_col0, #T_b15f1_row14_col0, #T_b15f1_row15_col0 {\n",
       "  background-color: #f6faff;\n",
       "  color: #000000;\n",
       "}\n",
       "#T_b15f1_row13_col1 {\n",
       "  background-color: #dfebf7;\n",
       "  color: #000000;\n",
       "}\n",
       "#T_b15f1_row13_col2, #T_b15f1_row16_col2, #T_b15f1_row19_col0, #T_b15f1_row31_col0 {\n",
       "  background-color: #f2f8fd;\n",
       "  color: #000000;\n",
       "}\n",
       "#T_b15f1_row14_col1 {\n",
       "  background-color: #e7f0fa;\n",
       "  color: #000000;\n",
       "}\n",
       "#T_b15f1_row15_col1, #T_b15f1_row28_col2 {\n",
       "  background-color: #dfecf7;\n",
       "  color: #000000;\n",
       "}\n",
       "#T_b15f1_row15_col2, #T_b15f1_row23_col0, #T_b15f1_row26_col0 {\n",
       "  background-color: #f4f9fe;\n",
       "  color: #000000;\n",
       "}\n",
       "#T_b15f1_row16_col1 {\n",
       "  background-color: #dae8f6;\n",
       "  color: #000000;\n",
       "}\n",
       "#T_b15f1_row17_col1 {\n",
       "  background-color: #cadef0;\n",
       "  color: #000000;\n",
       "}\n",
       "#T_b15f1_row17_col2, #T_b15f1_row20_col0 {\n",
       "  background-color: #f0f6fd;\n",
       "  color: #000000;\n",
       "}\n",
       "#T_b15f1_row18_col1 {\n",
       "  background-color: #c4daee;\n",
       "  color: #000000;\n",
       "}\n",
       "#T_b15f1_row18_col2 {\n",
       "  background-color: #ebf3fb;\n",
       "  color: #000000;\n",
       "}\n",
       "#T_b15f1_row19_col1 {\n",
       "  background-color: #b3d3e8;\n",
       "  color: #000000;\n",
       "}\n",
       "#T_b15f1_row19_col2 {\n",
       "  background-color: #e8f1fa;\n",
       "  color: #000000;\n",
       "}\n",
       "#T_b15f1_row20_col1 {\n",
       "  background-color: #084f99;\n",
       "  color: #f1f1f1;\n",
       "}\n",
       "#T_b15f1_row20_col2 {\n",
       "  background-color: #c1d9ed;\n",
       "  color: #000000;\n",
       "}\n",
       "#T_b15f1_row21_col0, #T_b15f1_row27_col0, #T_b15f1_row27_col1, #T_b15f1_row27_col2 {\n",
       "  background-color: #f7fbff;\n",
       "  color: #000000;\n",
       "}\n",
       "#T_b15f1_row21_col1 {\n",
       "  background-color: #ddeaf7;\n",
       "  color: #000000;\n",
       "}\n",
       "#T_b15f1_row21_col2 {\n",
       "  background-color: #e6f0f9;\n",
       "  color: #000000;\n",
       "}\n",
       "#T_b15f1_row22_col0 {\n",
       "  background-color: #f2f7fd;\n",
       "  color: #000000;\n",
       "}\n",
       "#T_b15f1_row22_col1 {\n",
       "  background-color: #9cc9e1;\n",
       "  color: #000000;\n",
       "}\n",
       "#T_b15f1_row22_col2 {\n",
       "  background-color: #e2edf8;\n",
       "  color: #000000;\n",
       "}\n",
       "#T_b15f1_row23_col1 {\n",
       "  background-color: #c7dbef;\n",
       "  color: #000000;\n",
       "}\n",
       "#T_b15f1_row24_col1 {\n",
       "  background-color: #bfd8ed;\n",
       "  color: #000000;\n",
       "}\n",
       "#T_b15f1_row24_col2, #T_b15f1_row26_col2 {\n",
       "  background-color: #e7f1fa;\n",
       "  color: #000000;\n",
       "}\n",
       "#T_b15f1_row25_col1 {\n",
       "  background-color: #bed8ec;\n",
       "  color: #000000;\n",
       "}\n",
       "#T_b15f1_row25_col2 {\n",
       "  background-color: #ecf4fb;\n",
       "  color: #000000;\n",
       "}\n",
       "#T_b15f1_row26_col1 {\n",
       "  background-color: #afd1e7;\n",
       "  color: #000000;\n",
       "}\n",
       "#T_b15f1_row28_col1 {\n",
       "  background-color: #a1cbe2;\n",
       "  color: #000000;\n",
       "}\n",
       "#T_b15f1_row29_col1 {\n",
       "  background-color: #95c5df;\n",
       "  color: #000000;\n",
       "}\n",
       "#T_b15f1_row29_col2 {\n",
       "  background-color: #dce9f6;\n",
       "  color: #000000;\n",
       "}\n",
       "#T_b15f1_row30_col0 {\n",
       "  background-color: #eaf2fb;\n",
       "  color: #000000;\n",
       "}\n",
       "#T_b15f1_row30_col1 {\n",
       "  background-color: #81badb;\n",
       "  color: #000000;\n",
       "}\n",
       "#T_b15f1_row30_col2 {\n",
       "  background-color: #cddff1;\n",
       "  color: #000000;\n",
       "}\n",
       "#T_b15f1_row31_col1 {\n",
       "  background-color: #61a7d2;\n",
       "  color: #f1f1f1;\n",
       "}\n",
       "#T_b15f1_row32_col2 {\n",
       "  background-color: #b7d4ea;\n",
       "  color: #000000;\n",
       "}\n",
       "</style>\n",
       "<table id=\"T_b15f1\">\n",
       "  <thead>\n",
       "    <tr>\n",
       "      <th class=\"blank\" >&nbsp;</th>\n",
       "      <th class=\"blank\" >&nbsp;</th>\n",
       "      <th class=\"blank level0\" >&nbsp;</th>\n",
       "      <th id=\"T_b15f1_level0_col0\" class=\"col_heading level0 col0\" >Average Cost for two</th>\n",
       "      <th id=\"T_b15f1_level0_col1\" class=\"col_heading level0 col1\" >Price range</th>\n",
       "      <th id=\"T_b15f1_level0_col2\" class=\"col_heading level0 col2\" >Votes</th>\n",
       "    </tr>\n",
       "    <tr>\n",
       "      <th class=\"index_name level0\" >Rating color</th>\n",
       "      <th class=\"index_name level1\" >Aggregate rating</th>\n",
       "      <th class=\"index_name level2\" >Rating text</th>\n",
       "      <th class=\"blank col0\" >&nbsp;</th>\n",
       "      <th class=\"blank col1\" >&nbsp;</th>\n",
       "      <th class=\"blank col2\" >&nbsp;</th>\n",
       "    </tr>\n",
       "  </thead>\n",
       "  <tbody>\n",
       "    <tr>\n",
       "      <th id=\"T_b15f1_level0_row0\" class=\"row_heading level0 row0\" rowspan=\"5\">Dark Green</th>\n",
       "      <th id=\"T_b15f1_level1_row0\" class=\"row_heading level1 row0\" >4.500000</th>\n",
       "      <th id=\"T_b15f1_level2_row0\" class=\"row_heading level2 row0\" >Excellent</th>\n",
       "      <td id=\"T_b15f1_row0_col0\" class=\"data row0 col0\" >542.263158</td>\n",
       "      <td id=\"T_b15f1_row0_col1\" class=\"data row0 col1\" >2.652632</td>\n",
       "      <td id=\"T_b15f1_row0_col2\" class=\"data row0 col2\" >716.157895</td>\n",
       "    </tr>\n",
       "    <tr>\n",
       "      <th id=\"T_b15f1_level1_row1\" class=\"row_heading level1 row1\" >4.600000</th>\n",
       "      <th id=\"T_b15f1_level2_row1\" class=\"row_heading level2 row1\" >Excellent</th>\n",
       "      <td id=\"T_b15f1_row1_col0\" class=\"data row1 col0\" >15455.128205</td>\n",
       "      <td id=\"T_b15f1_row1_col1\" class=\"data row1 col1\" >2.756410</td>\n",
       "      <td id=\"T_b15f1_row1_col2\" class=\"data row1 col2\" >731.102564</td>\n",
       "    </tr>\n",
       "    <tr>\n",
       "      <th id=\"T_b15f1_level1_row2\" class=\"row_heading level1 row2\" >4.700000</th>\n",
       "      <th id=\"T_b15f1_level2_row2\" class=\"row_heading level2 row2\" >Excellent</th>\n",
       "      <td id=\"T_b15f1_row2_col0\" class=\"data row2 col0\" >597.380952</td>\n",
       "      <td id=\"T_b15f1_row2_col1\" class=\"data row2 col1\" >2.857143</td>\n",
       "      <td id=\"T_b15f1_row2_col2\" class=\"data row2 col2\" >1089.166667</td>\n",
       "    </tr>\n",
       "    <tr>\n",
       "      <th id=\"T_b15f1_level1_row3\" class=\"row_heading level1 row3\" >4.800000</th>\n",
       "      <th id=\"T_b15f1_level2_row3\" class=\"row_heading level2 row3\" >Excellent</th>\n",
       "      <td id=\"T_b15f1_row3_col0\" class=\"data row3 col0\" >727.000000</td>\n",
       "      <td id=\"T_b15f1_row3_col1\" class=\"data row3 col1\" >3.240000</td>\n",
       "      <td id=\"T_b15f1_row3_col2\" class=\"data row3 col2\" >1197.880000</td>\n",
       "    </tr>\n",
       "    <tr>\n",
       "      <th id=\"T_b15f1_level1_row4\" class=\"row_heading level1 row4\" >4.900000</th>\n",
       "      <th id=\"T_b15f1_level2_row4\" class=\"row_heading level2 row4\" >Excellent</th>\n",
       "      <td id=\"T_b15f1_row4_col0\" class=\"data row4 col0\" >18833.442623</td>\n",
       "      <td id=\"T_b15f1_row4_col1\" class=\"data row4 col1\" >2.885246</td>\n",
       "      <td id=\"T_b15f1_row4_col2\" class=\"data row4 col2\" >911.967213</td>\n",
       "    </tr>\n",
       "    <tr>\n",
       "      <th id=\"T_b15f1_level0_row5\" class=\"row_heading level0 row5\" rowspan=\"5\">Green</th>\n",
       "      <th id=\"T_b15f1_level1_row5\" class=\"row_heading level1 row5\" >4.000000</th>\n",
       "      <th id=\"T_b15f1_level2_row5\" class=\"row_heading level2 row5\" >Very Good</th>\n",
       "      <td id=\"T_b15f1_row5_col0\" class=\"data row5 col0\" >2256.484962</td>\n",
       "      <td id=\"T_b15f1_row5_col1\" class=\"data row5 col1\" >2.609023</td>\n",
       "      <td id=\"T_b15f1_row5_col2\" class=\"data row5 col2\" >405.560150</td>\n",
       "    </tr>\n",
       "    <tr>\n",
       "      <th id=\"T_b15f1_level1_row6\" class=\"row_heading level1 row6\" >4.100000</th>\n",
       "      <th id=\"T_b15f1_level2_row6\" class=\"row_heading level2 row6\" >Very Good</th>\n",
       "      <td id=\"T_b15f1_row6_col0\" class=\"data row6 col0\" >3669.543796</td>\n",
       "      <td id=\"T_b15f1_row6_col1\" class=\"data row6 col1\" >2.492701</td>\n",
       "      <td id=\"T_b15f1_row6_col2\" class=\"data row6 col2\" >466.828467</td>\n",
       "    </tr>\n",
       "    <tr>\n",
       "      <th id=\"T_b15f1_level1_row7\" class=\"row_heading level1 row7\" >4.200000</th>\n",
       "      <th id=\"T_b15f1_level2_row7\" class=\"row_heading level2 row7\" >Very Good</th>\n",
       "      <td id=\"T_b15f1_row7_col0\" class=\"data row7 col0\" >4664.072398</td>\n",
       "      <td id=\"T_b15f1_row7_col1\" class=\"data row7 col1\" >2.624434</td>\n",
       "      <td id=\"T_b15f1_row7_col2\" class=\"data row7 col2\" >518.303167</td>\n",
       "    </tr>\n",
       "    <tr>\n",
       "      <th id=\"T_b15f1_level1_row8\" class=\"row_heading level1 row8\" >4.300000</th>\n",
       "      <th id=\"T_b15f1_level2_row8\" class=\"row_heading level2 row8\" >Very Good</th>\n",
       "      <td id=\"T_b15f1_row8_col0\" class=\"data row8 col0\" >4430.718391</td>\n",
       "      <td id=\"T_b15f1_row8_col1\" class=\"data row8 col1\" >2.597701</td>\n",
       "      <td id=\"T_b15f1_row8_col2\" class=\"data row8 col2\" >673.367816</td>\n",
       "    </tr>\n",
       "    <tr>\n",
       "      <th id=\"T_b15f1_level1_row9\" class=\"row_heading level1 row9\" >4.400000</th>\n",
       "      <th id=\"T_b15f1_level2_row9\" class=\"row_heading level2 row9\" >Very Good</th>\n",
       "      <td id=\"T_b15f1_row9_col0\" class=\"data row9 col0\" >2983.055556</td>\n",
       "      <td id=\"T_b15f1_row9_col1\" class=\"data row9 col1\" >2.840278</td>\n",
       "      <td id=\"T_b15f1_row9_col2\" class=\"data row9 col2\" >653.291667</td>\n",
       "    </tr>\n",
       "    <tr>\n",
       "      <th id=\"T_b15f1_level0_row10\" class=\"row_heading level0 row10\" rowspan=\"10\">Orange</th>\n",
       "      <th id=\"T_b15f1_level1_row10\" class=\"row_heading level1 row10\" >2.500000</th>\n",
       "      <th id=\"T_b15f1_level2_row10\" class=\"row_heading level2 row10\" >Average</th>\n",
       "      <td id=\"T_b15f1_row10_col0\" class=\"data row10 col0\" >622.272727</td>\n",
       "      <td id=\"T_b15f1_row10_col1\" class=\"data row10 col1\" >1.827273</td>\n",
       "      <td id=\"T_b15f1_row10_col2\" class=\"data row10 col2\" >79.672727</td>\n",
       "    </tr>\n",
       "    <tr>\n",
       "      <th id=\"T_b15f1_level1_row11\" class=\"row_heading level1 row11\" >2.600000</th>\n",
       "      <th id=\"T_b15f1_level2_row11\" class=\"row_heading level2 row11\" >Average</th>\n",
       "      <td id=\"T_b15f1_row11_col0\" class=\"data row11 col0\" >601.675393</td>\n",
       "      <td id=\"T_b15f1_row11_col1\" class=\"data row11 col1\" >1.795812</td>\n",
       "      <td id=\"T_b15f1_row11_col2\" class=\"data row11 col2\" >53.921466</td>\n",
       "    </tr>\n",
       "    <tr>\n",
       "      <th id=\"T_b15f1_level1_row12\" class=\"row_heading level1 row12\" >2.700000</th>\n",
       "      <th id=\"T_b15f1_level2_row12\" class=\"row_heading level2 row12\" >Average</th>\n",
       "      <td id=\"T_b15f1_row12_col0\" class=\"data row12 col0\" >546.800000</td>\n",
       "      <td id=\"T_b15f1_row12_col1\" class=\"data row12 col1\" >1.628000</td>\n",
       "      <td id=\"T_b15f1_row12_col2\" class=\"data row12 col2\" >52.376000</td>\n",
       "    </tr>\n",
       "    <tr>\n",
       "      <th id=\"T_b15f1_level1_row13\" class=\"row_heading level1 row13\" >2.800000</th>\n",
       "      <th id=\"T_b15f1_level2_row13\" class=\"row_heading level2 row13\" >Average</th>\n",
       "      <td id=\"T_b15f1_row13_col0\" class=\"data row13 col0\" >480.190476</td>\n",
       "      <td id=\"T_b15f1_row13_col1\" class=\"data row13 col1\" >1.482540</td>\n",
       "      <td id=\"T_b15f1_row13_col2\" class=\"data row13 col2\" >31.755556</td>\n",
       "    </tr>\n",
       "    <tr>\n",
       "      <th id=\"T_b15f1_level1_row14\" class=\"row_heading level1 row14\" >2.900000</th>\n",
       "      <th id=\"T_b15f1_level2_row14\" class=\"row_heading level2 row14\" >Average</th>\n",
       "      <td id=\"T_b15f1_row14_col0\" class=\"data row14 col0\" >450.446194</td>\n",
       "      <td id=\"T_b15f1_row14_col1\" class=\"data row14 col1\" >1.406824</td>\n",
       "      <td id=\"T_b15f1_row14_col2\" class=\"data row14 col2\" >17.608924</td>\n",
       "    </tr>\n",
       "    <tr>\n",
       "      <th id=\"T_b15f1_level1_row15\" class=\"row_heading level1 row15\" >3.000000</th>\n",
       "      <th id=\"T_b15f1_level2_row15\" class=\"row_heading level2 row15\" >Average</th>\n",
       "      <td id=\"T_b15f1_row15_col0\" class=\"data row15 col0\" >473.717949</td>\n",
       "      <td id=\"T_b15f1_row15_col1\" class=\"data row15 col1\" >1.474359</td>\n",
       "      <td id=\"T_b15f1_row15_col2\" class=\"data row15 col2\" >20.153846</td>\n",
       "    </tr>\n",
       "    <tr>\n",
       "      <th id=\"T_b15f1_level1_row16\" class=\"row_heading level1 row16\" >3.100000</th>\n",
       "      <th id=\"T_b15f1_level2_row16\" class=\"row_heading level2 row16\" >Average</th>\n",
       "      <td id=\"T_b15f1_row16_col0\" class=\"data row16 col0\" >490.414258</td>\n",
       "      <td id=\"T_b15f1_row16_col1\" class=\"data row16 col1\" >1.531792</td>\n",
       "      <td id=\"T_b15f1_row16_col2\" class=\"data row16 col2\" >32.163776</td>\n",
       "    </tr>\n",
       "    <tr>\n",
       "      <th id=\"T_b15f1_level1_row17\" class=\"row_heading level1 row17\" >3.200000</th>\n",
       "      <th id=\"T_b15f1_level2_row17\" class=\"row_heading level2 row17\" >Average</th>\n",
       "      <td id=\"T_b15f1_row17_col0\" class=\"data row17 col0\" >575.124521</td>\n",
       "      <td id=\"T_b15f1_row17_col1\" class=\"data row17 col1\" >1.691571</td>\n",
       "      <td id=\"T_b15f1_row17_col2\" class=\"data row17 col2\" >45.103448</td>\n",
       "    </tr>\n",
       "    <tr>\n",
       "      <th id=\"T_b15f1_level1_row18\" class=\"row_heading level1 row18\" >3.300000</th>\n",
       "      <th id=\"T_b15f1_level2_row18\" class=\"row_heading level2 row18\" >Average</th>\n",
       "      <td id=\"T_b15f1_row18_col0\" class=\"data row18 col0\" >608.664596</td>\n",
       "      <td id=\"T_b15f1_row18_col1\" class=\"data row18 col1\" >1.749482</td>\n",
       "      <td id=\"T_b15f1_row18_col2\" class=\"data row18 col2\" >72.207039</td>\n",
       "    </tr>\n",
       "    <tr>\n",
       "      <th id=\"T_b15f1_level1_row19\" class=\"row_heading level1 row19\" >3.400000</th>\n",
       "      <th id=\"T_b15f1_level2_row19\" class=\"row_heading level2 row19\" >Average</th>\n",
       "      <td id=\"T_b15f1_row19_col0\" class=\"data row19 col0\" >824.236948</td>\n",
       "      <td id=\"T_b15f1_row19_col1\" class=\"data row19 col1\" >1.855422</td>\n",
       "      <td id=\"T_b15f1_row19_col2\" class=\"data row19 col2\" >94.162651</td>\n",
       "    </tr>\n",
       "    <tr>\n",
       "      <th id=\"T_b15f1_level0_row20\" class=\"row_heading level0 row20\" rowspan=\"7\">Red</th>\n",
       "      <th id=\"T_b15f1_level1_row20\" class=\"row_heading level1 row20\" >1.800000</th>\n",
       "      <th id=\"T_b15f1_level2_row20\" class=\"row_heading level2 row20\" >Poor</th>\n",
       "      <td id=\"T_b15f1_row20_col0\" class=\"data row20 col0\" >1000.000000</td>\n",
       "      <td id=\"T_b15f1_row20_col1\" class=\"data row20 col1\" >3.000000</td>\n",
       "      <td id=\"T_b15f1_row20_col2\" class=\"data row20 col2\" >322.000000</td>\n",
       "    </tr>\n",
       "    <tr>\n",
       "      <th id=\"T_b15f1_level1_row21\" class=\"row_heading level1 row21\" >1.900000</th>\n",
       "      <th id=\"T_b15f1_level2_row21\" class=\"row_heading level2 row21\" >Poor</th>\n",
       "      <td id=\"T_b15f1_row21_col0\" class=\"data row21 col0\" >375.000000</td>\n",
       "      <td id=\"T_b15f1_row21_col1\" class=\"data row21 col1\" >1.500000</td>\n",
       "      <td id=\"T_b15f1_row21_col2\" class=\"data row21 col2\" >106.000000</td>\n",
       "    </tr>\n",
       "    <tr>\n",
       "      <th id=\"T_b15f1_level1_row22\" class=\"row_heading level1 row22\" >2.000000</th>\n",
       "      <th id=\"T_b15f1_level2_row22\" class=\"row_heading level2 row22\" >Poor</th>\n",
       "      <td id=\"T_b15f1_row22_col0\" class=\"data row22 col0\" >892.857143</td>\n",
       "      <td id=\"T_b15f1_row22_col1\" class=\"data row22 col1\" >2.000000</td>\n",
       "      <td id=\"T_b15f1_row22_col2\" class=\"data row22 col2\" >129.714286</td>\n",
       "    </tr>\n",
       "    <tr>\n",
       "      <th id=\"T_b15f1_level1_row23\" class=\"row_heading level1 row23\" >2.100000</th>\n",
       "      <th id=\"T_b15f1_level2_row23\" class=\"row_heading level2 row23\" >Poor</th>\n",
       "      <td id=\"T_b15f1_row23_col0\" class=\"data row23 col0\" >633.333333</td>\n",
       "      <td id=\"T_b15f1_row23_col1\" class=\"data row23 col1\" >1.733333</td>\n",
       "      <td id=\"T_b15f1_row23_col2\" class=\"data row23 col2\" >76.400000</td>\n",
       "    </tr>\n",
       "    <tr>\n",
       "      <th id=\"T_b15f1_level1_row24\" class=\"row_heading level1 row24\" >2.200000</th>\n",
       "      <th id=\"T_b15f1_level2_row24\" class=\"row_heading level2 row24\" >Poor</th>\n",
       "      <td id=\"T_b15f1_row24_col0\" class=\"data row24 col0\" >599.074074</td>\n",
       "      <td id=\"T_b15f1_row24_col1\" class=\"data row24 col1\" >1.777778</td>\n",
       "      <td id=\"T_b15f1_row24_col2\" class=\"data row24 col2\" >94.962963</td>\n",
       "    </tr>\n",
       "    <tr>\n",
       "      <th id=\"T_b15f1_level1_row25\" class=\"row_heading level1 row25\" >2.300000</th>\n",
       "      <th id=\"T_b15f1_level2_row25\" class=\"row_heading level2 row25\" >Poor</th>\n",
       "      <td id=\"T_b15f1_row25_col0\" class=\"data row25 col0\" >565.957447</td>\n",
       "      <td id=\"T_b15f1_row25_col1\" class=\"data row25 col1\" >1.787234</td>\n",
       "      <td id=\"T_b15f1_row25_col2\" class=\"data row25 col2\" >69.808511</td>\n",
       "    </tr>\n",
       "    <tr>\n",
       "      <th id=\"T_b15f1_level1_row26\" class=\"row_heading level1 row26\" >2.400000</th>\n",
       "      <th id=\"T_b15f1_level2_row26\" class=\"row_heading level2 row26\" >Poor</th>\n",
       "      <td id=\"T_b15f1_row26_col0\" class=\"data row26 col0\" >670.919540</td>\n",
       "      <td id=\"T_b15f1_row26_col1\" class=\"data row26 col1\" >1.885057</td>\n",
       "      <td id=\"T_b15f1_row26_col2\" class=\"data row26 col2\" >97.011494</td>\n",
       "    </tr>\n",
       "    <tr>\n",
       "      <th id=\"T_b15f1_level0_row27\" class=\"row_heading level0 row27\" >White</th>\n",
       "      <th id=\"T_b15f1_level1_row27\" class=\"row_heading level1 row27\" >0.000000</th>\n",
       "      <th id=\"T_b15f1_level2_row27\" class=\"row_heading level2 row27\" >Not rated</th>\n",
       "      <td id=\"T_b15f1_row27_col0\" class=\"data row27 col0\" >340.337523</td>\n",
       "      <td id=\"T_b15f1_row27_col1\" class=\"data row27 col1\" >1.235102</td>\n",
       "      <td id=\"T_b15f1_row27_col2\" class=\"data row27 col2\" >0.870112</td>\n",
       "    </tr>\n",
       "    <tr>\n",
       "      <th id=\"T_b15f1_level0_row28\" class=\"row_heading level0 row28\" rowspan=\"5\">Yellow</th>\n",
       "      <th id=\"T_b15f1_level1_row28\" class=\"row_heading level1 row28\" >3.500000</th>\n",
       "      <th id=\"T_b15f1_level2_row28\" class=\"row_heading level2 row28\" >Good</th>\n",
       "      <td id=\"T_b15f1_row28_col0\" class=\"data row28 col0\" >726.270833</td>\n",
       "      <td id=\"T_b15f1_row28_col1\" class=\"data row28 col1\" >1.966667</td>\n",
       "      <td id=\"T_b15f1_row28_col2\" class=\"data row28 col2\" >142.429167</td>\n",
       "    </tr>\n",
       "    <tr>\n",
       "      <th id=\"T_b15f1_level1_row29\" class=\"row_heading level1 row29\" >3.600000</th>\n",
       "      <th id=\"T_b15f1_level2_row29\" class=\"row_heading level2 row29\" >Good</th>\n",
       "      <td id=\"T_b15f1_row29_col0\" class=\"data row29 col0\" >717.482533</td>\n",
       "      <td id=\"T_b15f1_row29_col1\" class=\"data row29 col1\" >2.028384</td>\n",
       "      <td id=\"T_b15f1_row29_col2\" class=\"data row29 col2\" >165.120087</td>\n",
       "    </tr>\n",
       "    <tr>\n",
       "      <th id=\"T_b15f1_level1_row30\" class=\"row_heading level1 row30\" >3.700000</th>\n",
       "      <th id=\"T_b15f1_level2_row30\" class=\"row_heading level2 row30\" >Good</th>\n",
       "      <td id=\"T_b15f1_row30_col0\" class=\"data row30 col0\" >1623.854801</td>\n",
       "      <td id=\"T_b15f1_row30_col1\" class=\"data row30 col1\" >2.128806</td>\n",
       "      <td id=\"T_b15f1_row30_col2\" class=\"data row30 col2\" >261.067916</td>\n",
       "    </tr>\n",
       "    <tr>\n",
       "      <th id=\"T_b15f1_level1_row31\" class=\"row_heading level1 row31\" >3.800000</th>\n",
       "      <th id=\"T_b15f1_level2_row31\" class=\"row_heading level2 row31\" >Good</th>\n",
       "      <td id=\"T_b15f1_row31_col0\" class=\"data row31 col0\" >792.835000</td>\n",
       "      <td id=\"T_b15f1_row31_col1\" class=\"data row31 col1\" >2.295000</td>\n",
       "      <td id=\"T_b15f1_row31_col2\" class=\"data row31 col2\" >266.315000</td>\n",
       "    </tr>\n",
       "    <tr>\n",
       "      <th id=\"T_b15f1_level1_row32\" class=\"row_heading level1 row32\" >3.900000</th>\n",
       "      <th id=\"T_b15f1_level2_row32\" class=\"row_heading level2 row32\" >Good</th>\n",
       "      <td id=\"T_b15f1_row32_col0\" class=\"data row32 col0\" >1511.417910</td>\n",
       "      <td id=\"T_b15f1_row32_col1\" class=\"data row32 col1\" >2.358209</td>\n",
       "      <td id=\"T_b15f1_row32_col2\" class=\"data row32 col2\" >357.149254</td>\n",
       "    </tr>\n",
       "  </tbody>\n",
       "</table>\n"
      ],
      "text/plain": [
       "<pandas.io.formats.style.Styler at 0x7cb558e8f0a0>"
      ]
     },
     "execution_count": 31,
     "metadata": {},
     "output_type": "execute_result"
    }
   ],
   "source": [
    "# to create a table with selected features for better understanding\n",
    "df.groupby(['Rating color','Aggregate rating','Rating text']).mean().style.background_gradient(cmap='Blues')"
   ]
  },
  {
   "cell_type": "markdown",
   "id": "28dd8d80",
   "metadata": {
    "papermill": {
     "duration": 0.024574,
     "end_time": "2023-08-24T16:14:08.285725",
     "exception": false,
     "start_time": "2023-08-24T16:14:08.261151",
     "status": "completed"
    },
    "tags": []
   },
   "source": [
    "## Conclusion"
   ]
  },
  {
   "cell_type": "code",
   "execution_count": 32,
   "id": "bf6bd77c",
   "metadata": {
    "execution": {
     "iopub.execute_input": "2023-08-24T16:14:08.337068Z",
     "iopub.status.busy": "2023-08-24T16:14:08.336402Z",
     "iopub.status.idle": "2023-08-24T16:14:08.402956Z",
     "shell.execute_reply": "2023-08-24T16:14:08.401953Z"
    },
    "papermill": {
     "duration": 0.095246,
     "end_time": "2023-08-24T16:14:08.405594",
     "exception": false,
     "start_time": "2023-08-24T16:14:08.310348",
     "status": "completed"
    },
    "tags": []
   },
   "outputs": [],
   "source": [
    "pd.options.plotting.backend='plotly'"
   ]
  },
  {
   "cell_type": "code",
   "execution_count": 33,
   "id": "98e51066",
   "metadata": {
    "execution": {
     "iopub.execute_input": "2023-08-24T16:14:08.457834Z",
     "iopub.status.busy": "2023-08-24T16:14:08.457472Z",
     "iopub.status.idle": "2023-08-24T16:14:11.030966Z",
     "shell.execute_reply": "2023-08-24T16:14:11.030160Z"
    },
    "papermill": {
     "duration": 2.602442,
     "end_time": "2023-08-24T16:14:11.033347",
     "exception": false,
     "start_time": "2023-08-24T16:14:08.430905",
     "status": "completed"
    },
    "tags": []
   },
   "outputs": [
    {
     "data": {
      "application/vnd.jupyter.widget-view+json": {
       "model_id": "7e08392f30da431f92d3ffdc90ea2a41",
       "version_major": 2,
       "version_minor": 0
      },
      "text/plain": [
       "interactive(children=(Dropdown(description='Country', options=('Phillipines', 'Brazil', 'United States', 'Aust…"
      ]
     },
     "metadata": {},
     "output_type": "display_data"
    }
   ],
   "source": [
    "@interact\n",
    "def filter_country(Country=list(df.Country.unique())):\n",
    "    filtered_df=df[df.Country==Country]\n",
    "    \n",
    "    fig=filtered_df.plot(kind='scatter',x='Aggregate rating',y='Price range',color='City',size='Votes')\n",
    "    fig.show()"
   ]
  }
 ],
 "metadata": {
  "kernelspec": {
   "display_name": "Python 3 (ipykernel)",
   "language": "python",
   "name": "python3"
  },
  "language_info": {
   "codemirror_mode": {
    "name": "ipython",
    "version": 3
   },
   "file_extension": ".py",
   "mimetype": "text/x-python",
   "name": "python",
   "nbconvert_exporter": "python",
   "pygments_lexer": "ipython3",
   "version": "3.9.13"
  },
  "papermill": {
   "default_parameters": {},
   "duration": 23.766895,
   "end_time": "2023-08-24T16:14:12.134567",
   "environment_variables": {},
   "exception": null,
   "input_path": "__notebook__.ipynb",
   "output_path": "__notebook__.ipynb",
   "parameters": {},
   "start_time": "2023-08-24T16:13:48.367672",
   "version": "2.4.0"
  },
  "widgets": {
   "application/vnd.jupyter.widget-state+json": {
    "state": {
     "0077c4fcf9bb46a0a3cfe6bd8f9a5182": {
      "model_module": "@jupyter-widgets/base",
      "model_module_version": "1.2.0",
      "model_name": "LayoutModel",
      "state": {
       "_model_module": "@jupyter-widgets/base",
       "_model_module_version": "1.2.0",
       "_model_name": "LayoutModel",
       "_view_count": null,
       "_view_module": "@jupyter-widgets/base",
       "_view_module_version": "1.2.0",
       "_view_name": "LayoutView",
       "align_content": null,
       "align_items": null,
       "align_self": null,
       "border": null,
       "bottom": null,
       "display": null,
       "flex": null,
       "flex_flow": null,
       "grid_area": null,
       "grid_auto_columns": null,
       "grid_auto_flow": null,
       "grid_auto_rows": null,
       "grid_column": null,
       "grid_gap": null,
       "grid_row": null,
       "grid_template_areas": null,
       "grid_template_columns": null,
       "grid_template_rows": null,
       "height": null,
       "justify_content": null,
       "justify_items": null,
       "left": null,
       "margin": null,
       "max_height": null,
       "max_width": null,
       "min_height": null,
       "min_width": null,
       "object_fit": null,
       "object_position": null,
       "order": null,
       "overflow": null,
       "overflow_x": null,
       "overflow_y": null,
       "padding": null,
       "right": null,
       "top": null,
       "visibility": null,
       "width": null
      }
     },
     "02d377e4dd134ddf923edde62219602d": {
      "model_module": "@jupyter-widgets/controls",
      "model_module_version": "1.5.0",
      "model_name": "IntSliderModel",
      "state": {
       "_dom_classes": [],
       "_model_module": "@jupyter-widgets/controls",
       "_model_module_version": "1.5.0",
       "_model_name": "IntSliderModel",
       "_view_count": null,
       "_view_module": "@jupyter-widgets/controls",
       "_view_module_version": "1.5.0",
       "_view_name": "IntSliderView",
       "continuous_update": true,
       "description": "rating",
       "description_tooltip": null,
       "disabled": false,
       "layout": "IPY_MODEL_25cfe43df62a443ba216ab460e75da38",
       "max": 5,
       "min": 0,
       "orientation": "horizontal",
       "readout": true,
       "readout_format": "d",
       "step": 1,
       "style": "IPY_MODEL_97901ad67ceb42fb9f3f89e83382b031",
       "value": 2
      }
     },
     "0de9eceeaafc462fab80923a4cd9702a": {
      "model_module": "@jupyter-widgets/controls",
      "model_module_version": "1.5.0",
      "model_name": "DescriptionStyleModel",
      "state": {
       "_model_module": "@jupyter-widgets/controls",
       "_model_module_version": "1.5.0",
       "_model_name": "DescriptionStyleModel",
       "_view_count": null,
       "_view_module": "@jupyter-widgets/base",
       "_view_module_version": "1.2.0",
       "_view_name": "StyleView",
       "description_width": ""
      }
     },
     "25cfe43df62a443ba216ab460e75da38": {
      "model_module": "@jupyter-widgets/base",
      "model_module_version": "1.2.0",
      "model_name": "LayoutModel",
      "state": {
       "_model_module": "@jupyter-widgets/base",
       "_model_module_version": "1.2.0",
       "_model_name": "LayoutModel",
       "_view_count": null,
       "_view_module": "@jupyter-widgets/base",
       "_view_module_version": "1.2.0",
       "_view_name": "LayoutView",
       "align_content": null,
       "align_items": null,
       "align_self": null,
       "border": null,
       "bottom": null,
       "display": null,
       "flex": null,
       "flex_flow": null,
       "grid_area": null,
       "grid_auto_columns": null,
       "grid_auto_flow": null,
       "grid_auto_rows": null,
       "grid_column": null,
       "grid_gap": null,
       "grid_row": null,
       "grid_template_areas": null,
       "grid_template_columns": null,
       "grid_template_rows": null,
       "height": null,
       "justify_content": null,
       "justify_items": null,
       "left": null,
       "margin": null,
       "max_height": null,
       "max_width": null,
       "min_height": null,
       "min_width": null,
       "object_fit": null,
       "object_position": null,
       "order": null,
       "overflow": null,
       "overflow_x": null,
       "overflow_y": null,
       "padding": null,
       "right": null,
       "top": null,
       "visibility": null,
       "width": null
      }
     },
     "3e7b4069fa3a45359d3988977434d4e4": {
      "model_module": "@jupyter-widgets/output",
      "model_module_version": "1.0.0",
      "model_name": "OutputModel",
      "state": {
       "_dom_classes": [],
       "_model_module": "@jupyter-widgets/output",
       "_model_module_version": "1.0.0",
       "_model_name": "OutputModel",
       "_view_count": null,
       "_view_module": "@jupyter-widgets/output",
       "_view_module_version": "1.0.0",
       "_view_name": "OutputView",
       "layout": "IPY_MODEL_7f829eb8299543769809cff6ff604de0",
       "msg_id": "",
       "outputs": [
        {
         "data": {
          "text/html": "        <script type=\"text/javascript\">\n        window.PlotlyConfig = {MathJaxConfig: 'local'};\n        if (window.MathJax && window.MathJax.Hub && window.MathJax.Hub.Config) {window.MathJax.Hub.Config({SVG: {font: \"STIX-Web\"}});}\n        if (typeof require !== 'undefined') {\n        require.undef(\"plotly\");\n        requirejs.config({\n            paths: {\n                'plotly': ['https://cdn.plot.ly/plotly-2.20.0.min']\n            }\n        });\n        require(['plotly'], function(Plotly) {\n            window._Plotly = Plotly;\n        });\n        }\n        </script>\n        "
         },
         "metadata": {},
         "output_type": "display_data"
        },
        {
         "data": {
          "text/html": "<div>                            <div id=\"a7f8294b-0ed8-4d49-8ceb-9b276ca94660\" class=\"plotly-graph-div\" style=\"height:525px; width:100%;\"></div>            <script type=\"text/javascript\">                require([\"plotly\"], function(Plotly) {                    window.PLOTLYENV=window.PLOTLYENV || {};                                    if (document.getElementById(\"a7f8294b-0ed8-4d49-8ceb-9b276ca94660\")) {                    Plotly.newPlot(                        \"a7f8294b-0ed8-4d49-8ceb-9b276ca94660\",                        [{\"hovertemplate\":\"City=Makati City<br>Aggregate rating=%{x}<br>Price range=%{y}<br>Votes=%{marker.size}<extra></extra>\",\"legendgroup\":\"Makati City\",\"marker\":{\"color\":\"#636efa\",\"size\":[314,591],\"sizemode\":\"area\",\"sizeref\":2.675,\"symbol\":\"circle\"},\"mode\":\"markers\",\"name\":\"Makati City\",\"orientation\":\"v\",\"showlegend\":true,\"x\":[4.8,4.5],\"xaxis\":\"x\",\"y\":[3,3],\"yaxis\":\"y\",\"type\":\"scatter\"},{\"hovertemplate\":\"City=Mandaluyong City<br>Aggregate rating=%{x}<br>Price range=%{y}<br>Votes=%{marker.size}<extra></extra>\",\"legendgroup\":\"Mandaluyong City\",\"marker\":{\"color\":\"#EF553B\",\"size\":[270,365,229,336],\"sizemode\":\"area\",\"sizeref\":2.675,\"symbol\":\"circle\"},\"mode\":\"markers\",\"name\":\"Mandaluyong City\",\"orientation\":\"v\",\"showlegend\":true,\"x\":[4.4,4.9,4.8,4.4],\"xaxis\":\"x\",\"y\":[4,4,4,3],\"yaxis\":\"y\",\"type\":\"scatter\"},{\"hovertemplate\":\"City=Pasay City<br>Aggregate rating=%{x}<br>Price range=%{y}<br>Votes=%{marker.size}<extra></extra>\",\"legendgroup\":\"Pasay City\",\"marker\":{\"color\":\"#00cc96\",\"size\":[520,677,621],\"sizemode\":\"area\",\"sizeref\":2.675,\"symbol\":\"circle\"},\"mode\":\"markers\",\"name\":\"Pasay City\",\"orientation\":\"v\",\"showlegend\":true,\"x\":[4.0,4.2,4.9],\"xaxis\":\"x\",\"y\":[4,4,4],\"yaxis\":\"y\",\"type\":\"scatter\"},{\"hovertemplate\":\"City=Pasig City<br>Aggregate rating=%{x}<br>Price range=%{y}<br>Votes=%{marker.size}<extra></extra>\",\"legendgroup\":\"Pasig City\",\"marker\":{\"color\":\"#ab63fa\",\"size\":[532,1070,488],\"sizemode\":\"area\",\"sizeref\":2.675,\"symbol\":\"circle\"},\"mode\":\"markers\",\"name\":\"Pasig City\",\"orientation\":\"v\",\"showlegend\":true,\"x\":[4.8,4.9,4.2],\"xaxis\":\"x\",\"y\":[3,3,3],\"yaxis\":\"y\",\"type\":\"scatter\"},{\"hovertemplate\":\"City=Quezon City<br>Aggregate rating=%{x}<br>Price range=%{y}<br>Votes=%{marker.size}<extra></extra>\",\"legendgroup\":\"Quezon City\",\"marker\":{\"color\":\"#FFA15A\",\"size\":[294],\"sizemode\":\"area\",\"sizeref\":2.675,\"symbol\":\"circle\"},\"mode\":\"markers\",\"name\":\"Quezon City\",\"orientation\":\"v\",\"showlegend\":true,\"x\":[4.8],\"xaxis\":\"x\",\"y\":[3],\"yaxis\":\"y\",\"type\":\"scatter\"},{\"hovertemplate\":\"City=San Juan City<br>Aggregate rating=%{x}<br>Price range=%{y}<br>Votes=%{marker.size}<extra></extra>\",\"legendgroup\":\"San Juan City\",\"marker\":{\"color\":\"#19d3f3\",\"size\":[458,223],\"sizemode\":\"area\",\"sizeref\":2.675,\"symbol\":\"circle\"},\"mode\":\"markers\",\"name\":\"San Juan City\",\"orientation\":\"v\",\"showlegend\":true,\"x\":[4.2,4.3],\"xaxis\":\"x\",\"y\":[3,3],\"yaxis\":\"y\",\"type\":\"scatter\"},{\"hovertemplate\":\"City=Santa Rosa<br>Aggregate rating=%{x}<br>Price range=%{y}<br>Votes=%{marker.size}<extra></extra>\",\"legendgroup\":\"Santa Rosa\",\"marker\":{\"color\":\"#FF6692\",\"size\":[29,72],\"sizemode\":\"area\",\"sizeref\":2.675,\"symbol\":\"circle\"},\"mode\":\"markers\",\"name\":\"Santa Rosa\",\"orientation\":\"v\",\"showlegend\":true,\"x\":[3.6,4.0],\"xaxis\":\"x\",\"y\":[3,3],\"yaxis\":\"y\",\"type\":\"scatter\"},{\"hovertemplate\":\"City=Tagaytay City<br>Aggregate rating=%{x}<br>Price range=%{y}<br>Votes=%{marker.size}<extra></extra>\",\"legendgroup\":\"Tagaytay City\",\"marker\":{\"color\":\"#B6E880\",\"size\":[211],\"sizemode\":\"area\",\"sizeref\":2.675,\"symbol\":\"circle\"},\"mode\":\"markers\",\"name\":\"Tagaytay City\",\"orientation\":\"v\",\"showlegend\":true,\"x\":[4.5],\"xaxis\":\"x\",\"y\":[3],\"yaxis\":\"y\",\"type\":\"scatter\"},{\"hovertemplate\":\"City=Taguig City<br>Aggregate rating=%{x}<br>Price range=%{y}<br>Votes=%{marker.size}<extra></extra>\",\"legendgroup\":\"Taguig City\",\"marker\":{\"color\":\"#FF97FF\",\"size\":[118,392,535,618],\"sizemode\":\"area\",\"sizeref\":2.675,\"symbol\":\"circle\"},\"mode\":\"markers\",\"name\":\"Taguig City\",\"orientation\":\"v\",\"showlegend\":true,\"x\":[4.5,4.4,4.7,4.5],\"xaxis\":\"x\",\"y\":[2,4,4,4],\"yaxis\":\"y\",\"type\":\"scatter\"}],                        {\"template\":{\"data\":{\"histogram2dcontour\":[{\"type\":\"histogram2dcontour\",\"colorbar\":{\"outlinewidth\":0,\"ticks\":\"\"},\"colorscale\":[[0.0,\"#0d0887\"],[0.1111111111111111,\"#46039f\"],[0.2222222222222222,\"#7201a8\"],[0.3333333333333333,\"#9c179e\"],[0.4444444444444444,\"#bd3786\"],[0.5555555555555556,\"#d8576b\"],[0.6666666666666666,\"#ed7953\"],[0.7777777777777778,\"#fb9f3a\"],[0.8888888888888888,\"#fdca26\"],[1.0,\"#f0f921\"]]}],\"choropleth\":[{\"type\":\"choropleth\",\"colorbar\":{\"outlinewidth\":0,\"ticks\":\"\"}}],\"histogram2d\":[{\"type\":\"histogram2d\",\"colorbar\":{\"outlinewidth\":0,\"ticks\":\"\"},\"colorscale\":[[0.0,\"#0d0887\"],[0.1111111111111111,\"#46039f\"],[0.2222222222222222,\"#7201a8\"],[0.3333333333333333,\"#9c179e\"],[0.4444444444444444,\"#bd3786\"],[0.5555555555555556,\"#d8576b\"],[0.6666666666666666,\"#ed7953\"],[0.7777777777777778,\"#fb9f3a\"],[0.8888888888888888,\"#fdca26\"],[1.0,\"#f0f921\"]]}],\"heatmap\":[{\"type\":\"heatmap\",\"colorbar\":{\"outlinewidth\":0,\"ticks\":\"\"},\"colorscale\":[[0.0,\"#0d0887\"],[0.1111111111111111,\"#46039f\"],[0.2222222222222222,\"#7201a8\"],[0.3333333333333333,\"#9c179e\"],[0.4444444444444444,\"#bd3786\"],[0.5555555555555556,\"#d8576b\"],[0.6666666666666666,\"#ed7953\"],[0.7777777777777778,\"#fb9f3a\"],[0.8888888888888888,\"#fdca26\"],[1.0,\"#f0f921\"]]}],\"heatmapgl\":[{\"type\":\"heatmapgl\",\"colorbar\":{\"outlinewidth\":0,\"ticks\":\"\"},\"colorscale\":[[0.0,\"#0d0887\"],[0.1111111111111111,\"#46039f\"],[0.2222222222222222,\"#7201a8\"],[0.3333333333333333,\"#9c179e\"],[0.4444444444444444,\"#bd3786\"],[0.5555555555555556,\"#d8576b\"],[0.6666666666666666,\"#ed7953\"],[0.7777777777777778,\"#fb9f3a\"],[0.8888888888888888,\"#fdca26\"],[1.0,\"#f0f921\"]]}],\"contourcarpet\":[{\"type\":\"contourcarpet\",\"colorbar\":{\"outlinewidth\":0,\"ticks\":\"\"}}],\"contour\":[{\"type\":\"contour\",\"colorbar\":{\"outlinewidth\":0,\"ticks\":\"\"},\"colorscale\":[[0.0,\"#0d0887\"],[0.1111111111111111,\"#46039f\"],[0.2222222222222222,\"#7201a8\"],[0.3333333333333333,\"#9c179e\"],[0.4444444444444444,\"#bd3786\"],[0.5555555555555556,\"#d8576b\"],[0.6666666666666666,\"#ed7953\"],[0.7777777777777778,\"#fb9f3a\"],[0.8888888888888888,\"#fdca26\"],[1.0,\"#f0f921\"]]}],\"surface\":[{\"type\":\"surface\",\"colorbar\":{\"outlinewidth\":0,\"ticks\":\"\"},\"colorscale\":[[0.0,\"#0d0887\"],[0.1111111111111111,\"#46039f\"],[0.2222222222222222,\"#7201a8\"],[0.3333333333333333,\"#9c179e\"],[0.4444444444444444,\"#bd3786\"],[0.5555555555555556,\"#d8576b\"],[0.6666666666666666,\"#ed7953\"],[0.7777777777777778,\"#fb9f3a\"],[0.8888888888888888,\"#fdca26\"],[1.0,\"#f0f921\"]]}],\"mesh3d\":[{\"type\":\"mesh3d\",\"colorbar\":{\"outlinewidth\":0,\"ticks\":\"\"}}],\"scatter\":[{\"fillpattern\":{\"fillmode\":\"overlay\",\"size\":10,\"solidity\":0.2},\"type\":\"scatter\"}],\"parcoords\":[{\"type\":\"parcoords\",\"line\":{\"colorbar\":{\"outlinewidth\":0,\"ticks\":\"\"}}}],\"scatterpolargl\":[{\"type\":\"scatterpolargl\",\"marker\":{\"colorbar\":{\"outlinewidth\":0,\"ticks\":\"\"}}}],\"bar\":[{\"error_x\":{\"color\":\"#2a3f5f\"},\"error_y\":{\"color\":\"#2a3f5f\"},\"marker\":{\"line\":{\"color\":\"#E5ECF6\",\"width\":0.5},\"pattern\":{\"fillmode\":\"overlay\",\"size\":10,\"solidity\":0.2}},\"type\":\"bar\"}],\"scattergeo\":[{\"type\":\"scattergeo\",\"marker\":{\"colorbar\":{\"outlinewidth\":0,\"ticks\":\"\"}}}],\"scatterpolar\":[{\"type\":\"scatterpolar\",\"marker\":{\"colorbar\":{\"outlinewidth\":0,\"ticks\":\"\"}}}],\"histogram\":[{\"marker\":{\"pattern\":{\"fillmode\":\"overlay\",\"size\":10,\"solidity\":0.2}},\"type\":\"histogram\"}],\"scattergl\":[{\"type\":\"scattergl\",\"marker\":{\"colorbar\":{\"outlinewidth\":0,\"ticks\":\"\"}}}],\"scatter3d\":[{\"type\":\"scatter3d\",\"line\":{\"colorbar\":{\"outlinewidth\":0,\"ticks\":\"\"}},\"marker\":{\"colorbar\":{\"outlinewidth\":0,\"ticks\":\"\"}}}],\"scattermapbox\":[{\"type\":\"scattermapbox\",\"marker\":{\"colorbar\":{\"outlinewidth\":0,\"ticks\":\"\"}}}],\"scatterternary\":[{\"type\":\"scatterternary\",\"marker\":{\"colorbar\":{\"outlinewidth\":0,\"ticks\":\"\"}}}],\"scattercarpet\":[{\"type\":\"scattercarpet\",\"marker\":{\"colorbar\":{\"outlinewidth\":0,\"ticks\":\"\"}}}],\"carpet\":[{\"aaxis\":{\"endlinecolor\":\"#2a3f5f\",\"gridcolor\":\"white\",\"linecolor\":\"white\",\"minorgridcolor\":\"white\",\"startlinecolor\":\"#2a3f5f\"},\"baxis\":{\"endlinecolor\":\"#2a3f5f\",\"gridcolor\":\"white\",\"linecolor\":\"white\",\"minorgridcolor\":\"white\",\"startlinecolor\":\"#2a3f5f\"},\"type\":\"carpet\"}],\"table\":[{\"cells\":{\"fill\":{\"color\":\"#EBF0F8\"},\"line\":{\"color\":\"white\"}},\"header\":{\"fill\":{\"color\":\"#C8D4E3\"},\"line\":{\"color\":\"white\"}},\"type\":\"table\"}],\"barpolar\":[{\"marker\":{\"line\":{\"color\":\"#E5ECF6\",\"width\":0.5},\"pattern\":{\"fillmode\":\"overlay\",\"size\":10,\"solidity\":0.2}},\"type\":\"barpolar\"}],\"pie\":[{\"automargin\":true,\"type\":\"pie\"}]},\"layout\":{\"autotypenumbers\":\"strict\",\"colorway\":[\"#636efa\",\"#EF553B\",\"#00cc96\",\"#ab63fa\",\"#FFA15A\",\"#19d3f3\",\"#FF6692\",\"#B6E880\",\"#FF97FF\",\"#FECB52\"],\"font\":{\"color\":\"#2a3f5f\"},\"hovermode\":\"closest\",\"hoverlabel\":{\"align\":\"left\"},\"paper_bgcolor\":\"white\",\"plot_bgcolor\":\"#E5ECF6\",\"polar\":{\"bgcolor\":\"#E5ECF6\",\"angularaxis\":{\"gridcolor\":\"white\",\"linecolor\":\"white\",\"ticks\":\"\"},\"radialaxis\":{\"gridcolor\":\"white\",\"linecolor\":\"white\",\"ticks\":\"\"}},\"ternary\":{\"bgcolor\":\"#E5ECF6\",\"aaxis\":{\"gridcolor\":\"white\",\"linecolor\":\"white\",\"ticks\":\"\"},\"baxis\":{\"gridcolor\":\"white\",\"linecolor\":\"white\",\"ticks\":\"\"},\"caxis\":{\"gridcolor\":\"white\",\"linecolor\":\"white\",\"ticks\":\"\"}},\"coloraxis\":{\"colorbar\":{\"outlinewidth\":0,\"ticks\":\"\"}},\"colorscale\":{\"sequential\":[[0.0,\"#0d0887\"],[0.1111111111111111,\"#46039f\"],[0.2222222222222222,\"#7201a8\"],[0.3333333333333333,\"#9c179e\"],[0.4444444444444444,\"#bd3786\"],[0.5555555555555556,\"#d8576b\"],[0.6666666666666666,\"#ed7953\"],[0.7777777777777778,\"#fb9f3a\"],[0.8888888888888888,\"#fdca26\"],[1.0,\"#f0f921\"]],\"sequentialminus\":[[0.0,\"#0d0887\"],[0.1111111111111111,\"#46039f\"],[0.2222222222222222,\"#7201a8\"],[0.3333333333333333,\"#9c179e\"],[0.4444444444444444,\"#bd3786\"],[0.5555555555555556,\"#d8576b\"],[0.6666666666666666,\"#ed7953\"],[0.7777777777777778,\"#fb9f3a\"],[0.8888888888888888,\"#fdca26\"],[1.0,\"#f0f921\"]],\"diverging\":[[0,\"#8e0152\"],[0.1,\"#c51b7d\"],[0.2,\"#de77ae\"],[0.3,\"#f1b6da\"],[0.4,\"#fde0ef\"],[0.5,\"#f7f7f7\"],[0.6,\"#e6f5d0\"],[0.7,\"#b8e186\"],[0.8,\"#7fbc41\"],[0.9,\"#4d9221\"],[1,\"#276419\"]]},\"xaxis\":{\"gridcolor\":\"white\",\"linecolor\":\"white\",\"ticks\":\"\",\"title\":{\"standoff\":15},\"zerolinecolor\":\"white\",\"automargin\":true,\"zerolinewidth\":2},\"yaxis\":{\"gridcolor\":\"white\",\"linecolor\":\"white\",\"ticks\":\"\",\"title\":{\"standoff\":15},\"zerolinecolor\":\"white\",\"automargin\":true,\"zerolinewidth\":2},\"scene\":{\"xaxis\":{\"backgroundcolor\":\"#E5ECF6\",\"gridcolor\":\"white\",\"linecolor\":\"white\",\"showbackground\":true,\"ticks\":\"\",\"zerolinecolor\":\"white\",\"gridwidth\":2},\"yaxis\":{\"backgroundcolor\":\"#E5ECF6\",\"gridcolor\":\"white\",\"linecolor\":\"white\",\"showbackground\":true,\"ticks\":\"\",\"zerolinecolor\":\"white\",\"gridwidth\":2},\"zaxis\":{\"backgroundcolor\":\"#E5ECF6\",\"gridcolor\":\"white\",\"linecolor\":\"white\",\"showbackground\":true,\"ticks\":\"\",\"zerolinecolor\":\"white\",\"gridwidth\":2}},\"shapedefaults\":{\"line\":{\"color\":\"#2a3f5f\"}},\"annotationdefaults\":{\"arrowcolor\":\"#2a3f5f\",\"arrowhead\":0,\"arrowwidth\":1},\"geo\":{\"bgcolor\":\"white\",\"landcolor\":\"#E5ECF6\",\"subunitcolor\":\"white\",\"showland\":true,\"showlakes\":true,\"lakecolor\":\"white\"},\"title\":{\"x\":0.05},\"mapbox\":{\"style\":\"light\"}}},\"xaxis\":{\"anchor\":\"y\",\"domain\":[0.0,1.0],\"title\":{\"text\":\"Aggregate rating\"}},\"yaxis\":{\"anchor\":\"x\",\"domain\":[0.0,1.0],\"title\":{\"text\":\"Price range\"}},\"legend\":{\"title\":{\"text\":\"City\"},\"tracegroupgap\":0,\"itemsizing\":\"constant\"},\"margin\":{\"t\":60}},                        {\"responsive\": true}                    ).then(function(){\n                            \nvar gd = document.getElementById('a7f8294b-0ed8-4d49-8ceb-9b276ca94660');\nvar x = new MutationObserver(function (mutations, observer) {{\n        var display = window.getComputedStyle(gd).display;\n        if (!display || display === 'none') {{\n            console.log([gd, 'removed!']);\n            Plotly.purge(gd);\n            observer.disconnect();\n        }}\n}});\n\n// Listen for the removal of the full notebook cells\nvar notebookContainer = gd.closest('#notebook-container');\nif (notebookContainer) {{\n    x.observe(notebookContainer, {childList: true});\n}}\n\n// Listen for the clearing of the current output cell\nvar outputEl = gd.closest('.output');\nif (outputEl) {{\n    x.observe(outputEl, {childList: true});\n}}\n\n                        })                };                });            </script>        </div>"
         },
         "metadata": {},
         "output_type": "display_data"
        }
       ]
      }
     },
     "50381947d3474ac4b8533d4cccbd909e": {
      "model_module": "@jupyter-widgets/base",
      "model_module_version": "1.2.0",
      "model_name": "LayoutModel",
      "state": {
       "_model_module": "@jupyter-widgets/base",
       "_model_module_version": "1.2.0",
       "_model_name": "LayoutModel",
       "_view_count": null,
       "_view_module": "@jupyter-widgets/base",
       "_view_module_version": "1.2.0",
       "_view_name": "LayoutView",
       "align_content": null,
       "align_items": null,
       "align_self": null,
       "border": null,
       "bottom": null,
       "display": null,
       "flex": null,
       "flex_flow": null,
       "grid_area": null,
       "grid_auto_columns": null,
       "grid_auto_flow": null,
       "grid_auto_rows": null,
       "grid_column": null,
       "grid_gap": null,
       "grid_row": null,
       "grid_template_areas": null,
       "grid_template_columns": null,
       "grid_template_rows": null,
       "height": null,
       "justify_content": null,
       "justify_items": null,
       "left": null,
       "margin": null,
       "max_height": null,
       "max_width": null,
       "min_height": null,
       "min_width": null,
       "object_fit": null,
       "object_position": null,
       "order": null,
       "overflow": null,
       "overflow_x": null,
       "overflow_y": null,
       "padding": null,
       "right": null,
       "top": null,
       "visibility": null,
       "width": null
      }
     },
     "59dcdd2bca934382ada1d86fd53ea8bf": {
      "model_module": "@jupyter-widgets/base",
      "model_module_version": "1.2.0",
      "model_name": "LayoutModel",
      "state": {
       "_model_module": "@jupyter-widgets/base",
       "_model_module_version": "1.2.0",
       "_model_name": "LayoutModel",
       "_view_count": null,
       "_view_module": "@jupyter-widgets/base",
       "_view_module_version": "1.2.0",
       "_view_name": "LayoutView",
       "align_content": null,
       "align_items": null,
       "align_self": null,
       "border": null,
       "bottom": null,
       "display": null,
       "flex": null,
       "flex_flow": null,
       "grid_area": null,
       "grid_auto_columns": null,
       "grid_auto_flow": null,
       "grid_auto_rows": null,
       "grid_column": null,
       "grid_gap": null,
       "grid_row": null,
       "grid_template_areas": null,
       "grid_template_columns": null,
       "grid_template_rows": null,
       "height": null,
       "justify_content": null,
       "justify_items": null,
       "left": null,
       "margin": null,
       "max_height": null,
       "max_width": null,
       "min_height": null,
       "min_width": null,
       "object_fit": null,
       "object_position": null,
       "order": null,
       "overflow": null,
       "overflow_x": null,
       "overflow_y": null,
       "padding": null,
       "right": null,
       "top": null,
       "visibility": null,
       "width": null
      }
     },
     "7a12965006814344b86fcd4fd2a4eaf5": {
      "model_module": "@jupyter-widgets/output",
      "model_module_version": "1.0.0",
      "model_name": "OutputModel",
      "state": {
       "_dom_classes": [],
       "_model_module": "@jupyter-widgets/output",
       "_model_module_version": "1.0.0",
       "_model_name": "OutputModel",
       "_view_count": null,
       "_view_module": "@jupyter-widgets/output",
       "_view_module_version": "1.0.0",
       "_view_name": "OutputView",
       "layout": "IPY_MODEL_d9e0660aec2c424da5d7300b58b26308",
       "msg_id": "",
       "outputs": [
        {
         "data": {
          "text/html": "<style type=\"text/css\">\n#T_0896f_row0_col5, #T_0896f_row0_col11, #T_0896f_row0_col12, #T_0896f_row1_col12, #T_0896f_row2_col12, #T_0896f_row2_col15, #T_0896f_row3_col12, #T_0896f_row4_col12 {\n  background-color: #f7fbff;\n  color: #000000;\n}\n#T_0896f_row0_col15, #T_0896f_row1_col5, #T_0896f_row1_col11, #T_0896f_row3_col11, #T_0896f_row3_col15, #T_0896f_row4_col15 {\n  background-color: #08306b;\n  color: #f1f1f1;\n}\n#T_0896f_row1_col15, #T_0896f_row2_col11, #T_0896f_row4_col5, #T_0896f_row4_col11 {\n  background-color: #6aaed6;\n  color: #f1f1f1;\n}\n#T_0896f_row2_col5 {\n  background-color: #4191c6;\n  color: #f1f1f1;\n}\n#T_0896f_row3_col5 {\n  background-color: #08509b;\n  color: #f1f1f1;\n}\n</style>\n<table id=\"T_0896f\">\n  <thead>\n    <tr>\n      <th class=\"blank level0\" >&nbsp;</th>\n      <th id=\"T_0896f_level0_col0\" class=\"col_heading level0 col0\" >Restaurant Name</th>\n      <th id=\"T_0896f_level0_col1\" class=\"col_heading level0 col1\" >City</th>\n      <th id=\"T_0896f_level0_col2\" class=\"col_heading level0 col2\" >Address</th>\n      <th id=\"T_0896f_level0_col3\" class=\"col_heading level0 col3\" >Locality</th>\n      <th id=\"T_0896f_level0_col4\" class=\"col_heading level0 col4\" >Cuisines</th>\n      <th id=\"T_0896f_level0_col5\" class=\"col_heading level0 col5\" >Average Cost for two</th>\n      <th id=\"T_0896f_level0_col6\" class=\"col_heading level0 col6\" >Currency</th>\n      <th id=\"T_0896f_level0_col7\" class=\"col_heading level0 col7\" >Has Table booking</th>\n      <th id=\"T_0896f_level0_col8\" class=\"col_heading level0 col8\" >Has Online delivery</th>\n      <th id=\"T_0896f_level0_col9\" class=\"col_heading level0 col9\" >Is delivering now</th>\n      <th id=\"T_0896f_level0_col10\" class=\"col_heading level0 col10\" >Switch to order menu</th>\n      <th id=\"T_0896f_level0_col11\" class=\"col_heading level0 col11\" >Price range</th>\n      <th id=\"T_0896f_level0_col12\" class=\"col_heading level0 col12\" >Aggregate rating</th>\n      <th id=\"T_0896f_level0_col13\" class=\"col_heading level0 col13\" >Rating color</th>\n      <th id=\"T_0896f_level0_col14\" class=\"col_heading level0 col14\" >Rating text</th>\n      <th id=\"T_0896f_level0_col15\" class=\"col_heading level0 col15\" >Votes</th>\n      <th id=\"T_0896f_level0_col16\" class=\"col_heading level0 col16\" >Country</th>\n    </tr>\n  </thead>\n  <tbody>\n    <tr>\n      <th id=\"T_0896f_level0_row0\" class=\"row_heading level0 row0\" >30</th>\n      <td id=\"T_0896f_row0_col0\" class=\"data row0 col0\" >Sandubas Cafí©</td>\n      <td id=\"T_0896f_row0_col1\" class=\"data row0 col1\" >Brasí_lia</td>\n      <td id=\"T_0896f_row0_col2\" class=\"data row0 col2\" >Edifí_cio Josí© Severo, SCS 6, Bloco A, Loja 99, Asa Sul, Brasí_lia</td>\n      <td id=\"T_0896f_row0_col3\" class=\"data row0 col3\" >Asa Sul</td>\n      <td id=\"T_0896f_row0_col4\" class=\"data row0 col4\" >Brazilian, Cafe</td>\n      <td id=\"T_0896f_row0_col5\" class=\"data row0 col5\" >30</td>\n      <td id=\"T_0896f_row0_col6\" class=\"data row0 col6\" >Brazilian Real(R$)</td>\n      <td id=\"T_0896f_row0_col7\" class=\"data row0 col7\" >No</td>\n      <td id=\"T_0896f_row0_col8\" class=\"data row0 col8\" >No</td>\n      <td id=\"T_0896f_row0_col9\" class=\"data row0 col9\" >No</td>\n      <td id=\"T_0896f_row0_col10\" class=\"data row0 col10\" >No</td>\n      <td id=\"T_0896f_row0_col11\" class=\"data row0 col11\" >1</td>\n      <td id=\"T_0896f_row0_col12\" class=\"data row0 col12\" >0.000000</td>\n      <td id=\"T_0896f_row0_col13\" class=\"data row0 col13\" >White</td>\n      <td id=\"T_0896f_row0_col14\" class=\"data row0 col14\" >Not rated</td>\n      <td id=\"T_0896f_row0_col15\" class=\"data row0 col15\" >2</td>\n      <td id=\"T_0896f_row0_col16\" class=\"data row0 col16\" >Brazil</td>\n    </tr>\n    <tr>\n      <th id=\"T_0896f_level0_row1\" class=\"row_heading level0 row1\" >58</th>\n      <td id=\"T_0896f_row1_col0\" class=\"data row1 col0\" >Quiosque Chopp Brahma</td>\n      <td id=\"T_0896f_row1_col1\" class=\"data row1 col1\" >Rio de Janeiro</td>\n      <td id=\"T_0896f_row1_col2\" class=\"data row1 col2\" >Madureira Shopping - Loja 289/290, Piso 2, Estrada do Portela, 222, Madureira, Rio de Janeiro, RJ</td>\n      <td id=\"T_0896f_row1_col3\" class=\"data row1 col3\" >Madureira</td>\n      <td id=\"T_0896f_row1_col4\" class=\"data row1 col4\" >Bar Food, Brazilian</td>\n      <td id=\"T_0896f_row1_col5\" class=\"data row1 col5\" >70</td>\n      <td id=\"T_0896f_row1_col6\" class=\"data row1 col6\" >Brazilian Real(R$)</td>\n      <td id=\"T_0896f_row1_col7\" class=\"data row1 col7\" >No</td>\n      <td id=\"T_0896f_row1_col8\" class=\"data row1 col8\" >No</td>\n      <td id=\"T_0896f_row1_col9\" class=\"data row1 col9\" >No</td>\n      <td id=\"T_0896f_row1_col10\" class=\"data row1 col10\" >No</td>\n      <td id=\"T_0896f_row1_col11\" class=\"data row1 col11\" >3</td>\n      <td id=\"T_0896f_row1_col12\" class=\"data row1 col12\" >0.000000</td>\n      <td id=\"T_0896f_row1_col13\" class=\"data row1 col13\" >White</td>\n      <td id=\"T_0896f_row1_col14\" class=\"data row1 col14\" >Not rated</td>\n      <td id=\"T_0896f_row1_col15\" class=\"data row1 col15\" >1</td>\n      <td id=\"T_0896f_row1_col16\" class=\"data row1 col16\" >Brazil</td>\n    </tr>\n    <tr>\n      <th id=\"T_0896f_level0_row2\" class=\"row_heading level0 row2\" >69</th>\n      <td id=\"T_0896f_row2_col0\" class=\"data row2 col0\" >Cantinho da Gula</td>\n      <td id=\"T_0896f_row2_col1\" class=\"data row2 col1\" >Sí£o Paulo</td>\n      <td id=\"T_0896f_row2_col2\" class=\"data row2 col2\" >Rua Pedroso Alvarenga, 522, Itaim Bibi, Sí£o Paulo, SP</td>\n      <td id=\"T_0896f_row2_col3\" class=\"data row2 col3\" >Itaim Bibi</td>\n      <td id=\"T_0896f_row2_col4\" class=\"data row2 col4\" >Brazilian</td>\n      <td id=\"T_0896f_row2_col5\" class=\"data row2 col5\" >55</td>\n      <td id=\"T_0896f_row2_col6\" class=\"data row2 col6\" >Brazilian Real(R$)</td>\n      <td id=\"T_0896f_row2_col7\" class=\"data row2 col7\" >No</td>\n      <td id=\"T_0896f_row2_col8\" class=\"data row2 col8\" >No</td>\n      <td id=\"T_0896f_row2_col9\" class=\"data row2 col9\" >No</td>\n      <td id=\"T_0896f_row2_col10\" class=\"data row2 col10\" >No</td>\n      <td id=\"T_0896f_row2_col11\" class=\"data row2 col11\" >2</td>\n      <td id=\"T_0896f_row2_col12\" class=\"data row2 col12\" >0.000000</td>\n      <td id=\"T_0896f_row2_col13\" class=\"data row2 col13\" >White</td>\n      <td id=\"T_0896f_row2_col14\" class=\"data row2 col14\" >Not rated</td>\n      <td id=\"T_0896f_row2_col15\" class=\"data row2 col15\" >0</td>\n      <td id=\"T_0896f_row2_col16\" class=\"data row2 col16\" >Brazil</td>\n    </tr>\n    <tr>\n      <th id=\"T_0896f_level0_row3\" class=\"row_heading level0 row3\" >77</th>\n      <td id=\"T_0896f_row3_col0\" class=\"data row3 col0\" >Divino Fogí£o</td>\n      <td id=\"T_0896f_row3_col1\" class=\"data row3 col1\" >Sí£o Paulo</td>\n      <td id=\"T_0896f_row3_col2\" class=\"data row3 col2\" >Shopping MetríÇ Santa Cruz - Piso L2, Rua Domingos de Morais, 2564, Vila Mariana, Sí£o Paulo</td>\n      <td id=\"T_0896f_row3_col3\" class=\"data row3 col3\" >Shopping MetríÇ Santa Cruz, Vila Mariana</td>\n      <td id=\"T_0896f_row3_col4\" class=\"data row3 col4\" >Brazilian, Mineira</td>\n      <td id=\"T_0896f_row3_col5\" class=\"data row3 col5\" >65</td>\n      <td id=\"T_0896f_row3_col6\" class=\"data row3 col6\" >Brazilian Real(R$)</td>\n      <td id=\"T_0896f_row3_col7\" class=\"data row3 col7\" >No</td>\n      <td id=\"T_0896f_row3_col8\" class=\"data row3 col8\" >No</td>\n      <td id=\"T_0896f_row3_col9\" class=\"data row3 col9\" >No</td>\n      <td id=\"T_0896f_row3_col10\" class=\"data row3 col10\" >No</td>\n      <td id=\"T_0896f_row3_col11\" class=\"data row3 col11\" >3</td>\n      <td id=\"T_0896f_row3_col12\" class=\"data row3 col12\" >0.000000</td>\n      <td id=\"T_0896f_row3_col13\" class=\"data row3 col13\" >White</td>\n      <td id=\"T_0896f_row3_col14\" class=\"data row3 col14\" >Not rated</td>\n      <td id=\"T_0896f_row3_col15\" class=\"data row3 col15\" >2</td>\n      <td id=\"T_0896f_row3_col16\" class=\"data row3 col16\" >Brazil</td>\n    </tr>\n    <tr>\n      <th id=\"T_0896f_level0_row4\" class=\"row_heading level0 row4\" >78</th>\n      <td id=\"T_0896f_row4_col0\" class=\"data row4 col0\" >Super Grill</td>\n      <td id=\"T_0896f_row4_col1\" class=\"data row4 col1\" >Sí£o Paulo</td>\n      <td id=\"T_0896f_row4_col2\" class=\"data row4 col2\" >Shopping Morumbi - Piso Lazer, Avenida Roque Petroni Jí_nior, 1089, Santo Amaro, Sí£o Paulo</td>\n      <td id=\"T_0896f_row4_col3\" class=\"data row4 col3\" >Shopping Morumbi, Santo Amaro</td>\n      <td id=\"T_0896f_row4_col4\" class=\"data row4 col4\" >Brazilian</td>\n      <td id=\"T_0896f_row4_col5\" class=\"data row4 col5\" >50</td>\n      <td id=\"T_0896f_row4_col6\" class=\"data row4 col6\" >Brazilian Real(R$)</td>\n      <td id=\"T_0896f_row4_col7\" class=\"data row4 col7\" >No</td>\n      <td id=\"T_0896f_row4_col8\" class=\"data row4 col8\" >No</td>\n      <td id=\"T_0896f_row4_col9\" class=\"data row4 col9\" >No</td>\n      <td id=\"T_0896f_row4_col10\" class=\"data row4 col10\" >No</td>\n      <td id=\"T_0896f_row4_col11\" class=\"data row4 col11\" >2</td>\n      <td id=\"T_0896f_row4_col12\" class=\"data row4 col12\" >0.000000</td>\n      <td id=\"T_0896f_row4_col13\" class=\"data row4 col13\" >White</td>\n      <td id=\"T_0896f_row4_col14\" class=\"data row4 col14\" >Not rated</td>\n      <td id=\"T_0896f_row4_col15\" class=\"data row4 col15\" >2</td>\n      <td id=\"T_0896f_row4_col16\" class=\"data row4 col16\" >Brazil</td>\n    </tr>\n  </tbody>\n</table>\n",
          "text/plain": "<pandas.io.formats.style.Styler at 0x7cb55a14db10>"
         },
         "metadata": {},
         "output_type": "display_data"
        }
       ]
      }
     },
     "7bbae7046e9a4b4aaf7cc88a5ae69917": {
      "model_module": "@jupyter-widgets/base",
      "model_module_version": "1.2.0",
      "model_name": "LayoutModel",
      "state": {
       "_model_module": "@jupyter-widgets/base",
       "_model_module_version": "1.2.0",
       "_model_name": "LayoutModel",
       "_view_count": null,
       "_view_module": "@jupyter-widgets/base",
       "_view_module_version": "1.2.0",
       "_view_name": "LayoutView",
       "align_content": null,
       "align_items": null,
       "align_self": null,
       "border": null,
       "bottom": null,
       "display": null,
       "flex": null,
       "flex_flow": null,
       "grid_area": null,
       "grid_auto_columns": null,
       "grid_auto_flow": null,
       "grid_auto_rows": null,
       "grid_column": null,
       "grid_gap": null,
       "grid_row": null,
       "grid_template_areas": null,
       "grid_template_columns": null,
       "grid_template_rows": null,
       "height": null,
       "justify_content": null,
       "justify_items": null,
       "left": null,
       "margin": null,
       "max_height": null,
       "max_width": null,
       "min_height": null,
       "min_width": null,
       "object_fit": null,
       "object_position": null,
       "order": null,
       "overflow": null,
       "overflow_x": null,
       "overflow_y": null,
       "padding": null,
       "right": null,
       "top": null,
       "visibility": null,
       "width": null
      }
     },
     "7e08392f30da431f92d3ffdc90ea2a41": {
      "model_module": "@jupyter-widgets/controls",
      "model_module_version": "1.5.0",
      "model_name": "VBoxModel",
      "state": {
       "_dom_classes": [
        "widget-interact"
       ],
       "_model_module": "@jupyter-widgets/controls",
       "_model_module_version": "1.5.0",
       "_model_name": "VBoxModel",
       "_view_count": null,
       "_view_module": "@jupyter-widgets/controls",
       "_view_module_version": "1.5.0",
       "_view_name": "VBoxView",
       "box_style": "",
       "children": [
        "IPY_MODEL_9105a3f15661496dbfcf6a54a62750ed",
        "IPY_MODEL_3e7b4069fa3a45359d3988977434d4e4"
       ],
       "layout": "IPY_MODEL_59dcdd2bca934382ada1d86fd53ea8bf"
      }
     },
     "7f829eb8299543769809cff6ff604de0": {
      "model_module": "@jupyter-widgets/base",
      "model_module_version": "1.2.0",
      "model_name": "LayoutModel",
      "state": {
       "_model_module": "@jupyter-widgets/base",
       "_model_module_version": "1.2.0",
       "_model_name": "LayoutModel",
       "_view_count": null,
       "_view_module": "@jupyter-widgets/base",
       "_view_module_version": "1.2.0",
       "_view_name": "LayoutView",
       "align_content": null,
       "align_items": null,
       "align_self": null,
       "border": null,
       "bottom": null,
       "display": null,
       "flex": null,
       "flex_flow": null,
       "grid_area": null,
       "grid_auto_columns": null,
       "grid_auto_flow": null,
       "grid_auto_rows": null,
       "grid_column": null,
       "grid_gap": null,
       "grid_row": null,
       "grid_template_areas": null,
       "grid_template_columns": null,
       "grid_template_rows": null,
       "height": null,
       "justify_content": null,
       "justify_items": null,
       "left": null,
       "margin": null,
       "max_height": null,
       "max_width": null,
       "min_height": null,
       "min_width": null,
       "object_fit": null,
       "object_position": null,
       "order": null,
       "overflow": null,
       "overflow_x": null,
       "overflow_y": null,
       "padding": null,
       "right": null,
       "top": null,
       "visibility": null,
       "width": null
      }
     },
     "9105a3f15661496dbfcf6a54a62750ed": {
      "model_module": "@jupyter-widgets/controls",
      "model_module_version": "1.5.0",
      "model_name": "DropdownModel",
      "state": {
       "_dom_classes": [],
       "_model_module": "@jupyter-widgets/controls",
       "_model_module_version": "1.5.0",
       "_model_name": "DropdownModel",
       "_options_labels": [
        "Phillipines",
        "Brazil",
        "United States",
        "Australia",
        "Canada",
        "Singapore",
        "UAE",
        "India",
        "Indonesia",
        "New Zealand",
        "United Kingdom",
        "Qatar",
        "South Africa",
        "Sri Lanka",
        "Turkey"
       ],
       "_view_count": null,
       "_view_module": "@jupyter-widgets/controls",
       "_view_module_version": "1.5.0",
       "_view_name": "DropdownView",
       "description": "Country",
       "description_tooltip": null,
       "disabled": false,
       "index": 0,
       "layout": "IPY_MODEL_50381947d3474ac4b8533d4cccbd909e",
       "style": "IPY_MODEL_0de9eceeaafc462fab80923a4cd9702a"
      }
     },
     "97901ad67ceb42fb9f3f89e83382b031": {
      "model_module": "@jupyter-widgets/controls",
      "model_module_version": "1.5.0",
      "model_name": "SliderStyleModel",
      "state": {
       "_model_module": "@jupyter-widgets/controls",
       "_model_module_version": "1.5.0",
       "_model_name": "SliderStyleModel",
       "_view_count": null,
       "_view_module": "@jupyter-widgets/base",
       "_view_module_version": "1.2.0",
       "_view_name": "StyleView",
       "description_width": "",
       "handle_color": null
      }
     },
     "a5b3c2f263c5495abb261d8cf3a375ad": {
      "model_module": "@jupyter-widgets/controls",
      "model_module_version": "1.5.0",
      "model_name": "DescriptionStyleModel",
      "state": {
       "_model_module": "@jupyter-widgets/controls",
       "_model_module_version": "1.5.0",
       "_model_name": "DescriptionStyleModel",
       "_view_count": null,
       "_view_module": "@jupyter-widgets/base",
       "_view_module_version": "1.2.0",
       "_view_name": "StyleView",
       "description_width": ""
      }
     },
     "a9dc040fe474419e8a33b6e043d6e733": {
      "model_module": "@jupyter-widgets/base",
      "model_module_version": "1.2.0",
      "model_name": "LayoutModel",
      "state": {
       "_model_module": "@jupyter-widgets/base",
       "_model_module_version": "1.2.0",
       "_model_name": "LayoutModel",
       "_view_count": null,
       "_view_module": "@jupyter-widgets/base",
       "_view_module_version": "1.2.0",
       "_view_name": "LayoutView",
       "align_content": null,
       "align_items": null,
       "align_self": null,
       "border": null,
       "bottom": null,
       "display": null,
       "flex": null,
       "flex_flow": null,
       "grid_area": null,
       "grid_auto_columns": null,
       "grid_auto_flow": null,
       "grid_auto_rows": null,
       "grid_column": null,
       "grid_gap": null,
       "grid_row": null,
       "grid_template_areas": null,
       "grid_template_columns": null,
       "grid_template_rows": null,
       "height": null,
       "justify_content": null,
       "justify_items": null,
       "left": null,
       "margin": null,
       "max_height": null,
       "max_width": null,
       "min_height": null,
       "min_width": null,
       "object_fit": null,
       "object_position": null,
       "order": null,
       "overflow": null,
       "overflow_x": null,
       "overflow_y": null,
       "padding": null,
       "right": null,
       "top": null,
       "visibility": null,
       "width": null
      }
     },
     "bb34d554a79b42df991854095bc0e95e": {
      "model_module": "@jupyter-widgets/controls",
      "model_module_version": "1.5.0",
      "model_name": "DropdownModel",
      "state": {
       "_dom_classes": [],
       "_model_module": "@jupyter-widgets/controls",
       "_model_module_version": "1.5.0",
       "_model_name": "DropdownModel",
       "_options_labels": [
        "Phillipines",
        "Brazil",
        "United States",
        "Australia",
        "Canada",
        "Singapore",
        "UAE",
        "India",
        "Indonesia",
        "New Zealand",
        "United Kingdom",
        "Qatar",
        "South Africa",
        "Sri Lanka",
        "Turkey"
       ],
       "_view_count": null,
       "_view_module": "@jupyter-widgets/controls",
       "_view_module_version": "1.5.0",
       "_view_name": "DropdownView",
       "description": "Country",
       "description_tooltip": null,
       "disabled": false,
       "index": 0,
       "layout": "IPY_MODEL_7bbae7046e9a4b4aaf7cc88a5ae69917",
       "style": "IPY_MODEL_a5b3c2f263c5495abb261d8cf3a375ad"
      }
     },
     "bba18ee74e0b4c028b60aaadcdd279d8": {
      "model_module": "@jupyter-widgets/output",
      "model_module_version": "1.0.0",
      "model_name": "OutputModel",
      "state": {
       "_dom_classes": [],
       "_model_module": "@jupyter-widgets/output",
       "_model_module_version": "1.0.0",
       "_model_name": "OutputModel",
       "_view_count": null,
       "_view_module": "@jupyter-widgets/output",
       "_view_module_version": "1.0.0",
       "_view_name": "OutputView",
       "layout": "IPY_MODEL_cd26d0b28d574f10a2a6bc5e45f5ec5f",
       "msg_id": "",
       "outputs": [
        {
         "data": {
          "text/html": "<style type=\"text/css\">\n#T_773ef_row0_col5, #T_773ef_row0_col11, #T_773ef_row1_col11, #T_773ef_row2_col12, #T_773ef_row4_col15 {\n  background-color: #f7fcf5;\n  color: #000000;\n}\n#T_773ef_row0_col12, #T_773ef_row4_col12 {\n  background-color: #157f3b;\n  color: #f1f1f1;\n}\n#T_773ef_row0_col15 {\n  background-color: #cbeac4;\n  color: #000000;\n}\n#T_773ef_row1_col5 {\n  background-color: #f2faf0;\n  color: #000000;\n}\n#T_773ef_row1_col12 {\n  background-color: #d3eecd;\n  color: #000000;\n}\n#T_773ef_row1_col15, #T_773ef_row2_col5, #T_773ef_row2_col11, #T_773ef_row3_col11, #T_773ef_row3_col12, #T_773ef_row4_col11 {\n  background-color: #00441b;\n  color: #f1f1f1;\n}\n#T_773ef_row2_col15 {\n  background-color: #e7f6e3;\n  color: #000000;\n}\n#T_773ef_row3_col5, #T_773ef_row4_col5 {\n  background-color: #e2f4dd;\n  color: #000000;\n}\n#T_773ef_row3_col15 {\n  background-color: #a0d99b;\n  color: #000000;\n}\n</style>\n<table id=\"T_773ef\">\n  <thead>\n    <tr>\n      <th class=\"blank level0\" >&nbsp;</th>\n      <th id=\"T_773ef_level0_col0\" class=\"col_heading level0 col0\" >Restaurant Name</th>\n      <th id=\"T_773ef_level0_col1\" class=\"col_heading level0 col1\" >City</th>\n      <th id=\"T_773ef_level0_col2\" class=\"col_heading level0 col2\" >Address</th>\n      <th id=\"T_773ef_level0_col3\" class=\"col_heading level0 col3\" >Locality</th>\n      <th id=\"T_773ef_level0_col4\" class=\"col_heading level0 col4\" >Cuisines</th>\n      <th id=\"T_773ef_level0_col5\" class=\"col_heading level0 col5\" >Average Cost for two</th>\n      <th id=\"T_773ef_level0_col6\" class=\"col_heading level0 col6\" >Currency</th>\n      <th id=\"T_773ef_level0_col7\" class=\"col_heading level0 col7\" >Has Table booking</th>\n      <th id=\"T_773ef_level0_col8\" class=\"col_heading level0 col8\" >Has Online delivery</th>\n      <th id=\"T_773ef_level0_col9\" class=\"col_heading level0 col9\" >Is delivering now</th>\n      <th id=\"T_773ef_level0_col10\" class=\"col_heading level0 col10\" >Switch to order menu</th>\n      <th id=\"T_773ef_level0_col11\" class=\"col_heading level0 col11\" >Price range</th>\n      <th id=\"T_773ef_level0_col12\" class=\"col_heading level0 col12\" >Aggregate rating</th>\n      <th id=\"T_773ef_level0_col13\" class=\"col_heading level0 col13\" >Rating color</th>\n      <th id=\"T_773ef_level0_col14\" class=\"col_heading level0 col14\" >Rating text</th>\n      <th id=\"T_773ef_level0_col15\" class=\"col_heading level0 col15\" >Votes</th>\n      <th id=\"T_773ef_level0_col16\" class=\"col_heading level0 col16\" >Country</th>\n    </tr>\n  </thead>\n  <tbody>\n    <tr>\n      <th id=\"T_773ef_level0_row0\" class=\"row_heading level0 row0\" >0</th>\n      <td id=\"T_773ef_row0_col0\" class=\"data row0 col0\" >Le Petit Souffle</td>\n      <td id=\"T_773ef_row0_col1\" class=\"data row0 col1\" >Makati City</td>\n      <td id=\"T_773ef_row0_col2\" class=\"data row0 col2\" >Third Floor, Century City Mall, Kalayaan Avenue, Poblacion, Makati City</td>\n      <td id=\"T_773ef_row0_col3\" class=\"data row0 col3\" >Century City Mall, Poblacion, Makati City</td>\n      <td id=\"T_773ef_row0_col4\" class=\"data row0 col4\" >French, Japanese, Desserts</td>\n      <td id=\"T_773ef_row0_col5\" class=\"data row0 col5\" >1100</td>\n      <td id=\"T_773ef_row0_col6\" class=\"data row0 col6\" >Botswana Pula(P)</td>\n      <td id=\"T_773ef_row0_col7\" class=\"data row0 col7\" >Yes</td>\n      <td id=\"T_773ef_row0_col8\" class=\"data row0 col8\" >No</td>\n      <td id=\"T_773ef_row0_col9\" class=\"data row0 col9\" >No</td>\n      <td id=\"T_773ef_row0_col10\" class=\"data row0 col10\" >No</td>\n      <td id=\"T_773ef_row0_col11\" class=\"data row0 col11\" >3</td>\n      <td id=\"T_773ef_row0_col12\" class=\"data row0 col12\" >4.800000</td>\n      <td id=\"T_773ef_row0_col13\" class=\"data row0 col13\" >Dark Green</td>\n      <td id=\"T_773ef_row0_col14\" class=\"data row0 col14\" >Excellent</td>\n      <td id=\"T_773ef_row0_col15\" class=\"data row0 col15\" >314</td>\n      <td id=\"T_773ef_row0_col16\" class=\"data row0 col16\" >Phillipines</td>\n    </tr>\n    <tr>\n      <th id=\"T_773ef_level0_row1\" class=\"row_heading level0 row1\" >1</th>\n      <td id=\"T_773ef_row1_col0\" class=\"data row1 col0\" >Izakaya Kikufuji</td>\n      <td id=\"T_773ef_row1_col1\" class=\"data row1 col1\" >Makati City</td>\n      <td id=\"T_773ef_row1_col2\" class=\"data row1 col2\" >Little Tokyo, 2277 Chino Roces Avenue, Legaspi Village, Makati City</td>\n      <td id=\"T_773ef_row1_col3\" class=\"data row1 col3\" >Little Tokyo, Legaspi Village, Makati City</td>\n      <td id=\"T_773ef_row1_col4\" class=\"data row1 col4\" >Japanese</td>\n      <td id=\"T_773ef_row1_col5\" class=\"data row1 col5\" >1200</td>\n      <td id=\"T_773ef_row1_col6\" class=\"data row1 col6\" >Botswana Pula(P)</td>\n      <td id=\"T_773ef_row1_col7\" class=\"data row1 col7\" >Yes</td>\n      <td id=\"T_773ef_row1_col8\" class=\"data row1 col8\" >No</td>\n      <td id=\"T_773ef_row1_col9\" class=\"data row1 col9\" >No</td>\n      <td id=\"T_773ef_row1_col10\" class=\"data row1 col10\" >No</td>\n      <td id=\"T_773ef_row1_col11\" class=\"data row1 col11\" >3</td>\n      <td id=\"T_773ef_row1_col12\" class=\"data row1 col12\" >4.500000</td>\n      <td id=\"T_773ef_row1_col13\" class=\"data row1 col13\" >Dark Green</td>\n      <td id=\"T_773ef_row1_col14\" class=\"data row1 col14\" >Excellent</td>\n      <td id=\"T_773ef_row1_col15\" class=\"data row1 col15\" >591</td>\n      <td id=\"T_773ef_row1_col16\" class=\"data row1 col16\" >Phillipines</td>\n    </tr>\n    <tr>\n      <th id=\"T_773ef_level0_row2\" class=\"row_heading level0 row2\" >2</th>\n      <td id=\"T_773ef_row2_col0\" class=\"data row2 col0\" >Heat - Edsa Shangri-La</td>\n      <td id=\"T_773ef_row2_col1\" class=\"data row2 col1\" >Mandaluyong City</td>\n      <td id=\"T_773ef_row2_col2\" class=\"data row2 col2\" >Edsa Shangri-La, 1 Garden Way, Ortigas, Mandaluyong City</td>\n      <td id=\"T_773ef_row2_col3\" class=\"data row2 col3\" >Edsa Shangri-La, Ortigas, Mandaluyong City</td>\n      <td id=\"T_773ef_row2_col4\" class=\"data row2 col4\" >Seafood, Asian, Filipino, Indian</td>\n      <td id=\"T_773ef_row2_col5\" class=\"data row2 col5\" >4000</td>\n      <td id=\"T_773ef_row2_col6\" class=\"data row2 col6\" >Botswana Pula(P)</td>\n      <td id=\"T_773ef_row2_col7\" class=\"data row2 col7\" >Yes</td>\n      <td id=\"T_773ef_row2_col8\" class=\"data row2 col8\" >No</td>\n      <td id=\"T_773ef_row2_col9\" class=\"data row2 col9\" >No</td>\n      <td id=\"T_773ef_row2_col10\" class=\"data row2 col10\" >No</td>\n      <td id=\"T_773ef_row2_col11\" class=\"data row2 col11\" >4</td>\n      <td id=\"T_773ef_row2_col12\" class=\"data row2 col12\" >4.400000</td>\n      <td id=\"T_773ef_row2_col13\" class=\"data row2 col13\" >Green</td>\n      <td id=\"T_773ef_row2_col14\" class=\"data row2 col14\" >Very Good</td>\n      <td id=\"T_773ef_row2_col15\" class=\"data row2 col15\" >270</td>\n      <td id=\"T_773ef_row2_col16\" class=\"data row2 col16\" >Phillipines</td>\n    </tr>\n    <tr>\n      <th id=\"T_773ef_level0_row3\" class=\"row_heading level0 row3\" >3</th>\n      <td id=\"T_773ef_row3_col0\" class=\"data row3 col0\" >Ooma</td>\n      <td id=\"T_773ef_row3_col1\" class=\"data row3 col1\" >Mandaluyong City</td>\n      <td id=\"T_773ef_row3_col2\" class=\"data row3 col2\" >Third Floor, Mega Fashion Hall, SM Megamall, Ortigas, Mandaluyong City</td>\n      <td id=\"T_773ef_row3_col3\" class=\"data row3 col3\" >SM Megamall, Ortigas, Mandaluyong City</td>\n      <td id=\"T_773ef_row3_col4\" class=\"data row3 col4\" >Japanese, Sushi</td>\n      <td id=\"T_773ef_row3_col5\" class=\"data row3 col5\" >1500</td>\n      <td id=\"T_773ef_row3_col6\" class=\"data row3 col6\" >Botswana Pula(P)</td>\n      <td id=\"T_773ef_row3_col7\" class=\"data row3 col7\" >No</td>\n      <td id=\"T_773ef_row3_col8\" class=\"data row3 col8\" >No</td>\n      <td id=\"T_773ef_row3_col9\" class=\"data row3 col9\" >No</td>\n      <td id=\"T_773ef_row3_col10\" class=\"data row3 col10\" >No</td>\n      <td id=\"T_773ef_row3_col11\" class=\"data row3 col11\" >4</td>\n      <td id=\"T_773ef_row3_col12\" class=\"data row3 col12\" >4.900000</td>\n      <td id=\"T_773ef_row3_col13\" class=\"data row3 col13\" >Dark Green</td>\n      <td id=\"T_773ef_row3_col14\" class=\"data row3 col14\" >Excellent</td>\n      <td id=\"T_773ef_row3_col15\" class=\"data row3 col15\" >365</td>\n      <td id=\"T_773ef_row3_col16\" class=\"data row3 col16\" >Phillipines</td>\n    </tr>\n    <tr>\n      <th id=\"T_773ef_level0_row4\" class=\"row_heading level0 row4\" >4</th>\n      <td id=\"T_773ef_row4_col0\" class=\"data row4 col0\" >Sambo Kojin</td>\n      <td id=\"T_773ef_row4_col1\" class=\"data row4 col1\" >Mandaluyong City</td>\n      <td id=\"T_773ef_row4_col2\" class=\"data row4 col2\" >Third Floor, Mega Atrium, SM Megamall, Ortigas, Mandaluyong City</td>\n      <td id=\"T_773ef_row4_col3\" class=\"data row4 col3\" >SM Megamall, Ortigas, Mandaluyong City</td>\n      <td id=\"T_773ef_row4_col4\" class=\"data row4 col4\" >Japanese, Korean</td>\n      <td id=\"T_773ef_row4_col5\" class=\"data row4 col5\" >1500</td>\n      <td id=\"T_773ef_row4_col6\" class=\"data row4 col6\" >Botswana Pula(P)</td>\n      <td id=\"T_773ef_row4_col7\" class=\"data row4 col7\" >Yes</td>\n      <td id=\"T_773ef_row4_col8\" class=\"data row4 col8\" >No</td>\n      <td id=\"T_773ef_row4_col9\" class=\"data row4 col9\" >No</td>\n      <td id=\"T_773ef_row4_col10\" class=\"data row4 col10\" >No</td>\n      <td id=\"T_773ef_row4_col11\" class=\"data row4 col11\" >4</td>\n      <td id=\"T_773ef_row4_col12\" class=\"data row4 col12\" >4.800000</td>\n      <td id=\"T_773ef_row4_col13\" class=\"data row4 col13\" >Dark Green</td>\n      <td id=\"T_773ef_row4_col14\" class=\"data row4 col14\" >Excellent</td>\n      <td id=\"T_773ef_row4_col15\" class=\"data row4 col15\" >229</td>\n      <td id=\"T_773ef_row4_col16\" class=\"data row4 col16\" >Phillipines</td>\n    </tr>\n  </tbody>\n</table>\n",
          "text/plain": "<pandas.io.formats.style.Styler at 0x7cb55a1830d0>"
         },
         "metadata": {},
         "output_type": "display_data"
        }
       ]
      }
     },
     "c2e7a7d57e78400881262e8428da3c2d": {
      "model_module": "@jupyter-widgets/controls",
      "model_module_version": "1.5.0",
      "model_name": "VBoxModel",
      "state": {
       "_dom_classes": [
        "widget-interact"
       ],
       "_model_module": "@jupyter-widgets/controls",
       "_model_module_version": "1.5.0",
       "_model_name": "VBoxModel",
       "_view_count": null,
       "_view_module": "@jupyter-widgets/controls",
       "_view_module_version": "1.5.0",
       "_view_name": "VBoxView",
       "box_style": "",
       "children": [
        "IPY_MODEL_bb34d554a79b42df991854095bc0e95e",
        "IPY_MODEL_bba18ee74e0b4c028b60aaadcdd279d8"
       ],
       "layout": "IPY_MODEL_0077c4fcf9bb46a0a3cfe6bd8f9a5182"
      }
     },
     "cd26d0b28d574f10a2a6bc5e45f5ec5f": {
      "model_module": "@jupyter-widgets/base",
      "model_module_version": "1.2.0",
      "model_name": "LayoutModel",
      "state": {
       "_model_module": "@jupyter-widgets/base",
       "_model_module_version": "1.2.0",
       "_model_name": "LayoutModel",
       "_view_count": null,
       "_view_module": "@jupyter-widgets/base",
       "_view_module_version": "1.2.0",
       "_view_name": "LayoutView",
       "align_content": null,
       "align_items": null,
       "align_self": null,
       "border": null,
       "bottom": null,
       "display": null,
       "flex": null,
       "flex_flow": null,
       "grid_area": null,
       "grid_auto_columns": null,
       "grid_auto_flow": null,
       "grid_auto_rows": null,
       "grid_column": null,
       "grid_gap": null,
       "grid_row": null,
       "grid_template_areas": null,
       "grid_template_columns": null,
       "grid_template_rows": null,
       "height": null,
       "justify_content": null,
       "justify_items": null,
       "left": null,
       "margin": null,
       "max_height": null,
       "max_width": null,
       "min_height": null,
       "min_width": null,
       "object_fit": null,
       "object_position": null,
       "order": null,
       "overflow": null,
       "overflow_x": null,
       "overflow_y": null,
       "padding": null,
       "right": null,
       "top": null,
       "visibility": null,
       "width": null
      }
     },
     "d9e0660aec2c424da5d7300b58b26308": {
      "model_module": "@jupyter-widgets/base",
      "model_module_version": "1.2.0",
      "model_name": "LayoutModel",
      "state": {
       "_model_module": "@jupyter-widgets/base",
       "_model_module_version": "1.2.0",
       "_model_name": "LayoutModel",
       "_view_count": null,
       "_view_module": "@jupyter-widgets/base",
       "_view_module_version": "1.2.0",
       "_view_name": "LayoutView",
       "align_content": null,
       "align_items": null,
       "align_self": null,
       "border": null,
       "bottom": null,
       "display": null,
       "flex": null,
       "flex_flow": null,
       "grid_area": null,
       "grid_auto_columns": null,
       "grid_auto_flow": null,
       "grid_auto_rows": null,
       "grid_column": null,
       "grid_gap": null,
       "grid_row": null,
       "grid_template_areas": null,
       "grid_template_columns": null,
       "grid_template_rows": null,
       "height": null,
       "justify_content": null,
       "justify_items": null,
       "left": null,
       "margin": null,
       "max_height": null,
       "max_width": null,
       "min_height": null,
       "min_width": null,
       "object_fit": null,
       "object_position": null,
       "order": null,
       "overflow": null,
       "overflow_x": null,
       "overflow_y": null,
       "padding": null,
       "right": null,
       "top": null,
       "visibility": null,
       "width": null
      }
     },
     "de37c4e729be4cf787e1b466a509293c": {
      "model_module": "@jupyter-widgets/controls",
      "model_module_version": "1.5.0",
      "model_name": "VBoxModel",
      "state": {
       "_dom_classes": [
        "widget-interact"
       ],
       "_model_module": "@jupyter-widgets/controls",
       "_model_module_version": "1.5.0",
       "_model_name": "VBoxModel",
       "_view_count": null,
       "_view_module": "@jupyter-widgets/controls",
       "_view_module_version": "1.5.0",
       "_view_name": "VBoxView",
       "box_style": "",
       "children": [
        "IPY_MODEL_02d377e4dd134ddf923edde62219602d",
        "IPY_MODEL_7a12965006814344b86fcd4fd2a4eaf5"
       ],
       "layout": "IPY_MODEL_a9dc040fe474419e8a33b6e043d6e733"
      }
     }
    },
    "version_major": 2,
    "version_minor": 0
   }
  }
 },
 "nbformat": 4,
 "nbformat_minor": 5
}
