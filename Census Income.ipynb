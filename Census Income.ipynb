{
 "cells": [
  {
   "cell_type": "code",
   "execution_count": null,
   "id": "2bf9f634",
   "metadata": {},
   "outputs": [],
   "source": [
    "import numpy as np # linear algebra\n",
    "import pandas as pd\n",
    "import matplotlib.pyplot as plt\n",
    "import seaborn as sns\n",
    "\n",
    "import os\n",
    "for dirname, _, filenames in os.walk('https://raw.githubusercontent.com/dsrscientist/dataset1/master/census_income.csv'):\n",
    "    for filename in filenames:\n",
    "        print(os.path.join(dirname, filename))"
   ]
  },
  {
   "cell_type": "code",
   "execution_count": 2,
   "id": "cbca4c3d",
   "metadata": {
    "execution": {
     "iopub.execute_input": "2023-11-03T03:59:17.289274Z",
     "iopub.status.busy": "2023-11-03T03:59:17.288331Z",
     "iopub.status.idle": "2023-11-03T03:59:17.435816Z",
     "shell.execute_reply": "2023-11-03T03:59:17.434757Z"
    },
    "papermill": {
     "duration": 0.158776,
     "end_time": "2023-11-03T03:59:17.438308",
     "exception": false,
     "start_time": "2023-11-03T03:59:17.279532",
     "status": "completed"
    },
    "tags": []
   },
   "outputs": [
    {
     "name": "stdout",
     "output_type": "stream",
     "text": [
      "<class 'pandas.core.frame.DataFrame'>\n",
      "RangeIndex: 32561 entries, 0 to 32560\n",
      "Data columns (total 15 columns):\n",
      " #   Column          Non-Null Count  Dtype \n",
      "---  ------          --------------  ----- \n",
      " 0   age             32561 non-null  int64 \n",
      " 1   workclass       32561 non-null  object\n",
      " 2   fnlwgt          32561 non-null  int64 \n",
      " 3   education       32561 non-null  object\n",
      " 4   education.num   32561 non-null  int64 \n",
      " 5   marital.status  32561 non-null  object\n",
      " 6   occupation      32561 non-null  object\n",
      " 7   relationship    32561 non-null  object\n",
      " 8   race            32561 non-null  object\n",
      " 9   sex             32561 non-null  object\n",
      " 10  capital.gain    32561 non-null  int64 \n",
      " 11  capital.loss    32561 non-null  int64 \n",
      " 12  hours.per.week  32561 non-null  int64 \n",
      " 13  native.country  32561 non-null  object\n",
      " 14  income          32561 non-null  object\n",
      "dtypes: int64(6), object(9)\n",
      "memory usage: 3.7+ MB\n"
     ]
    }
   ],
   "source": [
    "census_income = pd.read_csv('https://raw.githubusercontent.com/dsrscientist/dataset1/master/census_income.csv')\n",
    "census_income.info()"
   ]
  },
  {
   "cell_type": "markdown",
   "id": "492775ee",
   "metadata": {
    "papermill": {
     "duration": 0.008011,
     "end_time": "2023-11-03T03:59:17.454392",
     "exception": false,
     "start_time": "2023-11-03T03:59:17.446381",
     "status": "completed"
    },
    "tags": []
   },
   "source": [
    "#### Preprocessing \n",
    "Searching for Duplicates and it's removal"
   ]
  },
  {
   "cell_type": "code",
   "execution_count": 3,
   "id": "ce7088a3",
   "metadata": {
    "execution": {
     "iopub.execute_input": "2023-11-03T03:59:17.470998Z",
     "iopub.status.busy": "2023-11-03T03:59:17.470643Z",
     "iopub.status.idle": "2023-11-03T03:59:17.532033Z",
     "shell.execute_reply": "2023-11-03T03:59:17.531320Z"
    },
    "papermill": {
     "duration": 0.071687,
     "end_time": "2023-11-03T03:59:17.533877",
     "exception": false,
     "start_time": "2023-11-03T03:59:17.462190",
     "status": "completed"
    },
    "tags": []
   },
   "outputs": [
    {
     "data": {
      "text/html": [
       "<div>\n",
       "<style scoped>\n",
       "    .dataframe tbody tr th:only-of-type {\n",
       "        vertical-align: middle;\n",
       "    }\n",
       "\n",
       "    .dataframe tbody tr th {\n",
       "        vertical-align: top;\n",
       "    }\n",
       "\n",
       "    .dataframe thead th {\n",
       "        text-align: right;\n",
       "    }\n",
       "</style>\n",
       "<table border=\"1\" class=\"dataframe\">\n",
       "  <thead>\n",
       "    <tr style=\"text-align: right;\">\n",
       "      <th></th>\n",
       "      <th>age</th>\n",
       "      <th>workclass</th>\n",
       "      <th>fnlwgt</th>\n",
       "      <th>education</th>\n",
       "      <th>education.num</th>\n",
       "      <th>marital.status</th>\n",
       "      <th>occupation</th>\n",
       "      <th>relationship</th>\n",
       "      <th>race</th>\n",
       "      <th>sex</th>\n",
       "      <th>capital.gain</th>\n",
       "      <th>capital.loss</th>\n",
       "      <th>hours.per.week</th>\n",
       "      <th>native.country</th>\n",
       "      <th>income</th>\n",
       "    </tr>\n",
       "  </thead>\n",
       "  <tbody>\n",
       "    <tr>\n",
       "      <th>8453</th>\n",
       "      <td>25</td>\n",
       "      <td>Private</td>\n",
       "      <td>308144</td>\n",
       "      <td>Bachelors</td>\n",
       "      <td>13</td>\n",
       "      <td>Never-married</td>\n",
       "      <td>Craft-repair</td>\n",
       "      <td>Not-in-family</td>\n",
       "      <td>White</td>\n",
       "      <td>Male</td>\n",
       "      <td>0</td>\n",
       "      <td>0</td>\n",
       "      <td>40</td>\n",
       "      <td>Mexico</td>\n",
       "      <td>&lt;=50K</td>\n",
       "    </tr>\n",
       "    <tr>\n",
       "      <th>8645</th>\n",
       "      <td>90</td>\n",
       "      <td>Private</td>\n",
       "      <td>52386</td>\n",
       "      <td>Some-college</td>\n",
       "      <td>10</td>\n",
       "      <td>Never-married</td>\n",
       "      <td>Other-service</td>\n",
       "      <td>Not-in-family</td>\n",
       "      <td>Asian-Pac-Islander</td>\n",
       "      <td>Male</td>\n",
       "      <td>0</td>\n",
       "      <td>0</td>\n",
       "      <td>35</td>\n",
       "      <td>United-States</td>\n",
       "      <td>&lt;=50K</td>\n",
       "    </tr>\n",
       "    <tr>\n",
       "      <th>12202</th>\n",
       "      <td>21</td>\n",
       "      <td>Private</td>\n",
       "      <td>250051</td>\n",
       "      <td>Some-college</td>\n",
       "      <td>10</td>\n",
       "      <td>Never-married</td>\n",
       "      <td>Prof-specialty</td>\n",
       "      <td>Own-child</td>\n",
       "      <td>White</td>\n",
       "      <td>Female</td>\n",
       "      <td>0</td>\n",
       "      <td>0</td>\n",
       "      <td>10</td>\n",
       "      <td>United-States</td>\n",
       "      <td>&lt;=50K</td>\n",
       "    </tr>\n",
       "    <tr>\n",
       "      <th>14346</th>\n",
       "      <td>20</td>\n",
       "      <td>Private</td>\n",
       "      <td>107658</td>\n",
       "      <td>Some-college</td>\n",
       "      <td>10</td>\n",
       "      <td>Never-married</td>\n",
       "      <td>Tech-support</td>\n",
       "      <td>Not-in-family</td>\n",
       "      <td>White</td>\n",
       "      <td>Female</td>\n",
       "      <td>0</td>\n",
       "      <td>0</td>\n",
       "      <td>10</td>\n",
       "      <td>United-States</td>\n",
       "      <td>&lt;=50K</td>\n",
       "    </tr>\n",
       "    <tr>\n",
       "      <th>15603</th>\n",
       "      <td>25</td>\n",
       "      <td>Private</td>\n",
       "      <td>195994</td>\n",
       "      <td>1st-4th</td>\n",
       "      <td>2</td>\n",
       "      <td>Never-married</td>\n",
       "      <td>Priv-house-serv</td>\n",
       "      <td>Not-in-family</td>\n",
       "      <td>White</td>\n",
       "      <td>Female</td>\n",
       "      <td>0</td>\n",
       "      <td>0</td>\n",
       "      <td>40</td>\n",
       "      <td>Guatemala</td>\n",
       "      <td>&lt;=50K</td>\n",
       "    </tr>\n",
       "    <tr>\n",
       "      <th>17344</th>\n",
       "      <td>21</td>\n",
       "      <td>Private</td>\n",
       "      <td>243368</td>\n",
       "      <td>Preschool</td>\n",
       "      <td>1</td>\n",
       "      <td>Never-married</td>\n",
       "      <td>Farming-fishing</td>\n",
       "      <td>Not-in-family</td>\n",
       "      <td>White</td>\n",
       "      <td>Male</td>\n",
       "      <td>0</td>\n",
       "      <td>0</td>\n",
       "      <td>50</td>\n",
       "      <td>Mexico</td>\n",
       "      <td>&lt;=50K</td>\n",
       "    </tr>\n",
       "    <tr>\n",
       "      <th>19067</th>\n",
       "      <td>46</td>\n",
       "      <td>Private</td>\n",
       "      <td>173243</td>\n",
       "      <td>HS-grad</td>\n",
       "      <td>9</td>\n",
       "      <td>Married-civ-spouse</td>\n",
       "      <td>Craft-repair</td>\n",
       "      <td>Husband</td>\n",
       "      <td>White</td>\n",
       "      <td>Male</td>\n",
       "      <td>0</td>\n",
       "      <td>0</td>\n",
       "      <td>40</td>\n",
       "      <td>United-States</td>\n",
       "      <td>&lt;=50K</td>\n",
       "    </tr>\n",
       "    <tr>\n",
       "      <th>20388</th>\n",
       "      <td>30</td>\n",
       "      <td>Private</td>\n",
       "      <td>144593</td>\n",
       "      <td>HS-grad</td>\n",
       "      <td>9</td>\n",
       "      <td>Never-married</td>\n",
       "      <td>Other-service</td>\n",
       "      <td>Not-in-family</td>\n",
       "      <td>Black</td>\n",
       "      <td>Male</td>\n",
       "      <td>0</td>\n",
       "      <td>0</td>\n",
       "      <td>40</td>\n",
       "      <td>?</td>\n",
       "      <td>&lt;=50K</td>\n",
       "    </tr>\n",
       "    <tr>\n",
       "      <th>20507</th>\n",
       "      <td>19</td>\n",
       "      <td>Private</td>\n",
       "      <td>97261</td>\n",
       "      <td>HS-grad</td>\n",
       "      <td>9</td>\n",
       "      <td>Never-married</td>\n",
       "      <td>Farming-fishing</td>\n",
       "      <td>Not-in-family</td>\n",
       "      <td>White</td>\n",
       "      <td>Male</td>\n",
       "      <td>0</td>\n",
       "      <td>0</td>\n",
       "      <td>40</td>\n",
       "      <td>United-States</td>\n",
       "      <td>&lt;=50K</td>\n",
       "    </tr>\n",
       "    <tr>\n",
       "      <th>22783</th>\n",
       "      <td>19</td>\n",
       "      <td>Private</td>\n",
       "      <td>138153</td>\n",
       "      <td>Some-college</td>\n",
       "      <td>10</td>\n",
       "      <td>Never-married</td>\n",
       "      <td>Adm-clerical</td>\n",
       "      <td>Own-child</td>\n",
       "      <td>White</td>\n",
       "      <td>Female</td>\n",
       "      <td>0</td>\n",
       "      <td>0</td>\n",
       "      <td>10</td>\n",
       "      <td>United-States</td>\n",
       "      <td>&lt;=50K</td>\n",
       "    </tr>\n",
       "    <tr>\n",
       "      <th>22934</th>\n",
       "      <td>19</td>\n",
       "      <td>Private</td>\n",
       "      <td>146679</td>\n",
       "      <td>Some-college</td>\n",
       "      <td>10</td>\n",
       "      <td>Never-married</td>\n",
       "      <td>Exec-managerial</td>\n",
       "      <td>Own-child</td>\n",
       "      <td>Black</td>\n",
       "      <td>Male</td>\n",
       "      <td>0</td>\n",
       "      <td>0</td>\n",
       "      <td>30</td>\n",
       "      <td>United-States</td>\n",
       "      <td>&lt;=50K</td>\n",
       "    </tr>\n",
       "    <tr>\n",
       "      <th>23276</th>\n",
       "      <td>49</td>\n",
       "      <td>Private</td>\n",
       "      <td>31267</td>\n",
       "      <td>7th-8th</td>\n",
       "      <td>4</td>\n",
       "      <td>Married-civ-spouse</td>\n",
       "      <td>Craft-repair</td>\n",
       "      <td>Husband</td>\n",
       "      <td>White</td>\n",
       "      <td>Male</td>\n",
       "      <td>0</td>\n",
       "      <td>0</td>\n",
       "      <td>40</td>\n",
       "      <td>United-States</td>\n",
       "      <td>&lt;=50K</td>\n",
       "    </tr>\n",
       "    <tr>\n",
       "      <th>23660</th>\n",
       "      <td>25</td>\n",
       "      <td>Private</td>\n",
       "      <td>195994</td>\n",
       "      <td>1st-4th</td>\n",
       "      <td>2</td>\n",
       "      <td>Never-married</td>\n",
       "      <td>Priv-house-serv</td>\n",
       "      <td>Not-in-family</td>\n",
       "      <td>White</td>\n",
       "      <td>Female</td>\n",
       "      <td>0</td>\n",
       "      <td>0</td>\n",
       "      <td>40</td>\n",
       "      <td>Guatemala</td>\n",
       "      <td>&lt;=50K</td>\n",
       "    </tr>\n",
       "    <tr>\n",
       "      <th>23720</th>\n",
       "      <td>44</td>\n",
       "      <td>Private</td>\n",
       "      <td>367749</td>\n",
       "      <td>Bachelors</td>\n",
       "      <td>13</td>\n",
       "      <td>Never-married</td>\n",
       "      <td>Prof-specialty</td>\n",
       "      <td>Not-in-family</td>\n",
       "      <td>White</td>\n",
       "      <td>Female</td>\n",
       "      <td>0</td>\n",
       "      <td>0</td>\n",
       "      <td>45</td>\n",
       "      <td>Mexico</td>\n",
       "      <td>&lt;=50K</td>\n",
       "    </tr>\n",
       "    <tr>\n",
       "      <th>23827</th>\n",
       "      <td>49</td>\n",
       "      <td>Self-emp-not-inc</td>\n",
       "      <td>43479</td>\n",
       "      <td>Some-college</td>\n",
       "      <td>10</td>\n",
       "      <td>Married-civ-spouse</td>\n",
       "      <td>Craft-repair</td>\n",
       "      <td>Husband</td>\n",
       "      <td>White</td>\n",
       "      <td>Male</td>\n",
       "      <td>0</td>\n",
       "      <td>0</td>\n",
       "      <td>40</td>\n",
       "      <td>United-States</td>\n",
       "      <td>&lt;=50K</td>\n",
       "    </tr>\n",
       "    <tr>\n",
       "      <th>26738</th>\n",
       "      <td>23</td>\n",
       "      <td>Private</td>\n",
       "      <td>240137</td>\n",
       "      <td>5th-6th</td>\n",
       "      <td>3</td>\n",
       "      <td>Never-married</td>\n",
       "      <td>Handlers-cleaners</td>\n",
       "      <td>Not-in-family</td>\n",
       "      <td>White</td>\n",
       "      <td>Male</td>\n",
       "      <td>0</td>\n",
       "      <td>0</td>\n",
       "      <td>55</td>\n",
       "      <td>Mexico</td>\n",
       "      <td>&lt;=50K</td>\n",
       "    </tr>\n",
       "    <tr>\n",
       "      <th>27133</th>\n",
       "      <td>28</td>\n",
       "      <td>Private</td>\n",
       "      <td>274679</td>\n",
       "      <td>Masters</td>\n",
       "      <td>14</td>\n",
       "      <td>Never-married</td>\n",
       "      <td>Prof-specialty</td>\n",
       "      <td>Not-in-family</td>\n",
       "      <td>White</td>\n",
       "      <td>Male</td>\n",
       "      <td>0</td>\n",
       "      <td>0</td>\n",
       "      <td>50</td>\n",
       "      <td>United-States</td>\n",
       "      <td>&lt;=50K</td>\n",
       "    </tr>\n",
       "    <tr>\n",
       "      <th>28796</th>\n",
       "      <td>27</td>\n",
       "      <td>Private</td>\n",
       "      <td>255582</td>\n",
       "      <td>HS-grad</td>\n",
       "      <td>9</td>\n",
       "      <td>Never-married</td>\n",
       "      <td>Machine-op-inspct</td>\n",
       "      <td>Not-in-family</td>\n",
       "      <td>White</td>\n",
       "      <td>Female</td>\n",
       "      <td>0</td>\n",
       "      <td>0</td>\n",
       "      <td>40</td>\n",
       "      <td>United-States</td>\n",
       "      <td>&lt;=50K</td>\n",
       "    </tr>\n",
       "    <tr>\n",
       "      <th>29051</th>\n",
       "      <td>42</td>\n",
       "      <td>Private</td>\n",
       "      <td>204235</td>\n",
       "      <td>Some-college</td>\n",
       "      <td>10</td>\n",
       "      <td>Married-civ-spouse</td>\n",
       "      <td>Prof-specialty</td>\n",
       "      <td>Husband</td>\n",
       "      <td>White</td>\n",
       "      <td>Male</td>\n",
       "      <td>0</td>\n",
       "      <td>0</td>\n",
       "      <td>40</td>\n",
       "      <td>United-States</td>\n",
       "      <td>&gt;50K</td>\n",
       "    </tr>\n",
       "    <tr>\n",
       "      <th>29334</th>\n",
       "      <td>39</td>\n",
       "      <td>Private</td>\n",
       "      <td>30916</td>\n",
       "      <td>HS-grad</td>\n",
       "      <td>9</td>\n",
       "      <td>Married-civ-spouse</td>\n",
       "      <td>Craft-repair</td>\n",
       "      <td>Husband</td>\n",
       "      <td>White</td>\n",
       "      <td>Male</td>\n",
       "      <td>0</td>\n",
       "      <td>0</td>\n",
       "      <td>40</td>\n",
       "      <td>United-States</td>\n",
       "      <td>&lt;=50K</td>\n",
       "    </tr>\n",
       "    <tr>\n",
       "      <th>29604</th>\n",
       "      <td>38</td>\n",
       "      <td>Private</td>\n",
       "      <td>207202</td>\n",
       "      <td>HS-grad</td>\n",
       "      <td>9</td>\n",
       "      <td>Married-civ-spouse</td>\n",
       "      <td>Machine-op-inspct</td>\n",
       "      <td>Husband</td>\n",
       "      <td>White</td>\n",
       "      <td>Male</td>\n",
       "      <td>0</td>\n",
       "      <td>0</td>\n",
       "      <td>48</td>\n",
       "      <td>United-States</td>\n",
       "      <td>&gt;50K</td>\n",
       "    </tr>\n",
       "    <tr>\n",
       "      <th>31060</th>\n",
       "      <td>46</td>\n",
       "      <td>Private</td>\n",
       "      <td>133616</td>\n",
       "      <td>Some-college</td>\n",
       "      <td>10</td>\n",
       "      <td>Divorced</td>\n",
       "      <td>Adm-clerical</td>\n",
       "      <td>Unmarried</td>\n",
       "      <td>White</td>\n",
       "      <td>Female</td>\n",
       "      <td>0</td>\n",
       "      <td>0</td>\n",
       "      <td>40</td>\n",
       "      <td>United-States</td>\n",
       "      <td>&lt;=50K</td>\n",
       "    </tr>\n",
       "    <tr>\n",
       "      <th>32065</th>\n",
       "      <td>19</td>\n",
       "      <td>Private</td>\n",
       "      <td>251579</td>\n",
       "      <td>Some-college</td>\n",
       "      <td>10</td>\n",
       "      <td>Never-married</td>\n",
       "      <td>Other-service</td>\n",
       "      <td>Own-child</td>\n",
       "      <td>White</td>\n",
       "      <td>Male</td>\n",
       "      <td>0</td>\n",
       "      <td>0</td>\n",
       "      <td>14</td>\n",
       "      <td>United-States</td>\n",
       "      <td>&lt;=50K</td>\n",
       "    </tr>\n",
       "    <tr>\n",
       "      <th>32419</th>\n",
       "      <td>35</td>\n",
       "      <td>Private</td>\n",
       "      <td>379959</td>\n",
       "      <td>HS-grad</td>\n",
       "      <td>9</td>\n",
       "      <td>Divorced</td>\n",
       "      <td>Other-service</td>\n",
       "      <td>Not-in-family</td>\n",
       "      <td>White</td>\n",
       "      <td>Female</td>\n",
       "      <td>0</td>\n",
       "      <td>0</td>\n",
       "      <td>40</td>\n",
       "      <td>United-States</td>\n",
       "      <td>&lt;=50K</td>\n",
       "    </tr>\n",
       "  </tbody>\n",
       "</table>\n",
       "</div>"
      ],
      "text/plain": [
       "       age         workclass  fnlwgt     education  education.num  \\\n",
       "8453    25           Private  308144     Bachelors             13   \n",
       "8645    90           Private   52386  Some-college             10   \n",
       "12202   21           Private  250051  Some-college             10   \n",
       "14346   20           Private  107658  Some-college             10   \n",
       "15603   25           Private  195994       1st-4th              2   \n",
       "17344   21           Private  243368     Preschool              1   \n",
       "19067   46           Private  173243       HS-grad              9   \n",
       "20388   30           Private  144593       HS-grad              9   \n",
       "20507   19           Private   97261       HS-grad              9   \n",
       "22783   19           Private  138153  Some-college             10   \n",
       "22934   19           Private  146679  Some-college             10   \n",
       "23276   49           Private   31267       7th-8th              4   \n",
       "23660   25           Private  195994       1st-4th              2   \n",
       "23720   44           Private  367749     Bachelors             13   \n",
       "23827   49  Self-emp-not-inc   43479  Some-college             10   \n",
       "26738   23           Private  240137       5th-6th              3   \n",
       "27133   28           Private  274679       Masters             14   \n",
       "28796   27           Private  255582       HS-grad              9   \n",
       "29051   42           Private  204235  Some-college             10   \n",
       "29334   39           Private   30916       HS-grad              9   \n",
       "29604   38           Private  207202       HS-grad              9   \n",
       "31060   46           Private  133616  Some-college             10   \n",
       "32065   19           Private  251579  Some-college             10   \n",
       "32419   35           Private  379959       HS-grad              9   \n",
       "\n",
       "           marital.status         occupation   relationship  \\\n",
       "8453        Never-married       Craft-repair  Not-in-family   \n",
       "8645        Never-married      Other-service  Not-in-family   \n",
       "12202       Never-married     Prof-specialty      Own-child   \n",
       "14346       Never-married       Tech-support  Not-in-family   \n",
       "15603       Never-married    Priv-house-serv  Not-in-family   \n",
       "17344       Never-married    Farming-fishing  Not-in-family   \n",
       "19067  Married-civ-spouse       Craft-repair        Husband   \n",
       "20388       Never-married      Other-service  Not-in-family   \n",
       "20507       Never-married    Farming-fishing  Not-in-family   \n",
       "22783       Never-married       Adm-clerical      Own-child   \n",
       "22934       Never-married    Exec-managerial      Own-child   \n",
       "23276  Married-civ-spouse       Craft-repair        Husband   \n",
       "23660       Never-married    Priv-house-serv  Not-in-family   \n",
       "23720       Never-married     Prof-specialty  Not-in-family   \n",
       "23827  Married-civ-spouse       Craft-repair        Husband   \n",
       "26738       Never-married  Handlers-cleaners  Not-in-family   \n",
       "27133       Never-married     Prof-specialty  Not-in-family   \n",
       "28796       Never-married  Machine-op-inspct  Not-in-family   \n",
       "29051  Married-civ-spouse     Prof-specialty        Husband   \n",
       "29334  Married-civ-spouse       Craft-repair        Husband   \n",
       "29604  Married-civ-spouse  Machine-op-inspct        Husband   \n",
       "31060            Divorced       Adm-clerical      Unmarried   \n",
       "32065       Never-married      Other-service      Own-child   \n",
       "32419            Divorced      Other-service  Not-in-family   \n",
       "\n",
       "                     race     sex  capital.gain  capital.loss  hours.per.week  \\\n",
       "8453                White    Male             0             0              40   \n",
       "8645   Asian-Pac-Islander    Male             0             0              35   \n",
       "12202               White  Female             0             0              10   \n",
       "14346               White  Female             0             0              10   \n",
       "15603               White  Female             0             0              40   \n",
       "17344               White    Male             0             0              50   \n",
       "19067               White    Male             0             0              40   \n",
       "20388               Black    Male             0             0              40   \n",
       "20507               White    Male             0             0              40   \n",
       "22783               White  Female             0             0              10   \n",
       "22934               Black    Male             0             0              30   \n",
       "23276               White    Male             0             0              40   \n",
       "23660               White  Female             0             0              40   \n",
       "23720               White  Female             0             0              45   \n",
       "23827               White    Male             0             0              40   \n",
       "26738               White    Male             0             0              55   \n",
       "27133               White    Male             0             0              50   \n",
       "28796               White  Female             0             0              40   \n",
       "29051               White    Male             0             0              40   \n",
       "29334               White    Male             0             0              40   \n",
       "29604               White    Male             0             0              48   \n",
       "31060               White  Female             0             0              40   \n",
       "32065               White    Male             0             0              14   \n",
       "32419               White  Female             0             0              40   \n",
       "\n",
       "      native.country income  \n",
       "8453          Mexico  <=50K  \n",
       "8645   United-States  <=50K  \n",
       "12202  United-States  <=50K  \n",
       "14346  United-States  <=50K  \n",
       "15603      Guatemala  <=50K  \n",
       "17344         Mexico  <=50K  \n",
       "19067  United-States  <=50K  \n",
       "20388              ?  <=50K  \n",
       "20507  United-States  <=50K  \n",
       "22783  United-States  <=50K  \n",
       "22934  United-States  <=50K  \n",
       "23276  United-States  <=50K  \n",
       "23660      Guatemala  <=50K  \n",
       "23720         Mexico  <=50K  \n",
       "23827  United-States  <=50K  \n",
       "26738         Mexico  <=50K  \n",
       "27133  United-States  <=50K  \n",
       "28796  United-States  <=50K  \n",
       "29051  United-States   >50K  \n",
       "29334  United-States  <=50K  \n",
       "29604  United-States   >50K  \n",
       "31060  United-States  <=50K  \n",
       "32065  United-States  <=50K  \n",
       "32419  United-States  <=50K  "
      ]
     },
     "execution_count": 3,
     "metadata": {},
     "output_type": "execute_result"
    }
   ],
   "source": [
    "#Finding all duplicates in the Census Income Dataset \n",
    "duplicates = census_income.duplicated()\n",
    "census_income[duplicates]"
   ]
  },
  {
   "cell_type": "code",
   "execution_count": 4,
   "id": "f398553b",
   "metadata": {
    "execution": {
     "iopub.execute_input": "2023-11-03T03:59:17.552486Z",
     "iopub.status.busy": "2023-11-03T03:59:17.551895Z",
     "iopub.status.idle": "2023-11-03T03:59:17.587490Z",
     "shell.execute_reply": "2023-11-03T03:59:17.585863Z"
    },
    "papermill": {
     "duration": 0.047079,
     "end_time": "2023-11-03T03:59:17.589447",
     "exception": false,
     "start_time": "2023-11-03T03:59:17.542368",
     "status": "completed"
    },
    "tags": []
   },
   "outputs": [
    {
     "name": "stdout",
     "output_type": "stream",
     "text": [
      "Shape before dropping duplicates:  (32561, 15)\n",
      "Shape after dropping duplicates:  (32537, 15)\n",
      "Number of rows dropped:  24\n"
     ]
    }
   ],
   "source": [
    "print('Shape before dropping duplicates: ',census_income.shape)\n",
    "census_income1 = census_income.drop_duplicates()\n",
    "print('Shape after dropping duplicates: ',census_income1.shape)\n",
    "\n",
    "#Duplicates Dropped number of Rows\n",
    "dropped_rows = census_income.shape[0] - census_income1.shape[0]\n",
    "print('Number of rows dropped: ', dropped_rows)\n",
    "\n",
    "census_income = census_income1"
   ]
  },
  {
   "cell_type": "markdown",
   "id": "bfb1db7d",
   "metadata": {
    "papermill": {
     "duration": 0.007969,
     "end_time": "2023-11-03T03:59:17.606628",
     "exception": false,
     "start_time": "2023-11-03T03:59:17.598659",
     "status": "completed"
    },
    "tags": []
   },
   "source": [
    "#### Replacing Missing Values that are '?', Replacement of the '?' values with NaN"
   ]
  },
  {
   "cell_type": "code",
   "execution_count": 5,
   "id": "9516d3e8",
   "metadata": {
    "execution": {
     "iopub.execute_input": "2023-11-03T03:59:17.624751Z",
     "iopub.status.busy": "2023-11-03T03:59:17.624404Z",
     "iopub.status.idle": "2023-11-03T03:59:17.665399Z",
     "shell.execute_reply": "2023-11-03T03:59:17.664044Z"
    },
    "papermill": {
     "duration": 0.052363,
     "end_time": "2023-11-03T03:59:17.667277",
     "exception": false,
     "start_time": "2023-11-03T03:59:17.614914",
     "status": "completed"
    },
    "tags": []
   },
   "outputs": [
    {
     "data": {
      "text/plain": [
       "age                  0\n",
       "workclass         1836\n",
       "fnlwgt               0\n",
       "education            0\n",
       "education.num        0\n",
       "marital.status       0\n",
       "occupation        1843\n",
       "relationship         0\n",
       "race                 0\n",
       "sex                  0\n",
       "capital.gain         0\n",
       "capital.loss         0\n",
       "hours.per.week       0\n",
       "native.country     582\n",
       "income               0\n",
       "dtype: int64"
      ]
     },
     "execution_count": 5,
     "metadata": {},
     "output_type": "execute_result"
    }
   ],
   "source": [
    "census_income.isin([' ?', '?', '? ']).sum()"
   ]
  },
  {
   "cell_type": "code",
   "execution_count": 6,
   "id": "faaad1bc",
   "metadata": {
    "execution": {
     "iopub.execute_input": "2023-11-03T03:59:17.685425Z",
     "iopub.status.busy": "2023-11-03T03:59:17.685124Z",
     "iopub.status.idle": "2023-11-03T03:59:17.743460Z",
     "shell.execute_reply": "2023-11-03T03:59:17.742159Z"
    },
    "papermill": {
     "duration": 0.070264,
     "end_time": "2023-11-03T03:59:17.745881",
     "exception": false,
     "start_time": "2023-11-03T03:59:17.675617",
     "status": "completed"
    },
    "tags": []
   },
   "outputs": [
    {
     "name": "stdout",
     "output_type": "stream",
     "text": [
      "Total number of missing values in the dataset:  4261\n",
      "Percentage of missing values in the dataset:  1 %\n"
     ]
    }
   ],
   "source": [
    "import math\n",
    "census_income = census_income.replace([' ?', '?', '? '], np.nan)\n",
    "\n",
    "total_na = census_income.isnull().sum().sum()\n",
    "total_cells = np.product(census_income.size)\n",
    "percentage_missing = total_na/total_cells*100\n",
    "\n",
    "print('Total number of missing values in the dataset: ', total_na)\n",
    "print('Percentage of missing values in the dataset: ', math.ceil(percentage_missing),'%') "
   ]
  },
  {
   "cell_type": "code",
   "execution_count": 7,
   "id": "7365d66a",
   "metadata": {
    "execution": {
     "iopub.execute_input": "2023-11-03T03:59:17.765439Z",
     "iopub.status.busy": "2023-11-03T03:59:17.764385Z",
     "iopub.status.idle": "2023-11-03T03:59:17.770129Z",
     "shell.execute_reply": "2023-11-03T03:59:17.768699Z"
    },
    "papermill": {
     "duration": 0.017371,
     "end_time": "2023-11-03T03:59:17.772077",
     "exception": false,
     "start_time": "2023-11-03T03:59:17.754706",
     "status": "completed"
    },
    "tags": []
   },
   "outputs": [],
   "source": [
    "census_income.head()\n",
    "df = census_income"
   ]
  },
  {
   "cell_type": "markdown",
   "id": "ebce6360",
   "metadata": {
    "papermill": {
     "duration": 0.008222,
     "end_time": "2023-11-03T03:59:17.789029",
     "exception": false,
     "start_time": "2023-11-03T03:59:17.780807",
     "status": "completed"
    },
    "tags": []
   },
   "source": [
    "#### Filling NaN values with their Mode for each Column"
   ]
  },
  {
   "cell_type": "code",
   "execution_count": 8,
   "id": "42cf252c",
   "metadata": {
    "execution": {
     "iopub.execute_input": "2023-11-03T03:59:17.808105Z",
     "iopub.status.busy": "2023-11-03T03:59:17.807731Z",
     "iopub.status.idle": "2023-11-03T03:59:17.838505Z",
     "shell.execute_reply": "2023-11-03T03:59:17.837673Z"
    },
    "papermill": {
     "duration": 0.042787,
     "end_time": "2023-11-03T03:59:17.840637",
     "exception": false,
     "start_time": "2023-11-03T03:59:17.797850",
     "status": "completed"
    },
    "tags": []
   },
   "outputs": [
    {
     "data": {
      "text/plain": [
       "age               0\n",
       "workclass         0\n",
       "fnlwgt            0\n",
       "education         0\n",
       "education.num     0\n",
       "marital.status    0\n",
       "occupation        0\n",
       "relationship      0\n",
       "race              0\n",
       "sex               0\n",
       "capital.gain      0\n",
       "capital.loss      0\n",
       "hours.per.week    0\n",
       "native.country    0\n",
       "income            0\n",
       "dtype: int64"
      ]
     },
     "execution_count": 8,
     "metadata": {},
     "output_type": "execute_result"
    }
   ],
   "source": [
    "df['workclass'] = df['workclass'].fillna(df['workclass'].mode()[0])\n",
    "df['occupation'] = df['occupation'].fillna(df['occupation'].mode()[0])\n",
    "df['native.country'] = df['native.country'].fillna(df['native.country'].mode()[0])\n",
    "df.isnull().sum()"
   ]
  },
  {
   "cell_type": "markdown",
   "id": "1f1cbc8a",
   "metadata": {
    "papermill": {
     "duration": 0.008026,
     "end_time": "2023-11-03T03:59:17.857410",
     "exception": false,
     "start_time": "2023-11-03T03:59:17.849384",
     "status": "completed"
    },
    "tags": []
   },
   "source": [
    "### EDA/Plots"
   ]
  },
  {
   "cell_type": "code",
   "execution_count": 9,
   "id": "ebb67c55",
   "metadata": {
    "execution": {
     "iopub.execute_input": "2023-11-03T03:59:17.877203Z",
     "iopub.status.busy": "2023-11-03T03:59:17.876553Z",
     "iopub.status.idle": "2023-11-03T03:59:19.113185Z",
     "shell.execute_reply": "2023-11-03T03:59:19.112291Z"
    },
    "papermill": {
     "duration": 1.249304,
     "end_time": "2023-11-03T03:59:19.115118",
     "exception": false,
     "start_time": "2023-11-03T03:59:17.865814",
     "status": "completed"
    },
    "tags": []
   },
   "outputs": [
    {
     "data": {
      "text/plain": [
       "Text(0, 0.5, 'Count')"
      ]
     },
     "execution_count": 9,
     "metadata": {},
     "output_type": "execute_result"
    },
    {
     "data": {
      "image/png": "[encoded data removed]",
      "text/plain": [
       "<Figure size 2500x500 with 4 Axes>"
      ]
     },
     "metadata": {},
     "output_type": "display_data"
    }
   ],
   "source": [
    "# plotting Workclass, education, gender vs income \n",
    "\n",
    "fig, axes = plt.subplots(1, 4, figsize=(25,5))\n",
    "\n",
    "workclass_x_income = pd.crosstab(df['workclass'],df['income'],).plot(kind='bar',ax=axes[0])\n",
    "axes[0].set_title('Workclass x Income')\n",
    "axes[0].set_xlabel('Workclass')\n",
    "axes[0].set_ylabel('Count')\n",
    "\n",
    "education_x_income = pd.crosstab(df['education'], df['income']).plot(kind='bar',ax=axes[1])\n",
    "axes[1].set_title('Education x Income')\n",
    "axes[1].set_xlabel('Education')\n",
    "axes[1].set_ylabel('Count')\n",
    "\n",
    "gender_x_income = pd.crosstab(df['sex'], df['income']).plot(kind='bar', ax=axes[2])\n",
    "axes[2].set_title('Gender x Income')\n",
    "axes[2].set_xlabel('Gender')\n",
    "axes[2].set_ylabel('Count')\n",
    "\n",
    "\n",
    "occupation_x_income = pd.crosstab(df['occupation'],df['income'],).plot(kind='bar', ax= axes[3])\n",
    "axes[3].set_title('Occupation x Income')\n",
    "axes[3].set_xlabel('Occupation')\n",
    "axes[3].set_ylabel('Count')\n"
   ]
  },
  {
   "cell_type": "code",
   "execution_count": 10,
   "id": "d38277db",
   "metadata": {
    "execution": {
     "iopub.execute_input": "2023-11-03T03:59:19.136551Z",
     "iopub.status.busy": "2023-11-03T03:59:19.136219Z",
     "iopub.status.idle": "2023-11-03T03:59:19.145677Z",
     "shell.execute_reply": "2023-11-03T03:59:19.144015Z"
    },
    "papermill": {
     "duration": 0.022986,
     "end_time": "2023-11-03T03:59:19.148129",
     "exception": false,
     "start_time": "2023-11-03T03:59:19.125143",
     "status": "completed"
    },
    "tags": []
   },
   "outputs": [
    {
     "name": "stdout",
     "output_type": "stream",
     "text": [
      "['Handlers-cleaners', 'Exec-managerial', 'Tech-support', 'Protective-serv', 'Prof-specialty', 'Machine-op-inspct', 'Transport-moving', 'Craft-repair', 'Sales', 'Adm-clerical', 'Farming-fishing', 'Other-service', 'Armed-Forces', 'Priv-house-serv']\n"
     ]
    }
   ],
   "source": [
    "occupation_labels = df['occupation']\n",
    "occupation_labels = list(set(occupation_labels))\n",
    "print(occupation_labels)"
   ]
  },
  {
   "cell_type": "code",
   "execution_count": 11,
   "id": "02062b83",
   "metadata": {
    "execution": {
     "iopub.execute_input": "2023-11-03T03:59:19.169271Z",
     "iopub.status.busy": "2023-11-03T03:59:19.168918Z",
     "iopub.status.idle": "2023-11-03T03:59:19.371995Z",
     "shell.execute_reply": "2023-11-03T03:59:19.370803Z"
    },
    "papermill": {
     "duration": 0.21632,
     "end_time": "2023-11-03T03:59:19.374500",
     "exception": false,
     "start_time": "2023-11-03T03:59:19.158180",
     "status": "completed"
    },
    "tags": []
   },
   "outputs": [
    {
     "data": {
      "image/png": "[encoded data removed]",
      "text/plain": [
       "<Figure size 640x480 with 1 Axes>"
      ]
     },
     "metadata": {},
     "output_type": "display_data"
    }
   ],
   "source": [
    "# Pie Chart of the Occupation of people \n",
    "#syntax from chatgpt and matplotlib\n",
    "\n",
    "plt.pie(df.groupby('occupation').size(), labels=occupation_labels, autopct='%1.1f%%')\n",
    "plt.title('My Pie Chart')  # Optional: Set a title\n",
    "plt.axis('equal')  # Equal aspect ratio ensures that pie is drawn as a circle.\n",
    "\n",
    "# Display the pie chart\n",
    "plt.show()\n",
    "\n"
   ]
  },
  {
   "cell_type": "code",
   "execution_count": 12,
   "id": "10eda115",
   "metadata": {
    "execution": {
     "iopub.execute_input": "2023-11-03T03:59:19.404488Z",
     "iopub.status.busy": "2023-11-03T03:59:19.404066Z",
     "iopub.status.idle": "2023-11-03T03:59:19.681318Z",
     "shell.execute_reply": "2023-11-03T03:59:19.680592Z"
    },
    "papermill": {
     "duration": 0.294542,
     "end_time": "2023-11-03T03:59:19.683142",
     "exception": false,
     "start_time": "2023-11-03T03:59:19.388600",
     "status": "completed"
    },
    "tags": []
   },
   "outputs": [
    {
     "data": {
      "image/png": "[encoded data removed]",
      "text/plain": [
       "<Figure size 640x480 with 1 Axes>"
      ]
     },
     "metadata": {},
     "output_type": "display_data"
    }
   ],
   "source": [
    "ages = df['age']\n",
    "\n",
    "plt.hist(ages, bins=80, histtype = 'bar', color='skyblue', edgecolor = 'grey')\n",
    "plt.xlabel('Age')\n",
    "plt.ylabel('Count')\n",
    "plt.title('Distribution of Age')\n",
    "plt.show()\n",
    "\n",
    "# from scipy.stats import gaussian_kde  # Import the gaussian_kde function\n",
    "# kde = np.linspace(ages.min(), ages.max(), 100)\n",
    "# kde_curve = gaussian_kde(ages)\n",
    "# plt.plot(kde, kde_curve(kde), color='orange', label='Kernel Density Estimate')\n",
    "# plt.show()\n",
    "\n",
    "\n"
   ]
  },
  {
   "cell_type": "code",
   "execution_count": 13,
   "id": "4aeaf112",
   "metadata": {
    "execution": {
     "iopub.execute_input": "2023-11-03T03:59:19.707510Z",
     "iopub.status.busy": "2023-11-03T03:59:19.706961Z",
     "iopub.status.idle": "2023-11-03T03:59:20.231837Z",
     "shell.execute_reply": "2023-11-03T03:59:20.230176Z"
    },
    "papermill": {
     "duration": 0.539585,
     "end_time": "2023-11-03T03:59:20.233526",
     "exception": false,
     "start_time": "2023-11-03T03:59:19.693941",
     "status": "completed"
    },
    "tags": []
   },
   "outputs": [
    {
     "name": "stderr",
     "output_type": "stream",
     "text": [
      "/tmp/ipykernel_20/575611014.py:3: UserWarning: \n",
      "\n",
      "`distplot` is a deprecated function and will be removed in seaborn v0.14.0.\n",
      "\n",
      "Please adapt your code to use either `displot` (a figure-level function with\n",
      "similar flexibility) or `histplot` (an axes-level function for histograms).\n",
      "\n",
      "For a guide to updating your code to use the new functions, please see\n",
      "https://gist.github.com/mwaskom/de44147ed2974457ad6372750bbe5751\n",
      "\n",
      "  sns.distplot(df['age'], bins = 90, color = 'mediumslateblue')\n"
     ]
    },
    {
     "data": {
      "image/png": "[encoded data removed]",
      "text/plain": [
       "<Figure size 640x480 with 1 Axes>"
      ]
     },
     "metadata": {},
     "output_type": "display_data"
    }
   ],
   "source": [
    "# This distribution plot shows the distribution of Age of people across the Data Set\n",
    "\n",
    "sns.distplot(df['age'], bins = 90, color = 'mediumslateblue')\n",
    "plt.ylabel(\"Distribution\", fontsize = 15)\n",
    "plt.xlabel(\"Age\", fontsize = 15)\n",
    "plt.margins(x = 0)"
   ]
  },
  {
   "cell_type": "markdown",
   "id": "16e67cb2",
   "metadata": {
    "papermill": {
     "duration": 0.010645,
     "end_time": "2023-11-03T03:59:20.255249",
     "exception": false,
     "start_time": "2023-11-03T03:59:20.244604",
     "status": "completed"
    },
    "tags": []
   },
   "source": [
    "#### Feature Handling and Scaling \n",
    "1. Income map to assign <=50k as 0 and >50k as 1\n",
    "2. Assigning Education with the values of Education.num and dropping Education.num\n",
    "3. Lists for Numerical and Categorical columns \n",
    "4. Lable Encoding for the Categorical columns "
   ]
  },
  {
   "cell_type": "code",
   "execution_count": 14,
   "id": "2399de56",
   "metadata": {
    "execution": {
     "iopub.execute_input": "2023-11-03T03:59:20.278746Z",
     "iopub.status.busy": "2023-11-03T03:59:20.278390Z",
     "iopub.status.idle": "2023-11-03T03:59:20.286032Z",
     "shell.execute_reply": "2023-11-03T03:59:20.284810Z"
    },
    "papermill": {
     "duration": 0.022431,
     "end_time": "2023-11-03T03:59:20.288463",
     "exception": false,
     "start_time": "2023-11-03T03:59:20.266032",
     "status": "completed"
    },
    "tags": []
   },
   "outputs": [],
   "source": [
    "# Feature Scaling/Handling \n",
    "\n",
    "income_map = {'<=50K': 0, '>50K': 1}\n",
    "df['income'] = df['income'].map(income_map)"
   ]
  },
  {
   "cell_type": "code",
   "execution_count": 15,
   "id": "7df8c7cd",
   "metadata": {
    "execution": {
     "iopub.execute_input": "2023-11-03T03:59:20.314348Z",
     "iopub.status.busy": "2023-11-03T03:59:20.313471Z",
     "iopub.status.idle": "2023-11-03T03:59:20.329816Z",
     "shell.execute_reply": "2023-11-03T03:59:20.328276Z"
    },
    "papermill": {
     "duration": 0.032335,
     "end_time": "2023-11-03T03:59:20.332448",
     "exception": false,
     "start_time": "2023-11-03T03:59:20.300113",
     "status": "completed"
    },
    "tags": []
   },
   "outputs": [
    {
     "data": {
      "text/html": [
       "<div>\n",
       "<style scoped>\n",
       "    .dataframe tbody tr th:only-of-type {\n",
       "        vertical-align: middle;\n",
       "    }\n",
       "\n",
       "    .dataframe tbody tr th {\n",
       "        vertical-align: top;\n",
       "    }\n",
       "\n",
       "    .dataframe thead th {\n",
       "        text-align: right;\n",
       "    }\n",
       "</style>\n",
       "<table border=\"1\" class=\"dataframe\">\n",
       "  <thead>\n",
       "    <tr style=\"text-align: right;\">\n",
       "      <th></th>\n",
       "      <th>age</th>\n",
       "      <th>workclass</th>\n",
       "      <th>fnlwgt</th>\n",
       "      <th>education</th>\n",
       "      <th>education.num</th>\n",
       "      <th>marital.status</th>\n",
       "      <th>occupation</th>\n",
       "      <th>relationship</th>\n",
       "      <th>race</th>\n",
       "      <th>sex</th>\n",
       "      <th>capital.gain</th>\n",
       "      <th>capital.loss</th>\n",
       "      <th>hours.per.week</th>\n",
       "      <th>native.country</th>\n",
       "      <th>income</th>\n",
       "    </tr>\n",
       "  </thead>\n",
       "  <tbody>\n",
       "    <tr>\n",
       "      <th>0</th>\n",
       "      <td>90</td>\n",
       "      <td>Private</td>\n",
       "      <td>77053</td>\n",
       "      <td>HS-grad</td>\n",
       "      <td>9</td>\n",
       "      <td>Widowed</td>\n",
       "      <td>Prof-specialty</td>\n",
       "      <td>Not-in-family</td>\n",
       "      <td>White</td>\n",
       "      <td>Female</td>\n",
       "      <td>0</td>\n",
       "      <td>4356</td>\n",
       "      <td>40</td>\n",
       "      <td>United-States</td>\n",
       "      <td>0</td>\n",
       "    </tr>\n",
       "    <tr>\n",
       "      <th>1</th>\n",
       "      <td>82</td>\n",
       "      <td>Private</td>\n",
       "      <td>132870</td>\n",
       "      <td>HS-grad</td>\n",
       "      <td>9</td>\n",
       "      <td>Widowed</td>\n",
       "      <td>Exec-managerial</td>\n",
       "      <td>Not-in-family</td>\n",
       "      <td>White</td>\n",
       "      <td>Female</td>\n",
       "      <td>0</td>\n",
       "      <td>4356</td>\n",
       "      <td>18</td>\n",
       "      <td>United-States</td>\n",
       "      <td>0</td>\n",
       "    </tr>\n",
       "    <tr>\n",
       "      <th>2</th>\n",
       "      <td>66</td>\n",
       "      <td>Private</td>\n",
       "      <td>186061</td>\n",
       "      <td>Some-college</td>\n",
       "      <td>10</td>\n",
       "      <td>Widowed</td>\n",
       "      <td>Prof-specialty</td>\n",
       "      <td>Unmarried</td>\n",
       "      <td>Black</td>\n",
       "      <td>Female</td>\n",
       "      <td>0</td>\n",
       "      <td>4356</td>\n",
       "      <td>40</td>\n",
       "      <td>United-States</td>\n",
       "      <td>0</td>\n",
       "    </tr>\n",
       "    <tr>\n",
       "      <th>3</th>\n",
       "      <td>54</td>\n",
       "      <td>Private</td>\n",
       "      <td>140359</td>\n",
       "      <td>7th-8th</td>\n",
       "      <td>4</td>\n",
       "      <td>Divorced</td>\n",
       "      <td>Machine-op-inspct</td>\n",
       "      <td>Unmarried</td>\n",
       "      <td>White</td>\n",
       "      <td>Female</td>\n",
       "      <td>0</td>\n",
       "      <td>3900</td>\n",
       "      <td>40</td>\n",
       "      <td>United-States</td>\n",
       "      <td>0</td>\n",
       "    </tr>\n",
       "    <tr>\n",
       "      <th>4</th>\n",
       "      <td>41</td>\n",
       "      <td>Private</td>\n",
       "      <td>264663</td>\n",
       "      <td>Some-college</td>\n",
       "      <td>10</td>\n",
       "      <td>Separated</td>\n",
       "      <td>Prof-specialty</td>\n",
       "      <td>Own-child</td>\n",
       "      <td>White</td>\n",
       "      <td>Female</td>\n",
       "      <td>0</td>\n",
       "      <td>3900</td>\n",
       "      <td>40</td>\n",
       "      <td>United-States</td>\n",
       "      <td>0</td>\n",
       "    </tr>\n",
       "  </tbody>\n",
       "</table>\n",
       "</div>"
      ],
      "text/plain": [
       "   age workclass  fnlwgt     education  education.num marital.status  \\\n",
       "0   90   Private   77053       HS-grad              9        Widowed   \n",
       "1   82   Private  132870       HS-grad              9        Widowed   \n",
       "2   66   Private  186061  Some-college             10        Widowed   \n",
       "3   54   Private  140359       7th-8th              4       Divorced   \n",
       "4   41   Private  264663  Some-college             10      Separated   \n",
       "\n",
       "          occupation   relationship   race     sex  capital.gain  \\\n",
       "0     Prof-specialty  Not-in-family  White  Female             0   \n",
       "1    Exec-managerial  Not-in-family  White  Female             0   \n",
       "2     Prof-specialty      Unmarried  Black  Female             0   \n",
       "3  Machine-op-inspct      Unmarried  White  Female             0   \n",
       "4     Prof-specialty      Own-child  White  Female             0   \n",
       "\n",
       "   capital.loss  hours.per.week native.country  income  \n",
       "0          4356              40  United-States       0  \n",
       "1          4356              18  United-States       0  \n",
       "2          4356              40  United-States       0  \n",
       "3          3900              40  United-States       0  \n",
       "4          3900              40  United-States       0  "
      ]
     },
     "execution_count": 15,
     "metadata": {},
     "output_type": "execute_result"
    }
   ],
   "source": [
    "df.head(5)"
   ]
  },
  {
   "cell_type": "code",
   "execution_count": 16,
   "id": "2f74835c",
   "metadata": {
    "execution": {
     "iopub.execute_input": "2023-11-03T03:59:20.356972Z",
     "iopub.status.busy": "2023-11-03T03:59:20.356625Z",
     "iopub.status.idle": "2023-11-03T03:59:20.371526Z",
     "shell.execute_reply": "2023-11-03T03:59:20.370550Z"
    },
    "papermill": {
     "duration": 0.029525,
     "end_time": "2023-11-03T03:59:20.373653",
     "exception": false,
     "start_time": "2023-11-03T03:59:20.344128",
     "status": "completed"
    },
    "tags": []
   },
   "outputs": [],
   "source": [
    "df['education'] = df['education.num']\n",
    "df = df.drop(columns = ['education.num'])\n",
    "df = df.drop(columns = ['fnlwgt'])"
   ]
  },
  {
   "cell_type": "code",
   "execution_count": 17,
   "id": "48c9713b",
   "metadata": {
    "execution": {
     "iopub.execute_input": "2023-11-03T03:59:20.398823Z",
     "iopub.status.busy": "2023-11-03T03:59:20.398492Z",
     "iopub.status.idle": "2023-11-03T03:59:20.414388Z",
     "shell.execute_reply": "2023-11-03T03:59:20.413647Z"
    },
    "papermill": {
     "duration": 0.031154,
     "end_time": "2023-11-03T03:59:20.416710",
     "exception": false,
     "start_time": "2023-11-03T03:59:20.385556",
     "status": "completed"
    },
    "tags": []
   },
   "outputs": [
    {
     "data": {
      "text/html": [
       "<div>\n",
       "<style scoped>\n",
       "    .dataframe tbody tr th:only-of-type {\n",
       "        vertical-align: middle;\n",
       "    }\n",
       "\n",
       "    .dataframe tbody tr th {\n",
       "        vertical-align: top;\n",
       "    }\n",
       "\n",
       "    .dataframe thead th {\n",
       "        text-align: right;\n",
       "    }\n",
       "</style>\n",
       "<table border=\"1\" class=\"dataframe\">\n",
       "  <thead>\n",
       "    <tr style=\"text-align: right;\">\n",
       "      <th></th>\n",
       "      <th>age</th>\n",
       "      <th>workclass</th>\n",
       "      <th>education</th>\n",
       "      <th>marital.status</th>\n",
       "      <th>occupation</th>\n",
       "      <th>relationship</th>\n",
       "      <th>race</th>\n",
       "      <th>sex</th>\n",
       "      <th>capital.gain</th>\n",
       "      <th>capital.loss</th>\n",
       "      <th>hours.per.week</th>\n",
       "      <th>native.country</th>\n",
       "      <th>income</th>\n",
       "    </tr>\n",
       "  </thead>\n",
       "  <tbody>\n",
       "    <tr>\n",
       "      <th>0</th>\n",
       "      <td>90</td>\n",
       "      <td>Private</td>\n",
       "      <td>9</td>\n",
       "      <td>Widowed</td>\n",
       "      <td>Prof-specialty</td>\n",
       "      <td>Not-in-family</td>\n",
       "      <td>White</td>\n",
       "      <td>Female</td>\n",
       "      <td>0</td>\n",
       "      <td>4356</td>\n",
       "      <td>40</td>\n",
       "      <td>United-States</td>\n",
       "      <td>0</td>\n",
       "    </tr>\n",
       "    <tr>\n",
       "      <th>1</th>\n",
       "      <td>82</td>\n",
       "      <td>Private</td>\n",
       "      <td>9</td>\n",
       "      <td>Widowed</td>\n",
       "      <td>Exec-managerial</td>\n",
       "      <td>Not-in-family</td>\n",
       "      <td>White</td>\n",
       "      <td>Female</td>\n",
       "      <td>0</td>\n",
       "      <td>4356</td>\n",
       "      <td>18</td>\n",
       "      <td>United-States</td>\n",
       "      <td>0</td>\n",
       "    </tr>\n",
       "    <tr>\n",
       "      <th>2</th>\n",
       "      <td>66</td>\n",
       "      <td>Private</td>\n",
       "      <td>10</td>\n",
       "      <td>Widowed</td>\n",
       "      <td>Prof-specialty</td>\n",
       "      <td>Unmarried</td>\n",
       "      <td>Black</td>\n",
       "      <td>Female</td>\n",
       "      <td>0</td>\n",
       "      <td>4356</td>\n",
       "      <td>40</td>\n",
       "      <td>United-States</td>\n",
       "      <td>0</td>\n",
       "    </tr>\n",
       "    <tr>\n",
       "      <th>3</th>\n",
       "      <td>54</td>\n",
       "      <td>Private</td>\n",
       "      <td>4</td>\n",
       "      <td>Divorced</td>\n",
       "      <td>Machine-op-inspct</td>\n",
       "      <td>Unmarried</td>\n",
       "      <td>White</td>\n",
       "      <td>Female</td>\n",
       "      <td>0</td>\n",
       "      <td>3900</td>\n",
       "      <td>40</td>\n",
       "      <td>United-States</td>\n",
       "      <td>0</td>\n",
       "    </tr>\n",
       "    <tr>\n",
       "      <th>4</th>\n",
       "      <td>41</td>\n",
       "      <td>Private</td>\n",
       "      <td>10</td>\n",
       "      <td>Separated</td>\n",
       "      <td>Prof-specialty</td>\n",
       "      <td>Own-child</td>\n",
       "      <td>White</td>\n",
       "      <td>Female</td>\n",
       "      <td>0</td>\n",
       "      <td>3900</td>\n",
       "      <td>40</td>\n",
       "      <td>United-States</td>\n",
       "      <td>0</td>\n",
       "    </tr>\n",
       "    <tr>\n",
       "      <th>5</th>\n",
       "      <td>34</td>\n",
       "      <td>Private</td>\n",
       "      <td>9</td>\n",
       "      <td>Divorced</td>\n",
       "      <td>Other-service</td>\n",
       "      <td>Unmarried</td>\n",
       "      <td>White</td>\n",
       "      <td>Female</td>\n",
       "      <td>0</td>\n",
       "      <td>3770</td>\n",
       "      <td>45</td>\n",
       "      <td>United-States</td>\n",
       "      <td>0</td>\n",
       "    </tr>\n",
       "    <tr>\n",
       "      <th>6</th>\n",
       "      <td>38</td>\n",
       "      <td>Private</td>\n",
       "      <td>6</td>\n",
       "      <td>Separated</td>\n",
       "      <td>Adm-clerical</td>\n",
       "      <td>Unmarried</td>\n",
       "      <td>White</td>\n",
       "      <td>Male</td>\n",
       "      <td>0</td>\n",
       "      <td>3770</td>\n",
       "      <td>40</td>\n",
       "      <td>United-States</td>\n",
       "      <td>0</td>\n",
       "    </tr>\n",
       "    <tr>\n",
       "      <th>7</th>\n",
       "      <td>74</td>\n",
       "      <td>State-gov</td>\n",
       "      <td>16</td>\n",
       "      <td>Never-married</td>\n",
       "      <td>Prof-specialty</td>\n",
       "      <td>Other-relative</td>\n",
       "      <td>White</td>\n",
       "      <td>Female</td>\n",
       "      <td>0</td>\n",
       "      <td>3683</td>\n",
       "      <td>20</td>\n",
       "      <td>United-States</td>\n",
       "      <td>1</td>\n",
       "    </tr>\n",
       "    <tr>\n",
       "      <th>8</th>\n",
       "      <td>68</td>\n",
       "      <td>Federal-gov</td>\n",
       "      <td>9</td>\n",
       "      <td>Divorced</td>\n",
       "      <td>Prof-specialty</td>\n",
       "      <td>Not-in-family</td>\n",
       "      <td>White</td>\n",
       "      <td>Female</td>\n",
       "      <td>0</td>\n",
       "      <td>3683</td>\n",
       "      <td>40</td>\n",
       "      <td>United-States</td>\n",
       "      <td>0</td>\n",
       "    </tr>\n",
       "    <tr>\n",
       "      <th>9</th>\n",
       "      <td>41</td>\n",
       "      <td>Private</td>\n",
       "      <td>10</td>\n",
       "      <td>Never-married</td>\n",
       "      <td>Craft-repair</td>\n",
       "      <td>Unmarried</td>\n",
       "      <td>White</td>\n",
       "      <td>Male</td>\n",
       "      <td>0</td>\n",
       "      <td>3004</td>\n",
       "      <td>60</td>\n",
       "      <td>United-States</td>\n",
       "      <td>1</td>\n",
       "    </tr>\n",
       "  </tbody>\n",
       "</table>\n",
       "</div>"
      ],
      "text/plain": [
       "   age    workclass  education marital.status         occupation  \\\n",
       "0   90      Private          9        Widowed     Prof-specialty   \n",
       "1   82      Private          9        Widowed    Exec-managerial   \n",
       "2   66      Private         10        Widowed     Prof-specialty   \n",
       "3   54      Private          4       Divorced  Machine-op-inspct   \n",
       "4   41      Private         10      Separated     Prof-specialty   \n",
       "5   34      Private          9       Divorced      Other-service   \n",
       "6   38      Private          6      Separated       Adm-clerical   \n",
       "7   74    State-gov         16  Never-married     Prof-specialty   \n",
       "8   68  Federal-gov          9       Divorced     Prof-specialty   \n",
       "9   41      Private         10  Never-married       Craft-repair   \n",
       "\n",
       "     relationship   race     sex  capital.gain  capital.loss  hours.per.week  \\\n",
       "0   Not-in-family  White  Female             0          4356              40   \n",
       "1   Not-in-family  White  Female             0          4356              18   \n",
       "2       Unmarried  Black  Female             0          4356              40   \n",
       "3       Unmarried  White  Female             0          3900              40   \n",
       "4       Own-child  White  Female             0          3900              40   \n",
       "5       Unmarried  White  Female             0          3770              45   \n",
       "6       Unmarried  White    Male             0          3770              40   \n",
       "7  Other-relative  White  Female             0          3683              20   \n",
       "8   Not-in-family  White  Female             0          3683              40   \n",
       "9       Unmarried  White    Male             0          3004              60   \n",
       "\n",
       "  native.country  income  \n",
       "0  United-States       0  \n",
       "1  United-States       0  \n",
       "2  United-States       0  \n",
       "3  United-States       0  \n",
       "4  United-States       0  \n",
       "5  United-States       0  \n",
       "6  United-States       0  \n",
       "7  United-States       1  \n",
       "8  United-States       0  \n",
       "9  United-States       1  "
      ]
     },
     "execution_count": 17,
     "metadata": {},
     "output_type": "execute_result"
    }
   ],
   "source": [
    "df.head(10)"
   ]
  },
  {
   "cell_type": "code",
   "execution_count": 18,
   "id": "3c7e70cc",
   "metadata": {
    "execution": {
     "iopub.execute_input": "2023-11-03T03:59:20.504663Z",
     "iopub.status.busy": "2023-11-03T03:59:20.503043Z",
     "iopub.status.idle": "2023-11-03T03:59:20.514201Z",
     "shell.execute_reply": "2023-11-03T03:59:20.513066Z"
    },
    "papermill": {
     "duration": 0.027855,
     "end_time": "2023-11-03T03:59:20.516560",
     "exception": false,
     "start_time": "2023-11-03T03:59:20.488705",
     "status": "completed"
    },
    "tags": []
   },
   "outputs": [
    {
     "data": {
      "text/plain": [
       "marital.status\n",
       "Married-civ-spouse       14970\n",
       "Never-married            10667\n",
       "Divorced                  4441\n",
       "Separated                 1025\n",
       "Widowed                    993\n",
       "Married-spouse-absent      418\n",
       "Married-AF-spouse           23\n",
       "Name: count, dtype: int64"
      ]
     },
     "execution_count": 18,
     "metadata": {},
     "output_type": "execute_result"
    }
   ],
   "source": [
    "df['marital.status'].value_counts()"
   ]
  },
  {
   "cell_type": "code",
   "execution_count": 19,
   "id": "1ada05c2",
   "metadata": {
    "execution": {
     "iopub.execute_input": "2023-11-03T03:59:20.542126Z",
     "iopub.status.busy": "2023-11-03T03:59:20.541767Z",
     "iopub.status.idle": "2023-11-03T03:59:20.555692Z",
     "shell.execute_reply": "2023-11-03T03:59:20.554498Z"
    },
    "papermill": {
     "duration": 0.029164,
     "end_time": "2023-11-03T03:59:20.557866",
     "exception": false,
     "start_time": "2023-11-03T03:59:20.528702",
     "status": "completed"
    },
    "tags": []
   },
   "outputs": [
    {
     "name": "stdout",
     "output_type": "stream",
     "text": [
      "['workclass', 'marital.status', 'occupation', 'relationship', 'race', 'sex', 'native.country']\n",
      "['age', 'education', 'capital.gain', 'capital.loss', 'hours.per.week', 'income']\n"
     ]
    }
   ],
   "source": [
    "categorical = df.select_dtypes(include=['object']).columns.tolist()\n",
    "numerical = df.select_dtypes(include=['int64']).columns.tolist()\n",
    "print(categorical)\n",
    "print(numerical)"
   ]
  },
  {
   "cell_type": "code",
   "execution_count": 20,
   "id": "01b8b1cb",
   "metadata": {
    "execution": {
     "iopub.execute_input": "2023-11-03T03:59:20.584131Z",
     "iopub.status.busy": "2023-11-03T03:59:20.583718Z",
     "iopub.status.idle": "2023-11-03T03:59:20.772457Z",
     "shell.execute_reply": "2023-11-03T03:59:20.771137Z"
    },
    "papermill": {
     "duration": 0.205094,
     "end_time": "2023-11-03T03:59:20.775162",
     "exception": false,
     "start_time": "2023-11-03T03:59:20.570068",
     "status": "completed"
    },
    "tags": []
   },
   "outputs": [],
   "source": [
    "import pandas as pd\n",
    "from sklearn.preprocessing import LabelEncoder\n",
    "label_encoder = LabelEncoder()"
   ]
  },
  {
   "cell_type": "code",
   "execution_count": 21,
   "id": "3947164d",
   "metadata": {
    "execution": {
     "iopub.execute_input": "2023-11-03T03:59:20.800049Z",
     "iopub.status.busy": "2023-11-03T03:59:20.799718Z",
     "iopub.status.idle": "2023-11-03T03:59:20.860785Z",
     "shell.execute_reply": "2023-11-03T03:59:20.859665Z"
    },
    "papermill": {
     "duration": 0.076071,
     "end_time": "2023-11-03T03:59:20.863149",
     "exception": false,
     "start_time": "2023-11-03T03:59:20.787078",
     "status": "completed"
    },
    "tags": []
   },
   "outputs": [
    {
     "data": {
      "text/html": [
       "<div>\n",
       "<style scoped>\n",
       "    .dataframe tbody tr th:only-of-type {\n",
       "        vertical-align: middle;\n",
       "    }\n",
       "\n",
       "    .dataframe tbody tr th {\n",
       "        vertical-align: top;\n",
       "    }\n",
       "\n",
       "    .dataframe thead th {\n",
       "        text-align: right;\n",
       "    }\n",
       "</style>\n",
       "<table border=\"1\" class=\"dataframe\">\n",
       "  <thead>\n",
       "    <tr style=\"text-align: right;\">\n",
       "      <th></th>\n",
       "      <th>age</th>\n",
       "      <th>workclass</th>\n",
       "      <th>education</th>\n",
       "      <th>marital.status</th>\n",
       "      <th>occupation</th>\n",
       "      <th>relationship</th>\n",
       "      <th>race</th>\n",
       "      <th>sex</th>\n",
       "      <th>capital.gain</th>\n",
       "      <th>capital.loss</th>\n",
       "      <th>hours.per.week</th>\n",
       "      <th>native.country</th>\n",
       "      <th>income</th>\n",
       "    </tr>\n",
       "  </thead>\n",
       "  <tbody>\n",
       "    <tr>\n",
       "      <th>0</th>\n",
       "      <td>90</td>\n",
       "      <td>3</td>\n",
       "      <td>9</td>\n",
       "      <td>6</td>\n",
       "      <td>9</td>\n",
       "      <td>1</td>\n",
       "      <td>4</td>\n",
       "      <td>0</td>\n",
       "      <td>0</td>\n",
       "      <td>4356</td>\n",
       "      <td>40</td>\n",
       "      <td>38</td>\n",
       "      <td>0</td>\n",
       "    </tr>\n",
       "    <tr>\n",
       "      <th>1</th>\n",
       "      <td>82</td>\n",
       "      <td>3</td>\n",
       "      <td>9</td>\n",
       "      <td>6</td>\n",
       "      <td>3</td>\n",
       "      <td>1</td>\n",
       "      <td>4</td>\n",
       "      <td>0</td>\n",
       "      <td>0</td>\n",
       "      <td>4356</td>\n",
       "      <td>18</td>\n",
       "      <td>38</td>\n",
       "      <td>0</td>\n",
       "    </tr>\n",
       "    <tr>\n",
       "      <th>2</th>\n",
       "      <td>66</td>\n",
       "      <td>3</td>\n",
       "      <td>10</td>\n",
       "      <td>6</td>\n",
       "      <td>9</td>\n",
       "      <td>4</td>\n",
       "      <td>2</td>\n",
       "      <td>0</td>\n",
       "      <td>0</td>\n",
       "      <td>4356</td>\n",
       "      <td>40</td>\n",
       "      <td>38</td>\n",
       "      <td>0</td>\n",
       "    </tr>\n",
       "    <tr>\n",
       "      <th>3</th>\n",
       "      <td>54</td>\n",
       "      <td>3</td>\n",
       "      <td>4</td>\n",
       "      <td>0</td>\n",
       "      <td>6</td>\n",
       "      <td>4</td>\n",
       "      <td>4</td>\n",
       "      <td>0</td>\n",
       "      <td>0</td>\n",
       "      <td>3900</td>\n",
       "      <td>40</td>\n",
       "      <td>38</td>\n",
       "      <td>0</td>\n",
       "    </tr>\n",
       "    <tr>\n",
       "      <th>4</th>\n",
       "      <td>41</td>\n",
       "      <td>3</td>\n",
       "      <td>10</td>\n",
       "      <td>5</td>\n",
       "      <td>9</td>\n",
       "      <td>3</td>\n",
       "      <td>4</td>\n",
       "      <td>0</td>\n",
       "      <td>0</td>\n",
       "      <td>3900</td>\n",
       "      <td>40</td>\n",
       "      <td>38</td>\n",
       "      <td>0</td>\n",
       "    </tr>\n",
       "    <tr>\n",
       "      <th>5</th>\n",
       "      <td>34</td>\n",
       "      <td>3</td>\n",
       "      <td>9</td>\n",
       "      <td>0</td>\n",
       "      <td>7</td>\n",
       "      <td>4</td>\n",
       "      <td>4</td>\n",
       "      <td>0</td>\n",
       "      <td>0</td>\n",
       "      <td>3770</td>\n",
       "      <td>45</td>\n",
       "      <td>38</td>\n",
       "      <td>0</td>\n",
       "    </tr>\n",
       "    <tr>\n",
       "      <th>6</th>\n",
       "      <td>38</td>\n",
       "      <td>3</td>\n",
       "      <td>6</td>\n",
       "      <td>5</td>\n",
       "      <td>0</td>\n",
       "      <td>4</td>\n",
       "      <td>4</td>\n",
       "      <td>1</td>\n",
       "      <td>0</td>\n",
       "      <td>3770</td>\n",
       "      <td>40</td>\n",
       "      <td>38</td>\n",
       "      <td>0</td>\n",
       "    </tr>\n",
       "    <tr>\n",
       "      <th>7</th>\n",
       "      <td>74</td>\n",
       "      <td>6</td>\n",
       "      <td>16</td>\n",
       "      <td>4</td>\n",
       "      <td>9</td>\n",
       "      <td>2</td>\n",
       "      <td>4</td>\n",
       "      <td>0</td>\n",
       "      <td>0</td>\n",
       "      <td>3683</td>\n",
       "      <td>20</td>\n",
       "      <td>38</td>\n",
       "      <td>1</td>\n",
       "    </tr>\n",
       "    <tr>\n",
       "      <th>8</th>\n",
       "      <td>68</td>\n",
       "      <td>0</td>\n",
       "      <td>9</td>\n",
       "      <td>0</td>\n",
       "      <td>9</td>\n",
       "      <td>1</td>\n",
       "      <td>4</td>\n",
       "      <td>0</td>\n",
       "      <td>0</td>\n",
       "      <td>3683</td>\n",
       "      <td>40</td>\n",
       "      <td>38</td>\n",
       "      <td>0</td>\n",
       "    </tr>\n",
       "    <tr>\n",
       "      <th>9</th>\n",
       "      <td>41</td>\n",
       "      <td>3</td>\n",
       "      <td>10</td>\n",
       "      <td>4</td>\n",
       "      <td>2</td>\n",
       "      <td>4</td>\n",
       "      <td>4</td>\n",
       "      <td>1</td>\n",
       "      <td>0</td>\n",
       "      <td>3004</td>\n",
       "      <td>60</td>\n",
       "      <td>38</td>\n",
       "      <td>1</td>\n",
       "    </tr>\n",
       "  </tbody>\n",
       "</table>\n",
       "</div>"
      ],
      "text/plain": [
       "   age  workclass  education  marital.status  occupation  relationship  race  \\\n",
       "0   90          3          9               6           9             1     4   \n",
       "1   82          3          9               6           3             1     4   \n",
       "2   66          3         10               6           9             4     2   \n",
       "3   54          3          4               0           6             4     4   \n",
       "4   41          3         10               5           9             3     4   \n",
       "5   34          3          9               0           7             4     4   \n",
       "6   38          3          6               5           0             4     4   \n",
       "7   74          6         16               4           9             2     4   \n",
       "8   68          0          9               0           9             1     4   \n",
       "9   41          3         10               4           2             4     4   \n",
       "\n",
       "   sex  capital.gain  capital.loss  hours.per.week  native.country  income  \n",
       "0    0             0          4356              40              38       0  \n",
       "1    0             0          4356              18              38       0  \n",
       "2    0             0          4356              40              38       0  \n",
       "3    0             0          3900              40              38       0  \n",
       "4    0             0          3900              40              38       0  \n",
       "5    0             0          3770              45              38       0  \n",
       "6    1             0          3770              40              38       0  \n",
       "7    0             0          3683              20              38       1  \n",
       "8    0             0          3683              40              38       0  \n",
       "9    1             0          3004              60              38       1  "
      ]
     },
     "execution_count": 21,
     "metadata": {},
     "output_type": "execute_result"
    }
   ],
   "source": [
    "for column in categorical:\n",
    "    df[column] = label_encoder.fit_transform(df[column])\n",
    "\n",
    "df.head(10)"
   ]
  },
  {
   "cell_type": "markdown",
   "id": "dc6afdba",
   "metadata": {
    "papermill": {
     "duration": 0.012282,
     "end_time": "2023-11-03T03:59:20.888171",
     "exception": false,
     "start_time": "2023-11-03T03:59:20.875889",
     "status": "completed"
    },
    "tags": []
   },
   "source": [
    "### Model Training\n",
    "1. Importing needed libraries and DT Classifier \n",
    "2. Splitting Dataset into Train/Test\n",
    "3. Training Model\n",
    "4. Evakluation Metrics"
   ]
  },
  {
   "cell_type": "code",
   "execution_count": 22,
   "id": "6131b405",
   "metadata": {
    "execution": {
     "iopub.execute_input": "2023-11-03T03:59:20.916149Z",
     "iopub.status.busy": "2023-11-03T03:59:20.915374Z",
     "iopub.status.idle": "2023-11-03T03:59:21.400378Z",
     "shell.execute_reply": "2023-11-03T03:59:21.398674Z"
    },
    "papermill": {
     "duration": 0.501936,
     "end_time": "2023-11-03T03:59:21.402680",
     "exception": false,
     "start_time": "2023-11-03T03:59:20.900744",
     "status": "completed"
    },
    "tags": []
   },
   "outputs": [],
   "source": [
    "from sklearn.model_selection import train_test_split\n",
    "from sklearn.tree import DecisionTreeClassifier\n",
    "from sklearn.metrics import accuracy_score, classification_report"
   ]
  },
  {
   "cell_type": "code",
   "execution_count": 23,
   "id": "30682297",
   "metadata": {
    "execution": {
     "iopub.execute_input": "2023-11-03T03:59:21.433952Z",
     "iopub.status.busy": "2023-11-03T03:59:21.433598Z",
     "iopub.status.idle": "2023-11-03T03:59:21.457877Z",
     "shell.execute_reply": "2023-11-03T03:59:21.456466Z"
    },
    "papermill": {
     "duration": 0.04332,
     "end_time": "2023-11-03T03:59:21.460256",
     "exception": false,
     "start_time": "2023-11-03T03:59:21.416936",
     "status": "completed"
    },
    "tags": []
   },
   "outputs": [],
   "source": [
    "y = df['income']\n",
    "X = df.drop('income',axis=1)\n",
    "\n",
    "X_train, X_test, y_train, y_test = train_test_split(X, y, test_size=0.3, stratify=y, random_state=1)"
   ]
  },
  {
   "cell_type": "code",
   "execution_count": 24,
   "id": "a17655a9",
   "metadata": {
    "execution": {
     "iopub.execute_input": "2023-11-03T03:59:21.487008Z",
     "iopub.status.busy": "2023-11-03T03:59:21.486380Z",
     "iopub.status.idle": "2023-11-03T03:59:21.492274Z",
     "shell.execute_reply": "2023-11-03T03:59:21.491397Z"
    },
    "papermill": {
     "duration": 0.021782,
     "end_time": "2023-11-03T03:59:21.494565",
     "exception": false,
     "start_time": "2023-11-03T03:59:21.472783",
     "status": "completed"
    },
    "tags": []
   },
   "outputs": [
    {
     "data": {
      "text/plain": [
       "['age',\n",
       " 'workclass',\n",
       " 'education',\n",
       " 'marital.status',\n",
       " 'occupation',\n",
       " 'relationship',\n",
       " 'race',\n",
       " 'sex',\n",
       " 'capital.gain',\n",
       " 'capital.loss',\n",
       " 'hours.per.week',\n",
       " 'native.country']"
      ]
     },
     "execution_count": 24,
     "metadata": {},
     "output_type": "execute_result"
    }
   ],
   "source": [
    "features = list(df.columns[:-1])\n",
    "features"
   ]
  },
  {
   "cell_type": "code",
   "execution_count": 25,
   "id": "7b29c48c",
   "metadata": {
    "execution": {
     "iopub.execute_input": "2023-11-03T03:59:21.522295Z",
     "iopub.status.busy": "2023-11-03T03:59:21.521910Z",
     "iopub.status.idle": "2023-11-03T03:59:21.622890Z",
     "shell.execute_reply": "2023-11-03T03:59:21.621702Z"
    },
    "papermill": {
     "duration": 0.117763,
     "end_time": "2023-11-03T03:59:21.625525",
     "exception": false,
     "start_time": "2023-11-03T03:59:21.507762",
     "status": "completed"
    },
    "tags": []
   },
   "outputs": [],
   "source": [
    "clf = DecisionTreeClassifier()\n",
    "clf = clf.fit(X_train, y_train)"
   ]
  },
  {
   "cell_type": "code",
   "execution_count": 26,
   "id": "a46b5f5f",
   "metadata": {
    "execution": {
     "iopub.execute_input": "2023-11-03T03:59:21.653271Z",
     "iopub.status.busy": "2023-11-03T03:59:21.652136Z",
     "iopub.status.idle": "2023-11-03T03:59:21.660016Z",
     "shell.execute_reply": "2023-11-03T03:59:21.658519Z"
    },
    "papermill": {
     "duration": 0.024325,
     "end_time": "2023-11-03T03:59:21.662632",
     "exception": false,
     "start_time": "2023-11-03T03:59:21.638307",
     "status": "completed"
    },
    "tags": []
   },
   "outputs": [
    {
     "data": {
      "text/plain": [
       "{'ccp_alpha': 0.0,\n",
       " 'class_weight': None,\n",
       " 'criterion': 'gini',\n",
       " 'max_depth': None,\n",
       " 'max_features': None,\n",
       " 'max_leaf_nodes': None,\n",
       " 'min_impurity_decrease': 0.0,\n",
       " 'min_samples_leaf': 1,\n",
       " 'min_samples_split': 2,\n",
       " 'min_weight_fraction_leaf': 0.0,\n",
       " 'random_state': None,\n",
       " 'splitter': 'best'}"
      ]
     },
     "execution_count": 26,
     "metadata": {},
     "output_type": "execute_result"
    }
   ],
   "source": [
    "clf.get_params()"
   ]
  },
  {
   "cell_type": "code",
   "execution_count": 27,
   "id": "66e222b9",
   "metadata": {
    "execution": {
     "iopub.execute_input": "2023-11-03T03:59:21.689940Z",
     "iopub.status.busy": "2023-11-03T03:59:21.689588Z",
     "iopub.status.idle": "2023-11-03T03:59:21.698868Z",
     "shell.execute_reply": "2023-11-03T03:59:21.697320Z"
    },
    "papermill": {
     "duration": 0.025696,
     "end_time": "2023-11-03T03:59:21.701276",
     "exception": false,
     "start_time": "2023-11-03T03:59:21.675580",
     "status": "completed"
    },
    "tags": []
   },
   "outputs": [],
   "source": [
    "predictions = clf.predict(X_test)"
   ]
  },
  {
   "cell_type": "code",
   "execution_count": 28,
   "id": "fbe8ef9c",
   "metadata": {
    "execution": {
     "iopub.execute_input": "2023-11-03T03:59:21.729208Z",
     "iopub.status.busy": "2023-11-03T03:59:21.728775Z",
     "iopub.status.idle": "2023-11-03T03:59:21.736054Z",
     "shell.execute_reply": "2023-11-03T03:59:21.734467Z"
    },
    "papermill": {
     "duration": 0.023818,
     "end_time": "2023-11-03T03:59:21.738263",
     "exception": false,
     "start_time": "2023-11-03T03:59:21.714445",
     "status": "completed"
    },
    "tags": []
   },
   "outputs": [
    {
     "name": "stdout",
     "output_type": "stream",
     "text": [
      "[0, 0, 0, 0, 1, 0, 0, 0, 1, 0, 0, 1, 0, 0, 0, 1, 1, 0, 1, 1, 0, 0, 0, 0, 1, 0, 1, 0, 0, 0, 0, 1, 0, 0, 1, 0, 0, 0, 0, 1, 0, 0, 0, 0, 0, 1, 1, 1, 0, 0, 0, 0, 0, 1, 0, 0, 0, 0, 0, 0, 0, 0, 0, 1, 0, 0, 1, 0, 0, 1, 1, 0, 0, 1, 1, 0, 0, 0, 0, 0, 1, 0, 0, 1, 0, 0, 0, 1, 0, 1, 0, 0, 1, 0, 1, 0, 0, 1, 0, 0]\n"
     ]
    }
   ],
   "source": [
    "new =[]\n",
    "for i in range(0,100):\n",
    "    new.append(predictions[i])\n",
    "print(new)"
   ]
  },
  {
   "cell_type": "code",
   "execution_count": 29,
   "id": "9c9113d7",
   "metadata": {
    "execution": {
     "iopub.execute_input": "2023-11-03T03:59:21.767633Z",
     "iopub.status.busy": "2023-11-03T03:59:21.767266Z",
     "iopub.status.idle": "2023-11-03T03:59:21.774851Z",
     "shell.execute_reply": "2023-11-03T03:59:21.774233Z"
    },
    "papermill": {
     "duration": 0.023471,
     "end_time": "2023-11-03T03:59:21.776736",
     "exception": false,
     "start_time": "2023-11-03T03:59:21.753265",
     "status": "completed"
    },
    "tags": []
   },
   "outputs": [
    {
     "data": {
      "text/plain": [
       "0.8190944478590453"
      ]
     },
     "execution_count": 29,
     "metadata": {},
     "output_type": "execute_result"
    }
   ],
   "source": [
    "from sklearn.metrics import accuracy_score\n",
    "accuracy_score(y_test, predictions)"
   ]
  },
  {
   "cell_type": "code",
   "execution_count": 30,
   "id": "eef4be5e",
   "metadata": {
    "execution": {
     "iopub.execute_input": "2023-11-03T03:59:21.804883Z",
     "iopub.status.busy": "2023-11-03T03:59:21.804251Z",
     "iopub.status.idle": "2023-11-03T03:59:21.813129Z",
     "shell.execute_reply": "2023-11-03T03:59:21.812425Z"
    },
    "papermill": {
     "duration": 0.025202,
     "end_time": "2023-11-03T03:59:21.815384",
     "exception": false,
     "start_time": "2023-11-03T03:59:21.790182",
     "status": "completed"
    },
    "tags": []
   },
   "outputs": [
    {
     "data": {
      "text/plain": [
       "array([[1.        , 0.        ],\n",
       "       [1.        , 0.        ],\n",
       "       [1.        , 0.        ],\n",
       "       [1.        , 0.        ],\n",
       "       [0.33333333, 0.66666667],\n",
       "       [1.        , 0.        ],\n",
       "       [1.        , 0.        ],\n",
       "       [1.        , 0.        ],\n",
       "       [0.        , 1.        ],\n",
       "       [1.        , 0.        ]])"
      ]
     },
     "execution_count": 30,
     "metadata": {},
     "output_type": "execute_result"
    }
   ],
   "source": [
    "clf.predict_proba(X_test[:10])"
   ]
  },
  {
   "cell_type": "code",
   "execution_count": 31,
   "id": "467d1881",
   "metadata": {
    "execution": {
     "iopub.execute_input": "2023-11-03T03:59:21.844511Z",
     "iopub.status.busy": "2023-11-03T03:59:21.844119Z",
     "iopub.status.idle": "2023-11-03T03:59:21.871793Z",
     "shell.execute_reply": "2023-11-03T03:59:21.870378Z"
    },
    "papermill": {
     "duration": 0.044428,
     "end_time": "2023-11-03T03:59:21.873760",
     "exception": false,
     "start_time": "2023-11-03T03:59:21.829332",
     "status": "completed"
    },
    "tags": []
   },
   "outputs": [
    {
     "name": "stdout",
     "output_type": "stream",
     "text": [
      "Accuracy: 0.819\n",
      "Precision: 0.628\n",
      "Recall: 0.611\n",
      "F1-score: 0.619\n",
      "Confusion\n",
      "[[6560  850]\n",
      " [ 916 1436]]\n"
     ]
    }
   ],
   "source": [
    "from sklearn.metrics import accuracy_score, precision_score, recall_score, f1_score, classification_report, confusion_matrix\n",
    "y_pred = predictions\n",
    "\n",
    "y_true = y_test\n",
    "y_pred = clf.predict(X_test)\n",
    "\n",
    "\n",
    "accuracy = accuracy_score(y_true, y_pred)\n",
    "print(\"Accuracy: {:.3f}\".format(accuracy))\n",
    "\n",
    "\n",
    "precision = precision_score(y_true, y_pred)\n",
    "print(\"Precision: {:.3f}\".format(precision))\n",
    "\n",
    "\n",
    "recall = recall_score(y_true, y_pred)\n",
    "print(\"Recall: {:.3f}\".format(recall))\n",
    "\n",
    "f1 = f1_score(y_true, y_pred)\n",
    "print(\"F1-score: {:.3f}\".format(f1))\n",
    "\n",
    "confusion = confusion_matrix(y_true, y_pred)\n",
    "print('Confusion')\n",
    "print(confusion)"
   ]
  },
  {
   "cell_type": "code",
   "execution_count": 32,
   "id": "963f7c10",
   "metadata": {
    "execution": {
     "iopub.execute_input": "2023-11-03T03:59:21.901807Z",
     "iopub.status.busy": "2023-11-03T03:59:21.901292Z",
     "iopub.status.idle": "2023-11-03T03:59:21.922751Z",
     "shell.execute_reply": "2023-11-03T03:59:21.921844Z"
    },
    "papermill": {
     "duration": 0.037985,
     "end_time": "2023-11-03T03:59:21.924843",
     "exception": false,
     "start_time": "2023-11-03T03:59:21.886858",
     "status": "completed"
    },
    "tags": []
   },
   "outputs": [
    {
     "name": "stdout",
     "output_type": "stream",
     "text": [
      "Accuracy: 0.82\n",
      "Precision: 0.82\n",
      "Recall: 0.82\n",
      "F1-Score: 0.82\n",
      "\n",
      "Confusion Matrix:\n",
      "[[6560  850]\n",
      " [ 916 1436]]\n"
     ]
    }
   ],
   "source": [
    "from sklearn.metrics import accuracy_score, precision_score, recall_score, f1_score, classification_report, confusion_matrix\n",
    "y_pred = predictions\n",
    "\n",
    "# Calculate and print evaluation metrics\n",
    "accuracy = accuracy_score(y_test, y_pred)\n",
    "precision = precision_score(y_test, y_pred, average='weighted')\n",
    "recall = recall_score(y_test, y_pred, average='weighted')\n",
    "f1 = f1_score(y_test, y_pred, average='weighted')\n",
    "confusion = confusion_matrix(y_test, y_pred)\n",
    "#report = classification_report(y_test, y_pred, target_names=X.target_names)\n",
    "\n",
    "print(f\"Accuracy: {accuracy:.2f}\")\n",
    "print(f\"Precision: {precision:.2f}\")\n",
    "print(f\"Recall: {recall:.2f}\")\n",
    "print(f\"F1-Score: {f1:.2f}\")\n",
    "print(\"\\nConfusion Matrix:\")\n",
    "print(confusion)\n",
    "#print(\"\\nClassification Report:\")\n",
    "#print(report)"
   ]
  },
  {
   "cell_type": "code",
   "execution_count": null,
   "id": "a3c44e41",
   "metadata": {
    "papermill": {
     "duration": 0.012685,
     "end_time": "2023-11-03T03:59:21.950928",
     "exception": false,
     "start_time": "2023-11-03T03:59:21.938243",
     "status": "completed"
    },
    "tags": []
   },
   "outputs": [],
   "source": []
  }
 ],
 "metadata": {
  "kernelspec": {
   "display_name": "Python 3 (ipykernel)",
   "language": "python",
   "name": "python3"
  },
  "language_info": {
   "codemirror_mode": {
    "name": "ipython",
    "version": 3
   },
   "file_extension": ".py",
   "mimetype": "text/x-python",
   "name": "python",
   "nbconvert_exporter": "python",
   "pygments_lexer": "ipython3",
   "version": "3.9.13"
  },
  "papermill": {
   "default_parameters": {},
   "duration": 10.063317,
   "end_time": "2023-11-03T03:59:22.684541",
   "environment_variables": {},
   "exception": null,
   "input_path": "__notebook__.ipynb",
   "output_path": "__notebook__.ipynb",
   "parameters": {},
   "start_time": "2023-11-03T03:59:12.621224",
   "version": "2.4.0"
  }
 },
 "nbformat": 4,
 "nbformat_minor": 5
}
